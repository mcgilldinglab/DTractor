{
 "cells": [
  {
   "cell_type": "markdown",
   "id": "36aa1954",
   "metadata": {},
   "source": [
    "# Required library"
   ]
  },
  {
   "cell_type": "code",
   "execution_count": 1,
   "id": "989767a8",
   "metadata": {},
   "outputs": [
    {
     "name": "stderr",
     "output_type": "stream",
     "text": [
      "Global seed set to 0\n",
      "Global seed set to 42\n"
     ]
    },
    {
     "name": "stdout",
     "output_type": "stream",
     "text": [
      "Global seed set to 42\n",
      "Note: To reproduce our results, please use this same seed value.\n"
     ]
    }
   ],
   "source": [
    "import pandas as pd \n",
    "import scanpy as sc\n",
    "import numpy as np\n",
    "import torch\n",
    "import random\n",
    "import scvi\n",
    "import matplotlib.pyplot as plt\n",
    "from scipy.spatial.distance import pdist, squareform\n",
    "from sklearn.neighbors import NearestNeighbors   \n",
    "import statsmodels.api as sm\n",
    "import torch.optim as optim\n",
    "import torch.nn.functional as F\n",
    "import plotly.express as px\n",
    "import seaborn as sns\n",
    "import math\n",
    "from sklearn.decomposition import PCA\n",
    "from sklearn import preprocessing\n",
    "\n",
    "seed = 42\n",
    "\n",
    "# Setting a fixed seed ensures reproducibility of results\n",
    "# This is important for scientific work and debugging\n",
    "def set_seed(seed):\n",
    "    random.seed(seed)\n",
    "    np.random.seed(seed)\n",
    "    torch.manual_seed(seed)\n",
    "    scvi.settings.seed = seed \n",
    "    \n",
    "    if torch.cuda.is_available():\n",
    "        torch.cuda.manual_seed(seed)\n",
    "        torch.cuda.manual_seed_all(seed)\n",
    "        torch.backends.cudnn.deterministic = True\n",
    "        torch.backends.cudnn.benchmark = False\n",
    "\n",
    "# Set the seed to ensure reproducible results\n",
    "set_seed(seed)\n",
    "print(f\"Global seed set to {seed}\")\n",
    "print(\"Note: To reproduce our results, please use this same seed value.\")"
   ]
  },
  {
   "cell_type": "code",
   "execution_count": 2,
   "id": "46faac29",
   "metadata": {},
   "outputs": [
    {
     "name": "stdout",
     "output_type": "stream",
     "text": [
      "\n",
      "================================================================================\n",
      "IMPORTANT PREPROCESSING REQUIREMENTS:\n",
      "================================================================================\n",
      "Before using this notebook, please ensure both datasets are properly preprocessed:\n",
      "\n",
      "For spatial transcriptomics data:\n",
      "  - Filter low-quality spots (low gene count, high mitochondrial content)\n",
      "  - Normalize counts (e.g., using sc.pp.normalize_total)\n",
      "  - Log-transform data (e.g., using sc.pp.log1p)\n",
      "  - Store spatial coordinates in .obsm['spatial']\n",
      "  - Identify highly variable genes (e.g., using sc.pp.highly_variable_genes)\n",
      "  - Filter out mitochondria-encoded genes if needed\n",
      "  - batch corrections if needed\n",
      "\n",
      "For single-cell/nucleus reference data:\n",
      "  - Filter low-quality cells (low gene count, high mitochondrial content)\n",
      "  - Normalize counts (e.g., using sc.pp.normalize_total)\n",
      "  - Log-transform data (e.g., using sc.pp.log1p)\n",
      "  - Annotate cell types in .obs['celltype']\n",
      "  - Identify highly variable genes (e.g., using sc.pp.highly_variable_genes)\n",
      "  - Consider using cell2location's filter_genes() to select informative genes\n",
      "    that separate cell types in your reference data\n",
      "  - batch corrections if needed\n",
      "================================================================================\n",
      "\n",
      "IMPORTANT DATA STRUCTURE REQUIREMENTS:\n",
      "================================================================================\n",
      "The AnnData objects must have specific structures:\n",
      "  - Spatial transcriptomics data: Must have spatial coordinates in .obsm['spatial'] and .obs['annotation'] if ST has manual annotation reference\n",
      "  - Single-cell/nucleus reference data: Must have cell type annotations in .obs['celltype']\n",
      "================================================================================\n"
     ]
    }
   ],
   "source": [
    "# Note to users about preprocessing requirements\n",
    "print(\"\\n\" + \"=\"*80)\n",
    "print(\"IMPORTANT PREPROCESSING REQUIREMENTS:\")\n",
    "print(\"=\"*80)\n",
    "print(\"Before using this notebook, please ensure both datasets are properly preprocessed:\")\n",
    "print(\"\")\n",
    "print(\"For spatial transcriptomics data:\")\n",
    "print(\"  - Filter low-quality spots (low gene count, high mitochondrial content)\")\n",
    "print(\"  - Normalize counts (e.g., using sc.pp.normalize_total)\")\n",
    "print(\"  - Log-transform data (e.g., using sc.pp.log1p)\")\n",
    "print(\"  - Store spatial coordinates in .obsm['spatial']\")\n",
    "print(\"  - Identify highly variable genes (e.g., using sc.pp.highly_variable_genes)\")\n",
    "print(\"  - Filter out mitochondria-encoded genes if needed\")\n",
    "print(\"  - batch corrections if needed\")\n",
    "print(\"\")\n",
    "print(\"For single-cell/nucleus reference data:\")\n",
    "print(\"  - Filter low-quality cells (low gene count, high mitochondrial content)\")\n",
    "print(\"  - Normalize counts (e.g., using sc.pp.normalize_total)\")\n",
    "print(\"  - Log-transform data (e.g., using sc.pp.log1p)\")\n",
    "print(\"  - Annotate cell types in .obs['celltype']\")\n",
    "print(\"  - Identify highly variable genes (e.g., using sc.pp.highly_variable_genes)\")\n",
    "print(\"  - Consider using cell2location's filter_genes() to select informative genes\")\n",
    "print(\"    that separate cell types in your reference data\")\n",
    "print(\"  - batch corrections if needed\")\n",
    "print(\"=\"*80)\n",
    "print(\"\")\n",
    "print(\"IMPORTANT DATA STRUCTURE REQUIREMENTS:\")\n",
    "print(\"=\"*80)\n",
    "print(\"The AnnData objects must have specific structures:\")\n",
    "print(\"  - Spatial transcriptomics data: Must have spatial coordinates in .obsm['spatial'] and .obs['annotation'] if ST has manual annotation reference\")\n",
    "print(\"  - Single-cell/nucleus reference data: Must have cell type annotations in .obs['celltype']\")\n",
    "print(\"=\"*80)\n"
   ]
  },
  {
   "cell_type": "markdown",
   "id": "405fbc55-a30c-4345-8d40-178d4adf015a",
   "metadata": {
    "tags": []
   },
   "source": [
    "# datasets"
   ]
  },
  {
   "cell_type": "code",
   "execution_count": 3,
   "id": "b686842b-5a1a-462b-bcc2-2b308b0c2547",
   "metadata": {},
   "outputs": [
    {
     "name": "stdout",
     "output_type": "stream",
     "text": [
      "⚠️ WARNING: In AnnData, rows (obs) should be spots and columns (var) should be genes\n",
      "adata spatial data is valid: 428 spots x 22237 genes\n",
      "⚠️ WARNING: In AnnData, rows (obs) should be cells and columns (var) should be genes\n",
      "adata reference data is valid: 1926 cells x 14475 genes\n",
      "Found 13402 common genes between reference and visium datasets\n",
      "These common genes will be used for downstream analysis\n"
     ]
    }
   ],
   "source": [
    "def validate_spatial_data(adata_vis):\n",
    "    \"\"\"\n",
    "    Validate spatial transcriptomics data in AnnData format.\n",
    "    \n",
    "    Parameters\n",
    "    ----------\n",
    "    adata_vis : AnnData\n",
    "        AnnData object containing spatial transcriptomics data\n",
    "        \n",
    "    Returns\n",
    "    -------\n",
    "    AnnData\n",
    "        The validated AnnData object\n",
    "        \n",
    "    Raises\n",
    "    ------\n",
    "    TypeError\n",
    "        If adata_vis is not an AnnData object or X is not array/sparse\n",
    "    ValueError\n",
    "        If X dimensions or spatial coordinates are invalid\n",
    "    KeyError\n",
    "        If spatial coordinates are missing\n",
    "    \"\"\"\n",
    "    # Check if it's an AnnData object\n",
    "    if not isinstance(adata_vis, sc.AnnData):\n",
    "        raise TypeError(\"adata_vis is not an AnnData object\")\n",
    "\n",
    "    # Check if X is an array with numeric dtype\n",
    "    if not isinstance(adata_vis.X, np.ndarray) and not scipy.sparse.issparse(adata_vis.X):\n",
    "        raise TypeError(\"adata_vis.X is not an array or sparse matrix\")\n",
    "        \n",
    "    # Check dimensions of X\n",
    "    p, q = adata_vis.X.shape\n",
    "    if p <= 0 or q <= 0:\n",
    "        raise ValueError(f\"adata_vis.X has invalid dimensions: {adata_vis.X.shape}\")\n",
    "\n",
    "    # Check if spatial is in obsm\n",
    "    if 'spatial' not in adata_vis.obsm:\n",
    "        raise KeyError(\"adata_vis.obsm does not contain 'spatial'. Please ensure your AnnData object has spatial coordinates in obsm['spatial'].\")\n",
    "        \n",
    "    # Check if spatial is an n x 2 array\n",
    "    if adata_vis.obsm['spatial'].shape[1] != 2:\n",
    "        raise ValueError(f\"adata_vis.obsm['spatial'] should be n x 2, but is {adata_vis.obsm['spatial'].shape}\")\n",
    "\n",
    "    # Warning about AnnData dimensions\n",
    "    print(\"⚠️ WARNING: In AnnData, rows (obs) should be spots and columns (var) should be genes\")\n",
    "    print(f\"adata spatial data is valid: {adata_vis.shape[0]} spots x {adata_vis.shape[1]} genes\")\n",
    "    \n",
    "    return adata_vis\n",
    "\n",
    "# Read and validate the dataset\n",
    "# adata_vis = validate_spatial_data(sc.read_h5ad(\"spatial_example.h5ad\"))\n",
    "adata_vis = validate_spatial_data(sc.read_h5ad(\"adata_vis_13402.h5ad\"))\n",
    "\n",
    "\n",
    "def validate_reference_data(adata_ref):\n",
    "    \"\"\"\n",
    "    Validate reference AnnData object for single-cell analysis.\n",
    "    \n",
    "    Parameters\n",
    "    ----------\n",
    "    adata_ref : AnnData\n",
    "        The reference AnnData object to validate\n",
    "        \n",
    "    Returns\n",
    "    -------\n",
    "    AnnData\n",
    "        The validated AnnData object\n",
    "        \n",
    "    Raises\n",
    "    ------\n",
    "    TypeError\n",
    "        If adata_ref is not an AnnData object or X is not array/sparse\n",
    "    ValueError\n",
    "        If X dimensions are invalid\n",
    "    KeyError\n",
    "        If celltype annotations are missing\n",
    "    \"\"\"\n",
    "    # Check if it's an AnnData object\n",
    "    if not isinstance(adata_ref, sc.AnnData):\n",
    "        raise TypeError(\"adata_ref is not an AnnData object\")\n",
    "\n",
    "    # Check if X is an array with numeric dtype\n",
    "    if not isinstance(adata_ref.X, np.ndarray) and not scipy.sparse.issparse(adata_ref.X):\n",
    "        raise TypeError(\"adata_ref.X is not an array or sparse matrix\")\n",
    "        \n",
    "    # Check dimensions of X\n",
    "    p, q = adata_ref.X.shape\n",
    "    if p <= 0 or q <= 0:\n",
    "        raise ValueError(f\"adata_ref.X has invalid dimensions: {adata_ref.X.shape}\")\n",
    "\n",
    "    # Check if celltype is in obs\n",
    "    if 'celltype' not in adata_ref.obs:\n",
    "        raise KeyError(\"adata_ref.obs does not contain 'celltype'. Please ensure your AnnData object has celltype annotations.\")\n",
    "\n",
    "    # Warning about AnnData dimensions\n",
    "    print(\"⚠️ WARNING: In AnnData, rows (obs) should be cells and columns (var) should be genes\")\n",
    "    print(f\"adata reference data is valid: {adata_ref.shape[0]} cells x {adata_ref.shape[1]} genes\")\n",
    "    \n",
    "    return adata_ref\n",
    "\n",
    "# Read and validate the dataset\n",
    "# adata_ref = validate_reference_data(sc.read_h5ad(\"reference_example.h5ad\"))\n",
    "adata_ref = validate_reference_data(sc.read_h5ad(\"adata_ref_13402.h5ad\"))\n",
    "\n",
    "\n",
    "# Find common genes between reference and visium datasets\n",
    "common_genes = np.intersect1d(adata_ref.var.index, adata_vis.var.index)\n",
    "print(f\"Found {common_genes.shape[0]} common genes between reference and visium datasets\")\n",
    "print(\"These common genes will be used for downstream analysis\")\n"
   ]
  },
  {
   "cell_type": "markdown",
   "id": "49696dd9-495f-4867-86ff-6dbdc1454ec9",
   "metadata": {
    "jp-MarkdownHeadingCollapsed": true,
    "tags": []
   },
   "source": [
    "# scvi VAE "
   ]
  },
  {
   "cell_type": "code",
   "execution_count": 4,
   "id": "4cc39dae-f33a-4f20-b7ed-813e5e46878a",
   "metadata": {},
   "outputs": [
    {
     "name": "stderr",
     "output_type": "stream",
     "text": [
      "Global seed set to 42\n",
      "No GPU/TPU found, falling back to CPU. (Set TF_CPP_MIN_LOG_LEVEL=0 and rerun for more info.)\n",
      "/mnt/md0/jin/anaconda3/lib/python3.9/site-packages/scvi/data/fields/_layer_field.py:90: UserWarning: adata.layers[data] does not contain unnormalized count data. Are you sure this is what you want?\n",
      "  warnings.warn(\n",
      "Global seed set to 42\n",
      "GPU available: True (cuda), used: True\n",
      "TPU available: False, using: 0 TPU cores\n",
      "IPU available: False, using: 0 IPUs\n",
      "HPU available: False, using: 0 HPUs\n",
      "You are using a CUDA device ('NVIDIA GeForce RTX 4090') that has Tensor Cores. To properly utilize them, you should set `torch.set_float32_matmul_precision('medium' | 'high')` which will trade-off precision for performance. For more details, read https://pytorch.org/docs/stable/generated/torch.set_float32_matmul_precision.html#torch.set_float32_matmul_precision\n"
     ]
    },
    {
     "name": "stdout",
     "output_type": "stream",
     "text": [
      "\n",
      "Checking reference data:\n",
      "Min value in data: 0.0\n",
      "Max value in data: 7.565827369689941\n",
      "Number of negative values: 0\n",
      "Percentage of negative values: 0.0000%\n",
      "\n",
      "Checking spatial data:\n",
      "Min value in data: 0.0\n",
      "Max value in data: 4.2196173667907715\n",
      "Number of negative values: 0\n",
      "Percentage of negative values: 0.0000%\n",
      "\n",
      "Training reference model on GPU\n"
     ]
    },
    {
     "name": "stderr",
     "output_type": "stream",
     "text": [
      "LOCAL_RANK: 0 - CUDA_VISIBLE_DEVICES: [0,1,2]\n"
     ]
    },
    {
     "name": "stdout",
     "output_type": "stream",
     "text": [
      "Epoch 1/50:   0%|          | 0/50 [00:00<?, ?it/s]"
     ]
    },
    {
     "name": "stderr",
     "output_type": "stream",
     "text": [
      "/mnt/md0/jin/anaconda3/lib/python3.9/site-packages/scvi/distributions/_negative_binomial.py:476: UserWarning: The value argument must be within the support of the distribution\n",
      "  warnings.warn(\n",
      "/mnt/md0/jin/anaconda3/lib/python3.9/site-packages/scvi/distributions/_negative_binomial.py:476: UserWarning: The value argument must be within the support of the distribution\n",
      "  warnings.warn(\n"
     ]
    },
    {
     "name": "stdout",
     "output_type": "stream",
     "text": [
      "Epoch 3/50:   4%|▍         | 2/50 [00:01<00:25,  1.85it/s, loss=3.74e+03, v_num=1]"
     ]
    },
    {
     "name": "stderr",
     "output_type": "stream",
     "text": [
      "/mnt/md0/jin/anaconda3/lib/python3.9/site-packages/scvi/distributions/_negative_binomial.py:476: UserWarning: The value argument must be within the support of the distribution\n",
      "  warnings.warn(\n",
      "/mnt/md0/jin/anaconda3/lib/python3.9/site-packages/scvi/distributions/_negative_binomial.py:476: UserWarning: The value argument must be within the support of the distribution\n",
      "  warnings.warn(\n",
      "/mnt/md0/jin/anaconda3/lib/python3.9/site-packages/scvi/distributions/_negative_binomial.py:476: UserWarning: The value argument must be within the support of the distribution\n",
      "  warnings.warn(\n"
     ]
    },
    {
     "name": "stdout",
     "output_type": "stream",
     "text": [
      "Epoch 4/50:   6%|▌         | 3/50 [00:01<00:18,  2.61it/s, loss=3.49e+03, v_num=1]"
     ]
    },
    {
     "name": "stderr",
     "output_type": "stream",
     "text": [
      "/mnt/md0/jin/anaconda3/lib/python3.9/site-packages/scvi/distributions/_negative_binomial.py:476: UserWarning: The value argument must be within the support of the distribution\n",
      "  warnings.warn(\n",
      "/mnt/md0/jin/anaconda3/lib/python3.9/site-packages/scvi/distributions/_negative_binomial.py:476: UserWarning: The value argument must be within the support of the distribution\n",
      "  warnings.warn(\n",
      "/mnt/md0/jin/anaconda3/lib/python3.9/site-packages/scvi/distributions/_negative_binomial.py:476: UserWarning: The value argument must be within the support of the distribution\n",
      "  warnings.warn(\n"
     ]
    },
    {
     "name": "stdout",
     "output_type": "stream",
     "text": [
      "Epoch 6/50:  10%|█         | 5/50 [00:01<00:12,  3.71it/s, loss=3.33e+03, v_num=1]"
     ]
    },
    {
     "name": "stderr",
     "output_type": "stream",
     "text": [
      "/mnt/md0/jin/anaconda3/lib/python3.9/site-packages/scvi/distributions/_negative_binomial.py:476: UserWarning: The value argument must be within the support of the distribution\n",
      "  warnings.warn(\n",
      "/mnt/md0/jin/anaconda3/lib/python3.9/site-packages/scvi/distributions/_negative_binomial.py:476: UserWarning: The value argument must be within the support of the distribution\n",
      "  warnings.warn(\n",
      "/mnt/md0/jin/anaconda3/lib/python3.9/site-packages/scvi/distributions/_negative_binomial.py:476: UserWarning: The value argument must be within the support of the distribution\n",
      "  warnings.warn(\n"
     ]
    },
    {
     "name": "stdout",
     "output_type": "stream",
     "text": [
      "Epoch 7/50:  12%|█▏        | 6/50 [00:02<00:10,  4.18it/s, loss=3.31e+03, v_num=1]"
     ]
    },
    {
     "name": "stderr",
     "output_type": "stream",
     "text": [
      "/mnt/md0/jin/anaconda3/lib/python3.9/site-packages/scvi/distributions/_negative_binomial.py:476: UserWarning: The value argument must be within the support of the distribution\n",
      "  warnings.warn(\n",
      "/mnt/md0/jin/anaconda3/lib/python3.9/site-packages/scvi/distributions/_negative_binomial.py:476: UserWarning: The value argument must be within the support of the distribution\n",
      "  warnings.warn(\n",
      "/mnt/md0/jin/anaconda3/lib/python3.9/site-packages/scvi/distributions/_negative_binomial.py:476: UserWarning: The value argument must be within the support of the distribution\n",
      "  warnings.warn(\n"
     ]
    },
    {
     "name": "stdout",
     "output_type": "stream",
     "text": [
      "Epoch 9/50:  16%|█▌        | 8/50 [00:02<00:09,  4.65it/s, loss=3.28e+03, v_num=1]"
     ]
    },
    {
     "name": "stderr",
     "output_type": "stream",
     "text": [
      "/mnt/md0/jin/anaconda3/lib/python3.9/site-packages/scvi/distributions/_negative_binomial.py:476: UserWarning: The value argument must be within the support of the distribution\n",
      "  warnings.warn(\n",
      "/mnt/md0/jin/anaconda3/lib/python3.9/site-packages/scvi/distributions/_negative_binomial.py:476: UserWarning: The value argument must be within the support of the distribution\n",
      "  warnings.warn(\n",
      "/mnt/md0/jin/anaconda3/lib/python3.9/site-packages/scvi/distributions/_negative_binomial.py:476: UserWarning: The value argument must be within the support of the distribution\n",
      "  warnings.warn(\n"
     ]
    },
    {
     "name": "stdout",
     "output_type": "stream",
     "text": [
      "Epoch 10/50:  18%|█▊        | 9/50 [00:02<00:08,  4.78it/s, loss=3.29e+03, v_num=1]"
     ]
    },
    {
     "name": "stderr",
     "output_type": "stream",
     "text": [
      "/mnt/md0/jin/anaconda3/lib/python3.9/site-packages/scvi/distributions/_negative_binomial.py:476: UserWarning: The value argument must be within the support of the distribution\n",
      "  warnings.warn(\n",
      "/mnt/md0/jin/anaconda3/lib/python3.9/site-packages/scvi/distributions/_negative_binomial.py:476: UserWarning: The value argument must be within the support of the distribution\n",
      "  warnings.warn(\n"
     ]
    },
    {
     "name": "stdout",
     "output_type": "stream",
     "text": [
      "Epoch 11/50:  20%|██        | 10/50 [00:02<00:08,  4.87it/s, loss=3.28e+03, v_num=1]"
     ]
    },
    {
     "name": "stderr",
     "output_type": "stream",
     "text": [
      "/mnt/md0/jin/anaconda3/lib/python3.9/site-packages/scvi/distributions/_negative_binomial.py:476: UserWarning: The value argument must be within the support of the distribution\n",
      "  warnings.warn(\n",
      "/mnt/md0/jin/anaconda3/lib/python3.9/site-packages/scvi/distributions/_negative_binomial.py:476: UserWarning: The value argument must be within the support of the distribution\n",
      "  warnings.warn(\n"
     ]
    },
    {
     "name": "stdout",
     "output_type": "stream",
     "text": [
      "Epoch 12/50:  22%|██▏       | 11/50 [00:02<00:07,  4.91it/s, loss=3.28e+03, v_num=1]"
     ]
    },
    {
     "name": "stderr",
     "output_type": "stream",
     "text": [
      "/mnt/md0/jin/anaconda3/lib/python3.9/site-packages/scvi/distributions/_negative_binomial.py:476: UserWarning: The value argument must be within the support of the distribution\n",
      "  warnings.warn(\n",
      "/mnt/md0/jin/anaconda3/lib/python3.9/site-packages/scvi/distributions/_negative_binomial.py:476: UserWarning: The value argument must be within the support of the distribution\n",
      "  warnings.warn(\n",
      "/mnt/md0/jin/anaconda3/lib/python3.9/site-packages/scvi/distributions/_negative_binomial.py:476: UserWarning: The value argument must be within the support of the distribution\n",
      "  warnings.warn(\n"
     ]
    },
    {
     "name": "stdout",
     "output_type": "stream",
     "text": [
      "Epoch 14/50:  26%|██▌       | 13/50 [00:03<00:07,  5.20it/s, loss=3.25e+03, v_num=1]"
     ]
    },
    {
     "name": "stderr",
     "output_type": "stream",
     "text": [
      "/mnt/md0/jin/anaconda3/lib/python3.9/site-packages/scvi/distributions/_negative_binomial.py:476: UserWarning: The value argument must be within the support of the distribution\n",
      "  warnings.warn(\n",
      "/mnt/md0/jin/anaconda3/lib/python3.9/site-packages/scvi/distributions/_negative_binomial.py:476: UserWarning: The value argument must be within the support of the distribution\n",
      "  warnings.warn(\n",
      "/mnt/md0/jin/anaconda3/lib/python3.9/site-packages/scvi/distributions/_negative_binomial.py:476: UserWarning: The value argument must be within the support of the distribution\n",
      "  warnings.warn(\n"
     ]
    },
    {
     "name": "stdout",
     "output_type": "stream",
     "text": [
      "Epoch 15/50:  28%|██▊       | 14/50 [00:03<00:06,  5.23it/s, loss=3.25e+03, v_num=1]"
     ]
    },
    {
     "name": "stderr",
     "output_type": "stream",
     "text": [
      "/mnt/md0/jin/anaconda3/lib/python3.9/site-packages/scvi/distributions/_negative_binomial.py:476: UserWarning: The value argument must be within the support of the distribution\n",
      "  warnings.warn(\n",
      "/mnt/md0/jin/anaconda3/lib/python3.9/site-packages/scvi/distributions/_negative_binomial.py:476: UserWarning: The value argument must be within the support of the distribution\n",
      "  warnings.warn(\n"
     ]
    },
    {
     "name": "stdout",
     "output_type": "stream",
     "text": [
      "Epoch 16/50:  30%|███       | 15/50 [00:03<00:06,  5.18it/s, loss=3.25e+03, v_num=1]"
     ]
    },
    {
     "name": "stderr",
     "output_type": "stream",
     "text": [
      "/mnt/md0/jin/anaconda3/lib/python3.9/site-packages/scvi/distributions/_negative_binomial.py:476: UserWarning: The value argument must be within the support of the distribution\n",
      "  warnings.warn(\n",
      "/mnt/md0/jin/anaconda3/lib/python3.9/site-packages/scvi/distributions/_negative_binomial.py:476: UserWarning: The value argument must be within the support of the distribution\n",
      "  warnings.warn(\n"
     ]
    },
    {
     "name": "stdout",
     "output_type": "stream",
     "text": [
      "Epoch 17/50:  32%|███▏      | 16/50 [00:03<00:06,  5.14it/s, loss=3.26e+03, v_num=1]"
     ]
    },
    {
     "name": "stderr",
     "output_type": "stream",
     "text": [
      "/mnt/md0/jin/anaconda3/lib/python3.9/site-packages/scvi/distributions/_negative_binomial.py:476: UserWarning: The value argument must be within the support of the distribution\n",
      "  warnings.warn(\n",
      "/mnt/md0/jin/anaconda3/lib/python3.9/site-packages/scvi/distributions/_negative_binomial.py:476: UserWarning: The value argument must be within the support of the distribution\n",
      "  warnings.warn(\n",
      "/mnt/md0/jin/anaconda3/lib/python3.9/site-packages/scvi/distributions/_negative_binomial.py:476: UserWarning: The value argument must be within the support of the distribution\n",
      "  warnings.warn(\n"
     ]
    },
    {
     "name": "stdout",
     "output_type": "stream",
     "text": [
      "Epoch 19/50:  36%|███▌      | 18/50 [00:04<00:06,  5.12it/s, loss=3.23e+03, v_num=1]"
     ]
    },
    {
     "name": "stderr",
     "output_type": "stream",
     "text": [
      "/mnt/md0/jin/anaconda3/lib/python3.9/site-packages/scvi/distributions/_negative_binomial.py:476: UserWarning: The value argument must be within the support of the distribution\n",
      "  warnings.warn(\n",
      "/mnt/md0/jin/anaconda3/lib/python3.9/site-packages/scvi/distributions/_negative_binomial.py:476: UserWarning: The value argument must be within the support of the distribution\n",
      "  warnings.warn(\n",
      "/mnt/md0/jin/anaconda3/lib/python3.9/site-packages/scvi/distributions/_negative_binomial.py:476: UserWarning: The value argument must be within the support of the distribution\n",
      "  warnings.warn(\n"
     ]
    },
    {
     "name": "stdout",
     "output_type": "stream",
     "text": [
      "Epoch 20/50:  38%|███▊      | 19/50 [00:04<00:06,  5.10it/s, loss=3.22e+03, v_num=1]"
     ]
    },
    {
     "name": "stderr",
     "output_type": "stream",
     "text": [
      "/mnt/md0/jin/anaconda3/lib/python3.9/site-packages/scvi/distributions/_negative_binomial.py:476: UserWarning: The value argument must be within the support of the distribution\n",
      "  warnings.warn(\n",
      "/mnt/md0/jin/anaconda3/lib/python3.9/site-packages/scvi/distributions/_negative_binomial.py:476: UserWarning: The value argument must be within the support of the distribution\n",
      "  warnings.warn(\n"
     ]
    },
    {
     "name": "stdout",
     "output_type": "stream",
     "text": [
      "Epoch 21/50:  40%|████      | 20/50 [00:04<00:05,  5.09it/s, loss=3.23e+03, v_num=1]"
     ]
    },
    {
     "name": "stderr",
     "output_type": "stream",
     "text": [
      "/mnt/md0/jin/anaconda3/lib/python3.9/site-packages/scvi/distributions/_negative_binomial.py:476: UserWarning: The value argument must be within the support of the distribution\n",
      "  warnings.warn(\n",
      "/mnt/md0/jin/anaconda3/lib/python3.9/site-packages/scvi/distributions/_negative_binomial.py:476: UserWarning: The value argument must be within the support of the distribution\n",
      "  warnings.warn(\n"
     ]
    },
    {
     "name": "stdout",
     "output_type": "stream",
     "text": [
      "Epoch 22/50:  42%|████▏     | 21/50 [00:04<00:05,  5.20it/s, loss=3.23e+03, v_num=1]"
     ]
    },
    {
     "name": "stderr",
     "output_type": "stream",
     "text": [
      "/mnt/md0/jin/anaconda3/lib/python3.9/site-packages/scvi/distributions/_negative_binomial.py:476: UserWarning: The value argument must be within the support of the distribution\n",
      "  warnings.warn(\n",
      "/mnt/md0/jin/anaconda3/lib/python3.9/site-packages/scvi/distributions/_negative_binomial.py:476: UserWarning: The value argument must be within the support of the distribution\n",
      "  warnings.warn(\n",
      "/mnt/md0/jin/anaconda3/lib/python3.9/site-packages/scvi/distributions/_negative_binomial.py:476: UserWarning: The value argument must be within the support of the distribution\n",
      "  warnings.warn(\n"
     ]
    },
    {
     "name": "stdout",
     "output_type": "stream",
     "text": [
      "Epoch 24/50:  46%|████▌     | 23/50 [00:05<00:04,  5.57it/s, loss=3.22e+03, v_num=1]"
     ]
    },
    {
     "name": "stderr",
     "output_type": "stream",
     "text": [
      "/mnt/md0/jin/anaconda3/lib/python3.9/site-packages/scvi/distributions/_negative_binomial.py:476: UserWarning: The value argument must be within the support of the distribution\n",
      "  warnings.warn(\n",
      "/mnt/md0/jin/anaconda3/lib/python3.9/site-packages/scvi/distributions/_negative_binomial.py:476: UserWarning: The value argument must be within the support of the distribution\n",
      "  warnings.warn(\n",
      "/mnt/md0/jin/anaconda3/lib/python3.9/site-packages/scvi/distributions/_negative_binomial.py:476: UserWarning: The value argument must be within the support of the distribution\n",
      "  warnings.warn(\n",
      "/mnt/md0/jin/anaconda3/lib/python3.9/site-packages/scvi/distributions/_negative_binomial.py:476: UserWarning: The value argument must be within the support of the distribution\n",
      "  warnings.warn(\n"
     ]
    },
    {
     "name": "stdout",
     "output_type": "stream",
     "text": [
      "Epoch 26/50:  50%|█████     | 25/50 [00:05<00:04,  5.71it/s, loss=3.2e+03, v_num=1] "
     ]
    },
    {
     "name": "stderr",
     "output_type": "stream",
     "text": [
      "/mnt/md0/jin/anaconda3/lib/python3.9/site-packages/scvi/distributions/_negative_binomial.py:476: UserWarning: The value argument must be within the support of the distribution\n",
      "  warnings.warn(\n",
      "/mnt/md0/jin/anaconda3/lib/python3.9/site-packages/scvi/distributions/_negative_binomial.py:476: UserWarning: The value argument must be within the support of the distribution\n",
      "  warnings.warn(\n",
      "/mnt/md0/jin/anaconda3/lib/python3.9/site-packages/scvi/distributions/_negative_binomial.py:476: UserWarning: The value argument must be within the support of the distribution\n",
      "  warnings.warn(\n"
     ]
    },
    {
     "name": "stdout",
     "output_type": "stream",
     "text": [
      "Epoch 27/50:  52%|█████▏    | 26/50 [00:05<00:04,  5.72it/s, loss=3.21e+03, v_num=1]"
     ]
    },
    {
     "name": "stderr",
     "output_type": "stream",
     "text": [
      "/mnt/md0/jin/anaconda3/lib/python3.9/site-packages/scvi/distributions/_negative_binomial.py:476: UserWarning: The value argument must be within the support of the distribution\n",
      "  warnings.warn(\n",
      "/mnt/md0/jin/anaconda3/lib/python3.9/site-packages/scvi/distributions/_negative_binomial.py:476: UserWarning: The value argument must be within the support of the distribution\n",
      "  warnings.warn(\n",
      "/mnt/md0/jin/anaconda3/lib/python3.9/site-packages/scvi/distributions/_negative_binomial.py:476: UserWarning: The value argument must be within the support of the distribution\n",
      "  warnings.warn(\n"
     ]
    },
    {
     "name": "stdout",
     "output_type": "stream",
     "text": [
      "Epoch 29/50:  56%|█████▌    | 28/50 [00:06<00:03,  5.93it/s, loss=3.22e+03, v_num=1]"
     ]
    },
    {
     "name": "stderr",
     "output_type": "stream",
     "text": [
      "/mnt/md0/jin/anaconda3/lib/python3.9/site-packages/scvi/distributions/_negative_binomial.py:476: UserWarning: The value argument must be within the support of the distribution\n",
      "  warnings.warn(\n",
      "/mnt/md0/jin/anaconda3/lib/python3.9/site-packages/scvi/distributions/_negative_binomial.py:476: UserWarning: The value argument must be within the support of the distribution\n",
      "  warnings.warn(\n",
      "/mnt/md0/jin/anaconda3/lib/python3.9/site-packages/scvi/distributions/_negative_binomial.py:476: UserWarning: The value argument must be within the support of the distribution\n",
      "  warnings.warn(\n",
      "/mnt/md0/jin/anaconda3/lib/python3.9/site-packages/scvi/distributions/_negative_binomial.py:476: UserWarning: The value argument must be within the support of the distribution\n",
      "  warnings.warn(\n"
     ]
    },
    {
     "name": "stdout",
     "output_type": "stream",
     "text": [
      "Epoch 31/50:  60%|██████    | 30/50 [00:06<00:03,  6.01it/s, loss=3.2e+03, v_num=1] "
     ]
    },
    {
     "name": "stderr",
     "output_type": "stream",
     "text": [
      "/mnt/md0/jin/anaconda3/lib/python3.9/site-packages/scvi/distributions/_negative_binomial.py:476: UserWarning: The value argument must be within the support of the distribution\n",
      "  warnings.warn(\n",
      "/mnt/md0/jin/anaconda3/lib/python3.9/site-packages/scvi/distributions/_negative_binomial.py:476: UserWarning: The value argument must be within the support of the distribution\n",
      "  warnings.warn(\n",
      "/mnt/md0/jin/anaconda3/lib/python3.9/site-packages/scvi/distributions/_negative_binomial.py:476: UserWarning: The value argument must be within the support of the distribution\n",
      "  warnings.warn(\n"
     ]
    },
    {
     "name": "stdout",
     "output_type": "stream",
     "text": [
      "Epoch 32/50:  62%|██████▏   | 31/50 [00:06<00:03,  6.02it/s, loss=3.21e+03, v_num=1]"
     ]
    },
    {
     "name": "stderr",
     "output_type": "stream",
     "text": [
      "/mnt/md0/jin/anaconda3/lib/python3.9/site-packages/scvi/distributions/_negative_binomial.py:476: UserWarning: The value argument must be within the support of the distribution\n",
      "  warnings.warn(\n",
      "/mnt/md0/jin/anaconda3/lib/python3.9/site-packages/scvi/distributions/_negative_binomial.py:476: UserWarning: The value argument must be within the support of the distribution\n",
      "  warnings.warn(\n",
      "/mnt/md0/jin/anaconda3/lib/python3.9/site-packages/scvi/distributions/_negative_binomial.py:476: UserWarning: The value argument must be within the support of the distribution\n",
      "  warnings.warn(\n"
     ]
    },
    {
     "name": "stdout",
     "output_type": "stream",
     "text": [
      "Epoch 34/50:  66%|██████▌   | 33/50 [00:06<00:02,  6.00it/s, loss=3.2e+03, v_num=1] "
     ]
    },
    {
     "name": "stderr",
     "output_type": "stream",
     "text": [
      "/mnt/md0/jin/anaconda3/lib/python3.9/site-packages/scvi/distributions/_negative_binomial.py:476: UserWarning: The value argument must be within the support of the distribution\n",
      "  warnings.warn(\n",
      "/mnt/md0/jin/anaconda3/lib/python3.9/site-packages/scvi/distributions/_negative_binomial.py:476: UserWarning: The value argument must be within the support of the distribution\n",
      "  warnings.warn(\n",
      "/mnt/md0/jin/anaconda3/lib/python3.9/site-packages/scvi/distributions/_negative_binomial.py:476: UserWarning: The value argument must be within the support of the distribution\n",
      "  warnings.warn(\n",
      "/mnt/md0/jin/anaconda3/lib/python3.9/site-packages/scvi/distributions/_negative_binomial.py:476: UserWarning: The value argument must be within the support of the distribution\n",
      "  warnings.warn(\n"
     ]
    },
    {
     "name": "stdout",
     "output_type": "stream",
     "text": [
      "Epoch 36/50:  70%|███████   | 35/50 [00:07<00:02,  6.05it/s, loss=3.2e+03, v_num=1]"
     ]
    },
    {
     "name": "stderr",
     "output_type": "stream",
     "text": [
      "/mnt/md0/jin/anaconda3/lib/python3.9/site-packages/scvi/distributions/_negative_binomial.py:476: UserWarning: The value argument must be within the support of the distribution\n",
      "  warnings.warn(\n",
      "/mnt/md0/jin/anaconda3/lib/python3.9/site-packages/scvi/distributions/_negative_binomial.py:476: UserWarning: The value argument must be within the support of the distribution\n",
      "  warnings.warn(\n",
      "/mnt/md0/jin/anaconda3/lib/python3.9/site-packages/scvi/distributions/_negative_binomial.py:476: UserWarning: The value argument must be within the support of the distribution\n",
      "  warnings.warn(\n"
     ]
    },
    {
     "name": "stdout",
     "output_type": "stream",
     "text": [
      "Epoch 37/50:  72%|███████▏  | 36/50 [00:07<00:02,  6.05it/s, loss=3.21e+03, v_num=1]"
     ]
    },
    {
     "name": "stderr",
     "output_type": "stream",
     "text": [
      "/mnt/md0/jin/anaconda3/lib/python3.9/site-packages/scvi/distributions/_negative_binomial.py:476: UserWarning: The value argument must be within the support of the distribution\n",
      "  warnings.warn(\n",
      "/mnt/md0/jin/anaconda3/lib/python3.9/site-packages/scvi/distributions/_negative_binomial.py:476: UserWarning: The value argument must be within the support of the distribution\n",
      "  warnings.warn(\n",
      "/mnt/md0/jin/anaconda3/lib/python3.9/site-packages/scvi/distributions/_negative_binomial.py:476: UserWarning: The value argument must be within the support of the distribution\n",
      "  warnings.warn(\n"
     ]
    },
    {
     "name": "stdout",
     "output_type": "stream",
     "text": [
      "Epoch 39/50:  76%|███████▌  | 38/50 [00:07<00:01,  6.09it/s, loss=3.2e+03, v_num=1] "
     ]
    },
    {
     "name": "stderr",
     "output_type": "stream",
     "text": [
      "/mnt/md0/jin/anaconda3/lib/python3.9/site-packages/scvi/distributions/_negative_binomial.py:476: UserWarning: The value argument must be within the support of the distribution\n",
      "  warnings.warn(\n",
      "/mnt/md0/jin/anaconda3/lib/python3.9/site-packages/scvi/distributions/_negative_binomial.py:476: UserWarning: The value argument must be within the support of the distribution\n",
      "  warnings.warn(\n",
      "/mnt/md0/jin/anaconda3/lib/python3.9/site-packages/scvi/distributions/_negative_binomial.py:476: UserWarning: The value argument must be within the support of the distribution\n",
      "  warnings.warn(\n",
      "/mnt/md0/jin/anaconda3/lib/python3.9/site-packages/scvi/distributions/_negative_binomial.py:476: UserWarning: The value argument must be within the support of the distribution\n",
      "  warnings.warn(\n"
     ]
    },
    {
     "name": "stdout",
     "output_type": "stream",
     "text": [
      "Epoch 41/50:  80%|████████  | 40/50 [00:08<00:01,  6.12it/s, loss=3.19e+03, v_num=1]"
     ]
    },
    {
     "name": "stderr",
     "output_type": "stream",
     "text": [
      "/mnt/md0/jin/anaconda3/lib/python3.9/site-packages/scvi/distributions/_negative_binomial.py:476: UserWarning: The value argument must be within the support of the distribution\n",
      "  warnings.warn(\n",
      "/mnt/md0/jin/anaconda3/lib/python3.9/site-packages/scvi/distributions/_negative_binomial.py:476: UserWarning: The value argument must be within the support of the distribution\n",
      "  warnings.warn(\n",
      "/mnt/md0/jin/anaconda3/lib/python3.9/site-packages/scvi/distributions/_negative_binomial.py:476: UserWarning: The value argument must be within the support of the distribution\n",
      "  warnings.warn(\n"
     ]
    },
    {
     "name": "stdout",
     "output_type": "stream",
     "text": [
      "Epoch 42/50:  82%|████████▏ | 41/50 [00:08<00:01,  6.09it/s, loss=3.18e+03, v_num=1]"
     ]
    },
    {
     "name": "stderr",
     "output_type": "stream",
     "text": [
      "/mnt/md0/jin/anaconda3/lib/python3.9/site-packages/scvi/distributions/_negative_binomial.py:476: UserWarning: The value argument must be within the support of the distribution\n",
      "  warnings.warn(\n",
      "/mnt/md0/jin/anaconda3/lib/python3.9/site-packages/scvi/distributions/_negative_binomial.py:476: UserWarning: The value argument must be within the support of the distribution\n",
      "  warnings.warn(\n",
      "/mnt/md0/jin/anaconda3/lib/python3.9/site-packages/scvi/distributions/_negative_binomial.py:476: UserWarning: The value argument must be within the support of the distribution\n",
      "  warnings.warn(\n"
     ]
    },
    {
     "name": "stdout",
     "output_type": "stream",
     "text": [
      "Epoch 44/50:  86%|████████▌ | 43/50 [00:08<00:01,  6.03it/s, loss=3.2e+03, v_num=1] "
     ]
    },
    {
     "name": "stderr",
     "output_type": "stream",
     "text": [
      "/mnt/md0/jin/anaconda3/lib/python3.9/site-packages/scvi/distributions/_negative_binomial.py:476: UserWarning: The value argument must be within the support of the distribution\n",
      "  warnings.warn(\n",
      "/mnt/md0/jin/anaconda3/lib/python3.9/site-packages/scvi/distributions/_negative_binomial.py:476: UserWarning: The value argument must be within the support of the distribution\n",
      "  warnings.warn(\n",
      "/mnt/md0/jin/anaconda3/lib/python3.9/site-packages/scvi/distributions/_negative_binomial.py:476: UserWarning: The value argument must be within the support of the distribution\n",
      "  warnings.warn(\n",
      "/mnt/md0/jin/anaconda3/lib/python3.9/site-packages/scvi/distributions/_negative_binomial.py:476: UserWarning: The value argument must be within the support of the distribution\n",
      "  warnings.warn(\n"
     ]
    },
    {
     "name": "stdout",
     "output_type": "stream",
     "text": [
      "Epoch 46/50:  90%|█████████ | 45/50 [00:08<00:00,  5.88it/s, loss=3.18e+03, v_num=1]"
     ]
    },
    {
     "name": "stderr",
     "output_type": "stream",
     "text": [
      "/mnt/md0/jin/anaconda3/lib/python3.9/site-packages/scvi/distributions/_negative_binomial.py:476: UserWarning: The value argument must be within the support of the distribution\n",
      "  warnings.warn(\n",
      "/mnt/md0/jin/anaconda3/lib/python3.9/site-packages/scvi/distributions/_negative_binomial.py:476: UserWarning: The value argument must be within the support of the distribution\n",
      "  warnings.warn(\n",
      "/mnt/md0/jin/anaconda3/lib/python3.9/site-packages/scvi/distributions/_negative_binomial.py:476: UserWarning: The value argument must be within the support of the distribution\n",
      "  warnings.warn(\n"
     ]
    },
    {
     "name": "stdout",
     "output_type": "stream",
     "text": [
      "Epoch 47/50:  92%|█████████▏| 46/50 [00:09<00:00,  6.00it/s, loss=3.19e+03, v_num=1]"
     ]
    },
    {
     "name": "stderr",
     "output_type": "stream",
     "text": [
      "/mnt/md0/jin/anaconda3/lib/python3.9/site-packages/scvi/distributions/_negative_binomial.py:476: UserWarning: The value argument must be within the support of the distribution\n",
      "  warnings.warn(\n",
      "/mnt/md0/jin/anaconda3/lib/python3.9/site-packages/scvi/distributions/_negative_binomial.py:476: UserWarning: The value argument must be within the support of the distribution\n",
      "  warnings.warn(\n",
      "/mnt/md0/jin/anaconda3/lib/python3.9/site-packages/scvi/distributions/_negative_binomial.py:476: UserWarning: The value argument must be within the support of the distribution\n",
      "  warnings.warn(\n"
     ]
    },
    {
     "name": "stdout",
     "output_type": "stream",
     "text": [
      "Epoch 49/50:  96%|█████████▌| 48/50 [00:09<00:00,  6.03it/s, loss=3.17e+03, v_num=1]"
     ]
    },
    {
     "name": "stderr",
     "output_type": "stream",
     "text": [
      "/mnt/md0/jin/anaconda3/lib/python3.9/site-packages/scvi/distributions/_negative_binomial.py:476: UserWarning: The value argument must be within the support of the distribution\n",
      "  warnings.warn(\n",
      "/mnt/md0/jin/anaconda3/lib/python3.9/site-packages/scvi/distributions/_negative_binomial.py:476: UserWarning: The value argument must be within the support of the distribution\n",
      "  warnings.warn(\n",
      "/mnt/md0/jin/anaconda3/lib/python3.9/site-packages/scvi/distributions/_negative_binomial.py:476: UserWarning: The value argument must be within the support of the distribution\n",
      "  warnings.warn(\n",
      "/mnt/md0/jin/anaconda3/lib/python3.9/site-packages/scvi/distributions/_negative_binomial.py:476: UserWarning: The value argument must be within the support of the distribution\n",
      "  warnings.warn(\n"
     ]
    },
    {
     "name": "stdout",
     "output_type": "stream",
     "text": [
      "Epoch 50/50: 100%|██████████| 50/50 [00:09<00:00,  6.15it/s, loss=3.17e+03, v_num=1]"
     ]
    },
    {
     "name": "stderr",
     "output_type": "stream",
     "text": [
      "/mnt/md0/jin/anaconda3/lib/python3.9/site-packages/scvi/distributions/_negative_binomial.py:476: UserWarning: The value argument must be within the support of the distribution\n",
      "  warnings.warn(\n",
      "/mnt/md0/jin/anaconda3/lib/python3.9/site-packages/scvi/distributions/_negative_binomial.py:476: UserWarning: The value argument must be within the support of the distribution\n",
      "  warnings.warn(\n",
      "`Trainer.fit` stopped: `max_epochs=50` reached.\n"
     ]
    },
    {
     "name": "stdout",
     "output_type": "stream",
     "text": [
      "Epoch 50/50: 100%|██████████| 50/50 [00:09<00:00,  5.15it/s, loss=3.17e+03, v_num=1]\n"
     ]
    },
    {
     "data": {
      "image/png": "[encoded data removed]",
      "text/plain": [
       "<Figure size 1000x400 with 1 Axes>"
      ]
     },
     "metadata": {},
     "output_type": "display_data"
    },
    {
     "name": "stderr",
     "output_type": "stream",
     "text": [
      "Global seed set to 42\n",
      "/mnt/md0/jin/anaconda3/lib/python3.9/site-packages/scvi/data/fields/_layer_field.py:90: UserWarning: adata.layers[data] does not contain unnormalized count data. Are you sure this is what you want?\n",
      "  warnings.warn(\n",
      "Global seed set to 42\n",
      "GPU available: True (cuda), used: True\n",
      "TPU available: False, using: 0 TPU cores\n",
      "IPU available: False, using: 0 IPUs\n",
      "HPU available: False, using: 0 HPUs\n",
      "You are using a CUDA device ('NVIDIA GeForce RTX 4090') that has Tensor Cores. To properly utilize them, you should set `torch.set_float32_matmul_precision('medium' | 'high')` which will trade-off precision for performance. For more details, read https://pytorch.org/docs/stable/generated/torch.set_float32_matmul_precision.html#torch.set_float32_matmul_precision\n",
      "LOCAL_RANK: 0 - CUDA_VISIBLE_DEVICES: [0,1,2]\n",
      "/mnt/md0/jin/anaconda3/lib/python3.9/site-packages/pytorch_lightning/trainer/trainer.py:1609: PossibleUserWarning: The number of training batches (7) is smaller than the logging interval Trainer(log_every_n_steps=10). Set a lower value for log_every_n_steps if you want to see logs for the training epoch.\n",
      "  rank_zero_warn(\n"
     ]
    },
    {
     "name": "stdout",
     "output_type": "stream",
     "text": [
      "\n",
      "Training spatial model on GPU\n",
      "Epoch 2/70:   1%|▏         | 1/70 [00:00<00:05, 13.55it/s, loss=2.67e+03, v_num=1]"
     ]
    },
    {
     "name": "stderr",
     "output_type": "stream",
     "text": [
      "/mnt/md0/jin/anaconda3/lib/python3.9/site-packages/scvi/distributions/_negative_binomial.py:476: UserWarning: The value argument must be within the support of the distribution\n",
      "  warnings.warn(\n",
      "/mnt/md0/jin/anaconda3/lib/python3.9/site-packages/scvi/distributions/_negative_binomial.py:476: UserWarning: The value argument must be within the support of the distribution\n",
      "  warnings.warn(\n",
      "/mnt/md0/jin/anaconda3/lib/python3.9/site-packages/scvi/distributions/_negative_binomial.py:476: UserWarning: The value argument must be within the support of the distribution\n",
      "  warnings.warn(\n"
     ]
    },
    {
     "name": "stdout",
     "output_type": "stream",
     "text": [
      "Epoch 3/70:   3%|▎         | 2/70 [00:00<00:04, 14.61it/s, loss=2.58e+03, v_num=1]"
     ]
    },
    {
     "name": "stderr",
     "output_type": "stream",
     "text": [
      "/mnt/md0/jin/anaconda3/lib/python3.9/site-packages/scvi/distributions/_negative_binomial.py:476: UserWarning: The value argument must be within the support of the distribution\n",
      "  warnings.warn(\n",
      "/mnt/md0/jin/anaconda3/lib/python3.9/site-packages/scvi/distributions/_negative_binomial.py:476: UserWarning: The value argument must be within the support of the distribution\n",
      "  warnings.warn(\n"
     ]
    },
    {
     "name": "stdout",
     "output_type": "stream",
     "text": [
      "Epoch 4/70:   4%|▍         | 3/70 [00:00<00:04, 14.61it/s, loss=2.48e+03, v_num=1]"
     ]
    },
    {
     "name": "stderr",
     "output_type": "stream",
     "text": [
      "/mnt/md0/jin/anaconda3/lib/python3.9/site-packages/scvi/distributions/_negative_binomial.py:476: UserWarning: The value argument must be within the support of the distribution\n",
      "  warnings.warn(\n"
     ]
    },
    {
     "name": "stdout",
     "output_type": "stream",
     "text": [
      "Epoch 6/70:   7%|▋         | 5/70 [00:00<00:04, 15.56it/s, loss=2.17e+03, v_num=1]"
     ]
    },
    {
     "name": "stderr",
     "output_type": "stream",
     "text": [
      "/mnt/md0/jin/anaconda3/lib/python3.9/site-packages/scvi/distributions/_negative_binomial.py:476: UserWarning: The value argument must be within the support of the distribution\n",
      "  warnings.warn(\n",
      "/mnt/md0/jin/anaconda3/lib/python3.9/site-packages/scvi/distributions/_negative_binomial.py:476: UserWarning: The value argument must be within the support of the distribution\n",
      "  warnings.warn(\n",
      "/mnt/md0/jin/anaconda3/lib/python3.9/site-packages/scvi/distributions/_negative_binomial.py:476: UserWarning: The value argument must be within the support of the distribution\n",
      "  warnings.warn(\n"
     ]
    },
    {
     "name": "stdout",
     "output_type": "stream",
     "text": [
      "Epoch 7/70:   9%|▊         | 6/70 [00:00<00:04, 15.46it/s, loss=2.08e+03, v_num=1]"
     ]
    },
    {
     "name": "stderr",
     "output_type": "stream",
     "text": [
      "/mnt/md0/jin/anaconda3/lib/python3.9/site-packages/scvi/distributions/_negative_binomial.py:476: UserWarning: The value argument must be within the support of the distribution\n",
      "  warnings.warn(\n",
      "/mnt/md0/jin/anaconda3/lib/python3.9/site-packages/scvi/distributions/_negative_binomial.py:476: UserWarning: The value argument must be within the support of the distribution\n",
      "  warnings.warn(\n"
     ]
    },
    {
     "name": "stdout",
     "output_type": "stream",
     "text": [
      "Epoch 8/70:  10%|█         | 7/70 [00:00<00:04, 15.46it/s, loss=2e+03, v_num=1]   "
     ]
    },
    {
     "name": "stderr",
     "output_type": "stream",
     "text": [
      "/mnt/md0/jin/anaconda3/lib/python3.9/site-packages/scvi/distributions/_negative_binomial.py:476: UserWarning: The value argument must be within the support of the distribution\n",
      "  warnings.warn(\n"
     ]
    },
    {
     "name": "stdout",
     "output_type": "stream",
     "text": [
      "Epoch 9/70:  11%|█▏        | 8/70 [00:00<00:04, 15.18it/s, loss=1.93e+03, v_num=1]"
     ]
    },
    {
     "name": "stderr",
     "output_type": "stream",
     "text": [
      "/mnt/md0/jin/anaconda3/lib/python3.9/site-packages/scvi/distributions/_negative_binomial.py:476: UserWarning: The value argument must be within the support of the distribution\n",
      "  warnings.warn(\n",
      "/mnt/md0/jin/anaconda3/lib/python3.9/site-packages/scvi/distributions/_negative_binomial.py:476: UserWarning: The value argument must be within the support of the distribution\n",
      "  warnings.warn(\n",
      "/mnt/md0/jin/anaconda3/lib/python3.9/site-packages/scvi/distributions/_negative_binomial.py:476: UserWarning: The value argument must be within the support of the distribution\n",
      "  warnings.warn(\n"
     ]
    },
    {
     "name": "stdout",
     "output_type": "stream",
     "text": [
      "Epoch 11/70:  14%|█▍        | 10/70 [00:00<00:03, 15.23it/s, loss=1.85e+03, v_num=1]"
     ]
    },
    {
     "name": "stderr",
     "output_type": "stream",
     "text": [
      "/mnt/md0/jin/anaconda3/lib/python3.9/site-packages/scvi/distributions/_negative_binomial.py:476: UserWarning: The value argument must be within the support of the distribution\n",
      "  warnings.warn(\n",
      "/mnt/md0/jin/anaconda3/lib/python3.9/site-packages/scvi/distributions/_negative_binomial.py:476: UserWarning: The value argument must be within the support of the distribution\n",
      "  warnings.warn(\n"
     ]
    },
    {
     "name": "stdout",
     "output_type": "stream",
     "text": [
      "Epoch 13/70:  17%|█▋        | 12/70 [00:00<00:03, 15.25it/s, loss=1.8e+03, v_num=1] "
     ]
    },
    {
     "name": "stderr",
     "output_type": "stream",
     "text": [
      "/mnt/md0/jin/anaconda3/lib/python3.9/site-packages/scvi/distributions/_negative_binomial.py:476: UserWarning: The value argument must be within the support of the distribution\n",
      "  warnings.warn(\n",
      "/mnt/md0/jin/anaconda3/lib/python3.9/site-packages/scvi/distributions/_negative_binomial.py:476: UserWarning: The value argument must be within the support of the distribution\n",
      "  warnings.warn(\n",
      "/mnt/md0/jin/anaconda3/lib/python3.9/site-packages/scvi/distributions/_negative_binomial.py:476: UserWarning: The value argument must be within the support of the distribution\n",
      "  warnings.warn(\n"
     ]
    },
    {
     "name": "stdout",
     "output_type": "stream",
     "text": [
      "Epoch 15/70:  20%|██        | 14/70 [00:00<00:03, 15.36it/s, loss=1.78e+03, v_num=1]"
     ]
    },
    {
     "name": "stderr",
     "output_type": "stream",
     "text": [
      "/mnt/md0/jin/anaconda3/lib/python3.9/site-packages/scvi/distributions/_negative_binomial.py:476: UserWarning: The value argument must be within the support of the distribution\n",
      "  warnings.warn(\n",
      "/mnt/md0/jin/anaconda3/lib/python3.9/site-packages/scvi/distributions/_negative_binomial.py:476: UserWarning: The value argument must be within the support of the distribution\n",
      "  warnings.warn(\n",
      "/mnt/md0/jin/anaconda3/lib/python3.9/site-packages/scvi/distributions/_negative_binomial.py:476: UserWarning: The value argument must be within the support of the distribution\n",
      "  warnings.warn(\n"
     ]
    },
    {
     "name": "stdout",
     "output_type": "stream",
     "text": [
      "Epoch 16/70:  21%|██▏       | 15/70 [00:00<00:03, 15.36it/s, loss=1.77e+03, v_num=1]"
     ]
    },
    {
     "name": "stderr",
     "output_type": "stream",
     "text": [
      "/mnt/md0/jin/anaconda3/lib/python3.9/site-packages/scvi/distributions/_negative_binomial.py:476: UserWarning: The value argument must be within the support of the distribution\n",
      "  warnings.warn(\n",
      "/mnt/md0/jin/anaconda3/lib/python3.9/site-packages/scvi/distributions/_negative_binomial.py:476: UserWarning: The value argument must be within the support of the distribution\n",
      "  warnings.warn(\n",
      "/mnt/md0/jin/anaconda3/lib/python3.9/site-packages/scvi/distributions/_negative_binomial.py:476: UserWarning: The value argument must be within the support of the distribution\n",
      "  warnings.warn(\n"
     ]
    },
    {
     "name": "stdout",
     "output_type": "stream",
     "text": [
      "Epoch 18/70:  24%|██▍       | 17/70 [00:01<00:03, 15.15it/s, loss=1.76e+03, v_num=1]"
     ]
    },
    {
     "name": "stderr",
     "output_type": "stream",
     "text": [
      "/mnt/md0/jin/anaconda3/lib/python3.9/site-packages/scvi/distributions/_negative_binomial.py:476: UserWarning: The value argument must be within the support of the distribution\n",
      "  warnings.warn(\n",
      "/mnt/md0/jin/anaconda3/lib/python3.9/site-packages/scvi/distributions/_negative_binomial.py:476: UserWarning: The value argument must be within the support of the distribution\n",
      "  warnings.warn(\n",
      "/mnt/md0/jin/anaconda3/lib/python3.9/site-packages/scvi/distributions/_negative_binomial.py:476: UserWarning: The value argument must be within the support of the distribution\n",
      "  warnings.warn(\n"
     ]
    },
    {
     "name": "stdout",
     "output_type": "stream",
     "text": [
      "Epoch 20/70:  27%|██▋       | 19/70 [00:01<00:03, 15.31it/s, loss=1.76e+03, v_num=1]"
     ]
    },
    {
     "name": "stderr",
     "output_type": "stream",
     "text": [
      "/mnt/md0/jin/anaconda3/lib/python3.9/site-packages/scvi/distributions/_negative_binomial.py:476: UserWarning: The value argument must be within the support of the distribution\n",
      "  warnings.warn(\n",
      "/mnt/md0/jin/anaconda3/lib/python3.9/site-packages/scvi/distributions/_negative_binomial.py:476: UserWarning: The value argument must be within the support of the distribution\n",
      "  warnings.warn(\n",
      "/mnt/md0/jin/anaconda3/lib/python3.9/site-packages/scvi/distributions/_negative_binomial.py:476: UserWarning: The value argument must be within the support of the distribution\n",
      "  warnings.warn(\n"
     ]
    },
    {
     "name": "stdout",
     "output_type": "stream",
     "text": [
      "Epoch 22/70:  30%|███       | 21/70 [00:01<00:03, 15.30it/s, loss=1.74e+03, v_num=1]"
     ]
    },
    {
     "name": "stderr",
     "output_type": "stream",
     "text": [
      "/mnt/md0/jin/anaconda3/lib/python3.9/site-packages/scvi/distributions/_negative_binomial.py:476: UserWarning: The value argument must be within the support of the distribution\n",
      "  warnings.warn(\n",
      "/mnt/md0/jin/anaconda3/lib/python3.9/site-packages/scvi/distributions/_negative_binomial.py:476: UserWarning: The value argument must be within the support of the distribution\n",
      "  warnings.warn(\n"
     ]
    },
    {
     "name": "stdout",
     "output_type": "stream",
     "text": [
      "Epoch 24/70:  33%|███▎      | 23/70 [00:01<00:03, 15.26it/s, loss=1.73e+03, v_num=1]"
     ]
    },
    {
     "name": "stderr",
     "output_type": "stream",
     "text": [
      "/mnt/md0/jin/anaconda3/lib/python3.9/site-packages/scvi/distributions/_negative_binomial.py:476: UserWarning: The value argument must be within the support of the distribution\n",
      "  warnings.warn(\n",
      "/mnt/md0/jin/anaconda3/lib/python3.9/site-packages/scvi/distributions/_negative_binomial.py:476: UserWarning: The value argument must be within the support of the distribution\n",
      "  warnings.warn(\n",
      "/mnt/md0/jin/anaconda3/lib/python3.9/site-packages/scvi/distributions/_negative_binomial.py:476: UserWarning: The value argument must be within the support of the distribution\n",
      "  warnings.warn(\n",
      "/mnt/md0/jin/anaconda3/lib/python3.9/site-packages/scvi/distributions/_negative_binomial.py:476: UserWarning: The value argument must be within the support of the distribution\n",
      "  warnings.warn(\n"
     ]
    },
    {
     "name": "stdout",
     "output_type": "stream",
     "text": [
      "Epoch 25/70:  34%|███▍      | 24/70 [00:01<00:03, 15.01it/s, loss=1.73e+03, v_num=1]"
     ]
    },
    {
     "name": "stderr",
     "output_type": "stream",
     "text": [
      "/mnt/md0/jin/anaconda3/lib/python3.9/site-packages/scvi/distributions/_negative_binomial.py:476: UserWarning: The value argument must be within the support of the distribution\n",
      "  warnings.warn(\n",
      "/mnt/md0/jin/anaconda3/lib/python3.9/site-packages/scvi/distributions/_negative_binomial.py:476: UserWarning: The value argument must be within the support of the distribution\n",
      "  warnings.warn(\n"
     ]
    },
    {
     "name": "stdout",
     "output_type": "stream",
     "text": [
      "Epoch 27/70:  37%|███▋      | 26/70 [00:01<00:03, 14.65it/s, loss=1.72e+03, v_num=1]"
     ]
    },
    {
     "name": "stderr",
     "output_type": "stream",
     "text": [
      "/mnt/md0/jin/anaconda3/lib/python3.9/site-packages/scvi/distributions/_negative_binomial.py:476: UserWarning: The value argument must be within the support of the distribution\n",
      "  warnings.warn(\n",
      "/mnt/md0/jin/anaconda3/lib/python3.9/site-packages/scvi/distributions/_negative_binomial.py:476: UserWarning: The value argument must be within the support of the distribution\n",
      "  warnings.warn(\n",
      "/mnt/md0/jin/anaconda3/lib/python3.9/site-packages/scvi/distributions/_negative_binomial.py:476: UserWarning: The value argument must be within the support of the distribution\n",
      "  warnings.warn(\n"
     ]
    },
    {
     "name": "stdout",
     "output_type": "stream",
     "text": [
      "Epoch 28/70:  39%|███▊      | 27/70 [00:01<00:02, 14.65it/s, loss=1.72e+03, v_num=1]"
     ]
    },
    {
     "name": "stderr",
     "output_type": "stream",
     "text": [
      "/mnt/md0/jin/anaconda3/lib/python3.9/site-packages/scvi/distributions/_negative_binomial.py:476: UserWarning: The value argument must be within the support of the distribution\n",
      "  warnings.warn(\n",
      "/mnt/md0/jin/anaconda3/lib/python3.9/site-packages/scvi/distributions/_negative_binomial.py:476: UserWarning: The value argument must be within the support of the distribution\n",
      "  warnings.warn(\n"
     ]
    },
    {
     "name": "stdout",
     "output_type": "stream",
     "text": [
      "Epoch 30/70:  41%|████▏     | 29/70 [00:01<00:02, 14.59it/s, loss=1.72e+03, v_num=1]"
     ]
    },
    {
     "name": "stderr",
     "output_type": "stream",
     "text": [
      "/mnt/md0/jin/anaconda3/lib/python3.9/site-packages/scvi/distributions/_negative_binomial.py:476: UserWarning: The value argument must be within the support of the distribution\n",
      "  warnings.warn(\n",
      "/mnt/md0/jin/anaconda3/lib/python3.9/site-packages/scvi/distributions/_negative_binomial.py:476: UserWarning: The value argument must be within the support of the distribution\n",
      "  warnings.warn(\n",
      "/mnt/md0/jin/anaconda3/lib/python3.9/site-packages/scvi/distributions/_negative_binomial.py:476: UserWarning: The value argument must be within the support of the distribution\n",
      "  warnings.warn(\n"
     ]
    },
    {
     "name": "stdout",
     "output_type": "stream",
     "text": [
      "Epoch 31/70:  43%|████▎     | 30/70 [00:02<00:02, 14.49it/s, loss=1.71e+03, v_num=1]"
     ]
    },
    {
     "name": "stderr",
     "output_type": "stream",
     "text": [
      "/mnt/md0/jin/anaconda3/lib/python3.9/site-packages/scvi/distributions/_negative_binomial.py:476: UserWarning: The value argument must be within the support of the distribution\n",
      "  warnings.warn(\n"
     ]
    },
    {
     "name": "stdout",
     "output_type": "stream",
     "text": [
      "Epoch 33/70:  46%|████▌     | 32/70 [00:02<00:02, 14.38it/s, loss=1.71e+03, v_num=1]"
     ]
    },
    {
     "name": "stderr",
     "output_type": "stream",
     "text": [
      "/mnt/md0/jin/anaconda3/lib/python3.9/site-packages/scvi/distributions/_negative_binomial.py:476: UserWarning: The value argument must be within the support of the distribution\n",
      "  warnings.warn(\n",
      "/mnt/md0/jin/anaconda3/lib/python3.9/site-packages/scvi/distributions/_negative_binomial.py:476: UserWarning: The value argument must be within the support of the distribution\n",
      "  warnings.warn(\n",
      "/mnt/md0/jin/anaconda3/lib/python3.9/site-packages/scvi/distributions/_negative_binomial.py:476: UserWarning: The value argument must be within the support of the distribution\n",
      "  warnings.warn(\n",
      "/mnt/md0/jin/anaconda3/lib/python3.9/site-packages/scvi/distributions/_negative_binomial.py:476: UserWarning: The value argument must be within the support of the distribution\n",
      "  warnings.warn(\n"
     ]
    },
    {
     "name": "stdout",
     "output_type": "stream",
     "text": [
      "Epoch 34/70:  47%|████▋     | 33/70 [00:02<00:02, 14.38it/s, loss=1.7e+03, v_num=1] "
     ]
    },
    {
     "name": "stderr",
     "output_type": "stream",
     "text": [
      "/mnt/md0/jin/anaconda3/lib/python3.9/site-packages/scvi/distributions/_negative_binomial.py:476: UserWarning: The value argument must be within the support of the distribution\n",
      "  warnings.warn(\n"
     ]
    },
    {
     "name": "stdout",
     "output_type": "stream",
     "text": [
      "Epoch 36/70:  51%|█████▏    | 36/70 [00:02<00:02, 14.45it/s, loss=1.7e+03, v_num=1]"
     ]
    },
    {
     "name": "stderr",
     "output_type": "stream",
     "text": [
      "/mnt/md0/jin/anaconda3/lib/python3.9/site-packages/scvi/distributions/_negative_binomial.py:476: UserWarning: The value argument must be within the support of the distribution\n",
      "  warnings.warn(\n",
      "/mnt/md0/jin/anaconda3/lib/python3.9/site-packages/scvi/distributions/_negative_binomial.py:476: UserWarning: The value argument must be within the support of the distribution\n",
      "  warnings.warn(\n",
      "/mnt/md0/jin/anaconda3/lib/python3.9/site-packages/scvi/distributions/_negative_binomial.py:476: UserWarning: The value argument must be within the support of the distribution\n",
      "  warnings.warn(\n",
      "/mnt/md0/jin/anaconda3/lib/python3.9/site-packages/scvi/distributions/_negative_binomial.py:476: UserWarning: The value argument must be within the support of the distribution\n",
      "  warnings.warn(\n"
     ]
    },
    {
     "name": "stdout",
     "output_type": "stream",
     "text": [
      "Epoch 38/70:  53%|█████▎    | 37/70 [00:02<00:02, 14.45it/s, loss=1.69e+03, v_num=1]"
     ]
    },
    {
     "name": "stderr",
     "output_type": "stream",
     "text": [
      "/mnt/md0/jin/anaconda3/lib/python3.9/site-packages/scvi/distributions/_negative_binomial.py:476: UserWarning: The value argument must be within the support of the distribution\n",
      "  warnings.warn(\n",
      "/mnt/md0/jin/anaconda3/lib/python3.9/site-packages/scvi/distributions/_negative_binomial.py:476: UserWarning: The value argument must be within the support of the distribution\n",
      "  warnings.warn(\n"
     ]
    },
    {
     "name": "stdout",
     "output_type": "stream",
     "text": [
      "Epoch 40/70:  56%|█████▌    | 39/70 [00:02<00:02, 14.72it/s, loss=1.69e+03, v_num=1]"
     ]
    },
    {
     "name": "stderr",
     "output_type": "stream",
     "text": [
      "/mnt/md0/jin/anaconda3/lib/python3.9/site-packages/scvi/distributions/_negative_binomial.py:476: UserWarning: The value argument must be within the support of the distribution\n",
      "  warnings.warn(\n",
      "/mnt/md0/jin/anaconda3/lib/python3.9/site-packages/scvi/distributions/_negative_binomial.py:476: UserWarning: The value argument must be within the support of the distribution\n",
      "  warnings.warn(\n",
      "/mnt/md0/jin/anaconda3/lib/python3.9/site-packages/scvi/distributions/_negative_binomial.py:476: UserWarning: The value argument must be within the support of the distribution\n",
      "  warnings.warn(\n",
      "/mnt/md0/jin/anaconda3/lib/python3.9/site-packages/scvi/distributions/_negative_binomial.py:476: UserWarning: The value argument must be within the support of the distribution\n",
      "  warnings.warn(\n"
     ]
    },
    {
     "name": "stdout",
     "output_type": "stream",
     "text": [
      "Epoch 41/70:  57%|█████▋    | 40/70 [00:02<00:02, 14.98it/s, loss=1.68e+03, v_num=1]"
     ]
    },
    {
     "name": "stderr",
     "output_type": "stream",
     "text": [
      "/mnt/md0/jin/anaconda3/lib/python3.9/site-packages/scvi/distributions/_negative_binomial.py:476: UserWarning: The value argument must be within the support of the distribution\n",
      "  warnings.warn(\n"
     ]
    },
    {
     "name": "stdout",
     "output_type": "stream",
     "text": [
      "Epoch 44/70:  61%|██████▏   | 43/70 [00:02<00:01, 14.98it/s, loss=1.68e+03, v_num=1]"
     ]
    },
    {
     "name": "stderr",
     "output_type": "stream",
     "text": [
      "/mnt/md0/jin/anaconda3/lib/python3.9/site-packages/scvi/distributions/_negative_binomial.py:476: UserWarning: The value argument must be within the support of the distribution\n",
      "  warnings.warn(\n",
      "/mnt/md0/jin/anaconda3/lib/python3.9/site-packages/scvi/distributions/_negative_binomial.py:476: UserWarning: The value argument must be within the support of the distribution\n",
      "  warnings.warn(\n",
      "/mnt/md0/jin/anaconda3/lib/python3.9/site-packages/scvi/distributions/_negative_binomial.py:476: UserWarning: The value argument must be within the support of the distribution\n",
      "  warnings.warn(\n",
      "/mnt/md0/jin/anaconda3/lib/python3.9/site-packages/scvi/distributions/_negative_binomial.py:476: UserWarning: The value argument must be within the support of the distribution\n",
      "  warnings.warn(\n",
      "/mnt/md0/jin/anaconda3/lib/python3.9/site-packages/scvi/distributions/_negative_binomial.py:476: UserWarning: The value argument must be within the support of the distribution\n",
      "  warnings.warn(\n"
     ]
    },
    {
     "name": "stdout",
     "output_type": "stream",
     "text": [
      "Epoch 45/70:  63%|██████▎   | 44/70 [00:02<00:01, 15.15it/s, loss=1.68e+03, v_num=1]"
     ]
    },
    {
     "name": "stderr",
     "output_type": "stream",
     "text": [
      "/mnt/md0/jin/anaconda3/lib/python3.9/site-packages/scvi/distributions/_negative_binomial.py:476: UserWarning: The value argument must be within the support of the distribution\n",
      "  warnings.warn(\n"
     ]
    },
    {
     "name": "stdout",
     "output_type": "stream",
     "text": [
      "Epoch 48/70:  67%|██████▋   | 47/70 [00:03<00:01, 15.15it/s, loss=1.67e+03, v_num=1]"
     ]
    },
    {
     "name": "stderr",
     "output_type": "stream",
     "text": [
      "/mnt/md0/jin/anaconda3/lib/python3.9/site-packages/scvi/distributions/_negative_binomial.py:476: UserWarning: The value argument must be within the support of the distribution\n",
      "  warnings.warn(\n",
      "/mnt/md0/jin/anaconda3/lib/python3.9/site-packages/scvi/distributions/_negative_binomial.py:476: UserWarning: The value argument must be within the support of the distribution\n",
      "  warnings.warn(\n",
      "/mnt/md0/jin/anaconda3/lib/python3.9/site-packages/scvi/distributions/_negative_binomial.py:476: UserWarning: The value argument must be within the support of the distribution\n",
      "  warnings.warn(\n",
      "/mnt/md0/jin/anaconda3/lib/python3.9/site-packages/scvi/distributions/_negative_binomial.py:476: UserWarning: The value argument must be within the support of the distribution\n",
      "  warnings.warn(\n",
      "/mnt/md0/jin/anaconda3/lib/python3.9/site-packages/scvi/distributions/_negative_binomial.py:476: UserWarning: The value argument must be within the support of the distribution\n",
      "  warnings.warn(\n",
      "/mnt/md0/jin/anaconda3/lib/python3.9/site-packages/scvi/distributions/_negative_binomial.py:476: UserWarning: The value argument must be within the support of the distribution\n",
      "  warnings.warn(\n"
     ]
    },
    {
     "name": "stdout",
     "output_type": "stream",
     "text": [
      "Epoch 51/70:  71%|███████▏  | 50/70 [00:03<00:01, 15.21it/s, loss=1.66e+03, v_num=1]"
     ]
    },
    {
     "name": "stderr",
     "output_type": "stream",
     "text": [
      "/mnt/md0/jin/anaconda3/lib/python3.9/site-packages/scvi/distributions/_negative_binomial.py:476: UserWarning: The value argument must be within the support of the distribution\n",
      "  warnings.warn(\n",
      "/mnt/md0/jin/anaconda3/lib/python3.9/site-packages/scvi/distributions/_negative_binomial.py:476: UserWarning: The value argument must be within the support of the distribution\n",
      "  warnings.warn(\n",
      "/mnt/md0/jin/anaconda3/lib/python3.9/site-packages/scvi/distributions/_negative_binomial.py:476: UserWarning: The value argument must be within the support of the distribution\n",
      "  warnings.warn(\n",
      "/mnt/md0/jin/anaconda3/lib/python3.9/site-packages/scvi/distributions/_negative_binomial.py:476: UserWarning: The value argument must be within the support of the distribution\n",
      "  warnings.warn(\n"
     ]
    },
    {
     "name": "stdout",
     "output_type": "stream",
     "text": [
      "Epoch 52/70:  73%|███████▎  | 51/70 [00:03<00:01, 15.21it/s, loss=1.66e+03, v_num=1]"
     ]
    },
    {
     "name": "stderr",
     "output_type": "stream",
     "text": [
      "/mnt/md0/jin/anaconda3/lib/python3.9/site-packages/scvi/distributions/_negative_binomial.py:476: UserWarning: The value argument must be within the support of the distribution\n",
      "  warnings.warn(\n"
     ]
    },
    {
     "name": "stdout",
     "output_type": "stream",
     "text": [
      "Epoch 55/70:  77%|███████▋  | 54/70 [00:03<00:01, 15.35it/s, loss=1.65e+03, v_num=1]"
     ]
    },
    {
     "name": "stderr",
     "output_type": "stream",
     "text": [
      "/mnt/md0/jin/anaconda3/lib/python3.9/site-packages/scvi/distributions/_negative_binomial.py:476: UserWarning: The value argument must be within the support of the distribution\n",
      "  warnings.warn(\n",
      "/mnt/md0/jin/anaconda3/lib/python3.9/site-packages/scvi/distributions/_negative_binomial.py:476: UserWarning: The value argument must be within the support of the distribution\n",
      "  warnings.warn(\n",
      "/mnt/md0/jin/anaconda3/lib/python3.9/site-packages/scvi/distributions/_negative_binomial.py:476: UserWarning: The value argument must be within the support of the distribution\n",
      "  warnings.warn(\n",
      "/mnt/md0/jin/anaconda3/lib/python3.9/site-packages/scvi/distributions/_negative_binomial.py:476: UserWarning: The value argument must be within the support of the distribution\n",
      "  warnings.warn(\n",
      "/mnt/md0/jin/anaconda3/lib/python3.9/site-packages/scvi/distributions/_negative_binomial.py:476: UserWarning: The value argument must be within the support of the distribution\n",
      "  warnings.warn(\n",
      "/mnt/md0/jin/anaconda3/lib/python3.9/site-packages/scvi/distributions/_negative_binomial.py:476: UserWarning: The value argument must be within the support of the distribution\n",
      "  warnings.warn(\n"
     ]
    },
    {
     "name": "stdout",
     "output_type": "stream",
     "text": [
      "Epoch 58/70:  81%|████████▏ | 57/70 [00:03<00:00, 15.34it/s, loss=1.63e+03, v_num=1]"
     ]
    },
    {
     "name": "stderr",
     "output_type": "stream",
     "text": [
      "/mnt/md0/jin/anaconda3/lib/python3.9/site-packages/scvi/distributions/_negative_binomial.py:476: UserWarning: The value argument must be within the support of the distribution\n",
      "  warnings.warn(\n",
      "/mnt/md0/jin/anaconda3/lib/python3.9/site-packages/scvi/distributions/_negative_binomial.py:476: UserWarning: The value argument must be within the support of the distribution\n",
      "  warnings.warn(\n",
      "/mnt/md0/jin/anaconda3/lib/python3.9/site-packages/scvi/distributions/_negative_binomial.py:476: UserWarning: The value argument must be within the support of the distribution\n",
      "  warnings.warn(\n",
      "/mnt/md0/jin/anaconda3/lib/python3.9/site-packages/scvi/distributions/_negative_binomial.py:476: UserWarning: The value argument must be within the support of the distribution\n",
      "  warnings.warn(\n",
      "/mnt/md0/jin/anaconda3/lib/python3.9/site-packages/scvi/distributions/_negative_binomial.py:476: UserWarning: The value argument must be within the support of the distribution\n",
      "  warnings.warn(\n"
     ]
    },
    {
     "name": "stdout",
     "output_type": "stream",
     "text": [
      "Epoch 59/70:  83%|████████▎ | 58/70 [00:03<00:00, 15.46it/s, loss=1.63e+03, v_num=1]"
     ]
    },
    {
     "name": "stderr",
     "output_type": "stream",
     "text": [
      "/mnt/md0/jin/anaconda3/lib/python3.9/site-packages/scvi/distributions/_negative_binomial.py:476: UserWarning: The value argument must be within the support of the distribution\n",
      "  warnings.warn(\n"
     ]
    },
    {
     "name": "stdout",
     "output_type": "stream",
     "text": [
      "Epoch 62/70:  87%|████████▋ | 61/70 [00:04<00:00, 15.47it/s, loss=1.63e+03, v_num=1]"
     ]
    },
    {
     "name": "stderr",
     "output_type": "stream",
     "text": [
      "/mnt/md0/jin/anaconda3/lib/python3.9/site-packages/scvi/distributions/_negative_binomial.py:476: UserWarning: The value argument must be within the support of the distribution\n",
      "  warnings.warn(\n",
      "/mnt/md0/jin/anaconda3/lib/python3.9/site-packages/scvi/distributions/_negative_binomial.py:476: UserWarning: The value argument must be within the support of the distribution\n",
      "  warnings.warn(\n",
      "/mnt/md0/jin/anaconda3/lib/python3.9/site-packages/scvi/distributions/_negative_binomial.py:476: UserWarning: The value argument must be within the support of the distribution\n",
      "  warnings.warn(\n",
      "/mnt/md0/jin/anaconda3/lib/python3.9/site-packages/scvi/distributions/_negative_binomial.py:476: UserWarning: The value argument must be within the support of the distribution\n",
      "  warnings.warn(\n",
      "/mnt/md0/jin/anaconda3/lib/python3.9/site-packages/scvi/distributions/_negative_binomial.py:476: UserWarning: The value argument must be within the support of the distribution\n",
      "  warnings.warn(\n"
     ]
    },
    {
     "name": "stdout",
     "output_type": "stream",
     "text": [
      "Epoch 65/70:  91%|█████████▏| 64/70 [00:04<00:00, 15.13it/s, loss=1.62e+03, v_num=1]"
     ]
    },
    {
     "name": "stderr",
     "output_type": "stream",
     "text": [
      "/mnt/md0/jin/anaconda3/lib/python3.9/site-packages/scvi/distributions/_negative_binomial.py:476: UserWarning: The value argument must be within the support of the distribution\n",
      "  warnings.warn(\n",
      "/mnt/md0/jin/anaconda3/lib/python3.9/site-packages/scvi/distributions/_negative_binomial.py:476: UserWarning: The value argument must be within the support of the distribution\n",
      "  warnings.warn(\n",
      "/mnt/md0/jin/anaconda3/lib/python3.9/site-packages/scvi/distributions/_negative_binomial.py:476: UserWarning: The value argument must be within the support of the distribution\n",
      "  warnings.warn(\n",
      "/mnt/md0/jin/anaconda3/lib/python3.9/site-packages/scvi/distributions/_negative_binomial.py:476: UserWarning: The value argument must be within the support of the distribution\n",
      "  warnings.warn(\n",
      "/mnt/md0/jin/anaconda3/lib/python3.9/site-packages/scvi/distributions/_negative_binomial.py:476: UserWarning: The value argument must be within the support of the distribution\n",
      "  warnings.warn(\n"
     ]
    },
    {
     "name": "stdout",
     "output_type": "stream",
     "text": [
      "Epoch 69/70:  97%|█████████▋| 68/70 [00:04<00:00, 15.04it/s, loss=1.61e+03, v_num=1]"
     ]
    },
    {
     "name": "stderr",
     "output_type": "stream",
     "text": [
      "/mnt/md0/jin/anaconda3/lib/python3.9/site-packages/scvi/distributions/_negative_binomial.py:476: UserWarning: The value argument must be within the support of the distribution\n",
      "  warnings.warn(\n",
      "/mnt/md0/jin/anaconda3/lib/python3.9/site-packages/scvi/distributions/_negative_binomial.py:476: UserWarning: The value argument must be within the support of the distribution\n",
      "  warnings.warn(\n",
      "/mnt/md0/jin/anaconda3/lib/python3.9/site-packages/scvi/distributions/_negative_binomial.py:476: UserWarning: The value argument must be within the support of the distribution\n",
      "  warnings.warn(\n",
      "/mnt/md0/jin/anaconda3/lib/python3.9/site-packages/scvi/distributions/_negative_binomial.py:476: UserWarning: The value argument must be within the support of the distribution\n",
      "  warnings.warn(\n",
      "/mnt/md0/jin/anaconda3/lib/python3.9/site-packages/scvi/distributions/_negative_binomial.py:476: UserWarning: The value argument must be within the support of the distribution\n",
      "  warnings.warn(\n",
      "/mnt/md0/jin/anaconda3/lib/python3.9/site-packages/scvi/distributions/_negative_binomial.py:476: UserWarning: The value argument must be within the support of the distribution\n",
      "  warnings.warn(\n"
     ]
    },
    {
     "name": "stdout",
     "output_type": "stream",
     "text": [
      "Epoch 70/70: 100%|██████████| 70/70 [00:04<00:00, 15.16it/s, loss=1.59e+03, v_num=1]"
     ]
    },
    {
     "name": "stderr",
     "output_type": "stream",
     "text": [
      "/mnt/md0/jin/anaconda3/lib/python3.9/site-packages/scvi/distributions/_negative_binomial.py:476: UserWarning: The value argument must be within the support of the distribution\n",
      "  warnings.warn(\n",
      "/mnt/md0/jin/anaconda3/lib/python3.9/site-packages/scvi/distributions/_negative_binomial.py:476: UserWarning: The value argument must be within the support of the distribution\n",
      "  warnings.warn(\n",
      "`Trainer.fit` stopped: `max_epochs=70` reached.\n"
     ]
    },
    {
     "name": "stdout",
     "output_type": "stream",
     "text": [
      "Epoch 70/70: 100%|██████████| 70/70 [00:04<00:00, 15.05it/s, loss=1.59e+03, v_num=1]\n"
     ]
    },
    {
     "data": {
      "image/png": "[encoded data removed]",
      "text/plain": [
       "<Figure size 1000x400 with 1 Axes>"
      ]
     },
     "metadata": {},
     "output_type": "display_data"
    }
   ],
   "source": [
    "def prepare_data(adata_ref, adata_vis):\n",
    "    \"\"\"\n",
    "    Prepare reference and visium data by finding common genes and handling negative values.\n",
    "    \n",
    "    Parameters\n",
    "    ----------\n",
    "    adata_ref : AnnData\n",
    "        Reference single-cell dataset\n",
    "    adata_vis : AnnData\n",
    "        Visium spatial dataset\n",
    "        \n",
    "    Returns\n",
    "    -------\n",
    "    tuple\n",
    "        Processed copies of reference and visium data\n",
    "    \"\"\"\n",
    "    adata_ref_copy = adata_ref.copy()\n",
    "    adata_vis_copy = adata_vis.copy()\n",
    "\n",
    "    # Find common genes\n",
    "    intersects = np.intersect1d(adata_ref.var.index, adata_vis.var.index)\n",
    "    adata_vis_copy = adata_vis_copy[:, intersects].copy()\n",
    "    adata_ref_copy = adata_ref_copy[:, intersects].copy()\n",
    "\n",
    "    # Handle negative values in reference data\n",
    "    def handle_negative_values(adata, data_name):\n",
    "        min_value = np.min(adata.X)\n",
    "        max_value = np.max(adata.X)\n",
    "        negative_count = np.sum(adata.X < 0)\n",
    "        negative_percentage = negative_count/(adata.shape[0] * adata.shape[1]) * 100\n",
    "\n",
    "        print(f\"\\nChecking {data_name}:\")\n",
    "        print(f\"Min value in data: {min_value}\")\n",
    "        print(f\"Max value in data: {max_value}\")\n",
    "        print(f\"Number of negative values: {negative_count}\")\n",
    "        print(f\"Percentage of negative values: {negative_percentage:.4f}%\")\n",
    "\n",
    "        if negative_count > 0:\n",
    "            print(\"\\n⚠️ WARNING: Negative values detected in the expression matrix.\")\n",
    "            print(\"These are likely due to normalization or preprocessing steps.\")\n",
    "            print(\"Replacing all negative values with zeros to ensure compatibility with downstream analysis.\")\n",
    "            \n",
    "            adata.X[adata.X < 0] = 0\n",
    "            print(f\"After replacement - Min value: {np.min(adata.X)}\")\n",
    "            assert np.min(adata.X) >= 0, \"Failed to replace all negative values\"\n",
    "\n",
    "        adata.layers[\"data\"] = adata.X\n",
    "        return adata\n",
    "\n",
    "    adata_ref_copy = handle_negative_values(adata_ref_copy, \"reference data\")\n",
    "    adata_vis_copy = handle_negative_values(adata_vis_copy, \"spatial data\")\n",
    "\n",
    "    return adata_ref_copy, adata_vis_copy\n",
    "\n",
    "def train_scvi_model(adata, max_epochs=50, batch_size=128, device=None, seed=42, model_type=\"reference\"):\n",
    "    \"\"\"\n",
    "    Train a scVI model on the provided AnnData object.\n",
    "    \n",
    "    Parameters\n",
    "    ----------\n",
    "    adata : AnnData\n",
    "        Annotated data matrix with setup already performed\n",
    "    max_epochs : int, default=50\n",
    "        Maximum number of training epochs\n",
    "    batch_size : int, default=128\n",
    "        Batch size for training\n",
    "    device : int or bool, default=None\n",
    "        GPU device number to use, False for CPU, None for auto-detection\n",
    "    seed : int, default=42\n",
    "        Random seed for reproducibility\n",
    "    model_type : str, default=\"reference\"\n",
    "        Type of model to train (\"reference\" or \"spatial\")\n",
    "        \n",
    "    Returns\n",
    "    -------\n",
    "    scvi.model.SCVI\n",
    "        Trained scVI model\n",
    "    \"\"\"\n",
    "    set_seed(seed)\n",
    "    \n",
    "    gpu_available = torch.cuda.is_available()\n",
    "    use_gpu = False\n",
    "    if gpu_available:\n",
    "        if device is None:\n",
    "            use_gpu = True\n",
    "            device_str = \"GPU\"\n",
    "        elif device is False:\n",
    "            use_gpu = False\n",
    "            device_str = \"CPU (forced)\"\n",
    "        else:\n",
    "            use_gpu = True\n",
    "            device_str = f\"GPU (device {device})\"\n",
    "    else:\n",
    "        device_str = \"CPU (no GPU available)\"\n",
    "\n",
    "    if model_type == \"reference\":\n",
    "        model = scvi.model.SCVI(adata,\n",
    "                            n_hidden=256,\n",
    "                            n_layers=3,\n",
    "                            n_latent=16,\n",
    "                            gene_likelihood=\"zinb\",\n",
    "                            dropout_rate=0.1,\n",
    "                            latent_distribution=\"normal\",\n",
    "                            dispersion='gene-cell')\n",
    "    else:\n",
    "        model = scvi.model.SCVI(adata,\n",
    "                            n_hidden=128,\n",
    "                            n_layers=3,\n",
    "                            n_latent=16,\n",
    "                            gene_likelihood=\"zinb\",\n",
    "                            dropout_rate=0,\n",
    "                            latent_distribution=\"normal\")\n",
    "\n",
    "    print(f\"\\nTraining {model_type} model on {device_str}\")\n",
    "    model.train(max_epochs=max_epochs,\n",
    "                train_size=1,\n",
    "                batch_size=batch_size,\n",
    "                early_stopping=False,\n",
    "                check_val_every_n_epoch=10,\n",
    "                use_gpu=use_gpu)\n",
    "\n",
    "    train_elbo = model.history['elbo_train'][1:]\n",
    "    plt.figure(figsize=(10, 4))\n",
    "    plt.plot(train_elbo)\n",
    "    plt.xlabel('Epochs')\n",
    "    plt.ylabel('ELBO loss')\n",
    "    plt.title(f'Training loss curve - {model_type} model')\n",
    "    plt.tight_layout()\n",
    "    plt.show()\n",
    "\n",
    "    return model\n",
    "\n",
    "def get_latent_representation(model, adata):\n",
    "    \"\"\"\n",
    "    Get latent representation from trained model and store in AnnData.\n",
    "    \n",
    "    Parameters\n",
    "    ----------\n",
    "    model : scvi.model.SCVI\n",
    "        Trained scVI model\n",
    "    adata : AnnData\n",
    "        Data object to store latent representation\n",
    "        \n",
    "    Returns\n",
    "    -------\n",
    "    AnnData\n",
    "        Data object with added latent representation\n",
    "    \"\"\"\n",
    "    latent = model.get_latent_representation(give_mean=True, return_dist=True)\n",
    "    adata.obsm['mus'] = latent[0]\n",
    "    adata.obsm['var'] = latent[1]\n",
    "    return adata\n",
    "\n",
    "# Main workflow\n",
    "def run_scvi_analysis(adata_ref, adata_vis, seed=42):\n",
    "    \"\"\"\n",
    "    Run complete scVI analysis workflow.\n",
    "    \n",
    "    Parameters\n",
    "    ----------\n",
    "    adata_ref : AnnData\n",
    "        Reference single-cell dataset\n",
    "    adata_vis : AnnData\n",
    "        Visium spatial dataset\n",
    "    seed : int, default=42\n",
    "        Random seed for reproducibility\n",
    "        \n",
    "    Returns\n",
    "    -------\n",
    "    tuple\n",
    "        Processed reference and visium data with latent representations\n",
    "    \"\"\"\n",
    "    # Prepare data\n",
    "    adata_ref_copy, adata_vis_copy = prepare_data(adata_ref, adata_vis)\n",
    "    \n",
    "    # Setup and train reference model\n",
    "    set_seed(seed)\n",
    "    scvi.model.SCVI.setup_anndata(adata_ref_copy, layer=\"data\", labels_key=\"celltype\")\n",
    "    model_ref = train_scvi_model(adata_ref_copy, model_type=\"reference\", seed=seed)\n",
    "    adata_ref_copy = get_latent_representation(model_ref, adata_ref_copy)\n",
    "    \n",
    "    set_seed(seed)\n",
    "    # Setup and train visium model\n",
    "    scvi.model.SCVI.setup_anndata(adata_vis_copy, layer=\"data\")\n",
    "    model_vis = train_scvi_model(adata_vis_copy, max_epochs=70, batch_size=64, model_type=\"spatial\", seed=seed)\n",
    "    adata_vis_copy = get_latent_representation(model_vis, adata_vis_copy)\n",
    "    \n",
    "    # Add spatial information if available\n",
    "    if (adata_vis.obs_names==adata_vis_copy.obs_names).sum() == adata_vis.shape[0]:\n",
    "        adata_vis_copy.obsm['spatial'] = adata_vis.obsm['spatial']\n",
    "    \n",
    "    return adata_ref_copy, adata_vis_copy\n",
    "\n",
    "adata_ref_copy, adata_vis_copy = run_scvi_analysis(adata_ref, adata_vis)"
   ]
  },
  {
   "cell_type": "markdown",
   "id": "5541702e-25e3-4653-a4e4-b126e1b10610",
   "metadata": {
    "jp-MarkdownHeadingCollapsed": true,
    "tags": []
   },
   "source": [
    "# Spatial decomposition and visualizations"
   ]
  },
  {
   "cell_type": "code",
   "execution_count": 5,
   "id": "4aa644d1-2881-4361-8884-cf268dffc159",
   "metadata": {},
   "outputs": [
    {
     "name": "stderr",
     "output_type": "stream",
     "text": [
      "Global seed set to 42\n"
     ]
    },
    {
     "name": "stdout",
     "output_type": "stream",
     "text": [
      "it's good to go\n",
      "adam_st_torch function parameters:\n",
      "  regularization_option: 1 = Fastest (just Frobenius norm, no regularization)\n",
      "                         2 = Simple regularization with argsort (faster)\n",
      "                         3 = Sophisticated regularization with softmax (slower but potentially better)\n",
      "  iteration_option:      1 = Use estimated iterations (est_iter)\n",
      "                         2 = Use range-based iterations (end_range)\n",
      "                         3 = Use user-defined iterations\n",
      "  user_defined_iterations: Number of iterations if iteration_option is 3\n",
      "  similarity_weight:     Weight for similarity loss (should be 0 for regularization_option=1)\n",
      "  celltype_distance_weight: Weight for celltype distance loss (should be 0 for regularization_option=1)\n",
      "Using Option 2: Simple regularization\n"
     ]
    },
    {
     "name": "stderr",
     "output_type": "stream",
     "text": [
      "/tmp/ipykernel_464166/2305974174.py:478: UserWarning: To copy construct from a tensor, it is recommended to use sourceTensor.clone().detach() or sourceTensor.clone().detach().requires_grad_(True), rather than torch.tensor(sourceTensor).\n",
      "  celltype_gene_matrix_torch = torch.tensor(celltype_gene_matrix_torch, requires_grad=False).to(device)\n",
      "/tmp/ipykernel_464166/2305974174.py:379: UserWarning: To copy construct from a tensor, it is recommended to use sourceTensor.clone().detach() or sourceTensor.clone().detach().requires_grad_(True), rather than torch.tensor(sourceTensor).\n",
      "  distance_sc_tensor = torch.tensor(distance_sc).cuda()\n",
      "/tmp/ipykernel_464166/2305974174.py:383: UserWarning: To copy construct from a tensor, it is recommended to use sourceTensor.clone().detach() or sourceTensor.clone().detach().requires_grad_(True), rather than torch.tensor(sourceTensor).\n",
      "  ranks_sc = torch.tensor(torch.argsort(torch.argsort(distance_sc_tensor, dim=1), dim=1),\n",
      "/tmp/ipykernel_464166/2305974174.py:262: UserWarning: To copy construct from a tensor, it is recommended to use sourceTensor.clone().detach() or sourceTensor.clone().detach().requires_grad_(True), rather than torch.tensor(sourceTensor).\n",
      "  distance_st_tensor = torch.tensor(distance_st).cuda()\n",
      "/tmp/ipykernel_464166/2305974174.py:266: UserWarning: To copy construct from a tensor, it is recommended to use sourceTensor.clone().detach() or sourceTensor.clone().detach().requires_grad_(True), rather than torch.tensor(sourceTensor).\n",
      "  ranks_st = torch.tensor(torch.argsort(torch.argsort(distance_st_tensor, dim=1), dim=1), dtype=torch.float, requires_grad=True)\n",
      "/tmp/ipykernel_464166/2305974174.py:292: UserWarning: To copy construct from a tensor, it is recommended to use sourceTensor.clone().detach() or sourceTensor.clone().detach().requires_grad_(True), rather than torch.tensor(sourceTensor).\n",
      "  distance_st2_tensor = torch.tensor(distance_st2).cuda()\n",
      "/tmp/ipykernel_464166/2305974174.py:296: UserWarning: To copy construct from a tensor, it is recommended to use sourceTensor.clone().detach() or sourceTensor.clone().detach().requires_grad_(True), rather than torch.tensor(sourceTensor).\n",
      "  rankings = torch.tensor(torch.argsort(torch.argsort(distance_st2_tensor, dim=1), dim=1), dtype=torch.float, requires_grad=True)\n"
     ]
    },
    {
     "name": "stdout",
     "output_type": "stream",
     "text": [
      "Iteration [246000/445790], Entire Loss: 16204.1806640625, Original: 437.620849609375, Regularization 1: 15762.5, Regularization 2: 4.059999942779541\n",
      "Computing R2 score using existing 'annotation' column in spatial dataset...\n",
      "This helps validate that the previously provided annotation is valid.\n",
      "Optimization terminated successfully.\n",
      "         Current function value: 1.209466\n",
      "         Iterations 8\n",
      "McFadden's R-squared redeconve annotation: 0.0892\n"
     ]
    },
    {
     "name": "stderr",
     "output_type": "stream",
     "text": [
      "/tmp/ipykernel_464166/2305974174.py:262: UserWarning: To copy construct from a tensor, it is recommended to use sourceTensor.clone().detach() or sourceTensor.clone().detach().requires_grad_(True), rather than torch.tensor(sourceTensor).\n",
      "  distance_st_tensor = torch.tensor(distance_st).cuda()\n",
      "/tmp/ipykernel_464166/2305974174.py:266: UserWarning: To copy construct from a tensor, it is recommended to use sourceTensor.clone().detach() or sourceTensor.clone().detach().requires_grad_(True), rather than torch.tensor(sourceTensor).\n",
      "  ranks_st = torch.tensor(torch.argsort(torch.argsort(distance_st_tensor, dim=1), dim=1), dtype=torch.float, requires_grad=True)\n",
      "/tmp/ipykernel_464166/2305974174.py:292: UserWarning: To copy construct from a tensor, it is recommended to use sourceTensor.clone().detach() or sourceTensor.clone().detach().requires_grad_(True), rather than torch.tensor(sourceTensor).\n",
      "  distance_st2_tensor = torch.tensor(distance_st2).cuda()\n",
      "/tmp/ipykernel_464166/2305974174.py:296: UserWarning: To copy construct from a tensor, it is recommended to use sourceTensor.clone().detach() or sourceTensor.clone().detach().requires_grad_(True), rather than torch.tensor(sourceTensor).\n",
      "  rankings = torch.tensor(torch.argsort(torch.argsort(distance_st2_tensor, dim=1), dim=1), dtype=torch.float, requires_grad=True)\n"
     ]
    },
    {
     "name": "stdout",
     "output_type": "stream",
     "text": [
      "Iteration [249000/445790], Entire Loss: 16132.78125, Original: 437.5071105957031, Regularization 1: 15691.2001953125, Regularization 2: 4.07450008392334\n",
      "Computing R2 score using existing 'annotation' column in spatial dataset...\n",
      "This helps validate that the previously provided annotation is valid.\n",
      "Optimization terminated successfully.\n",
      "         Current function value: 1.194152\n",
      "         Iterations 7\n",
      "McFadden's R-squared redeconve annotation: 0.1008\n"
     ]
    },
    {
     "name": "stderr",
     "output_type": "stream",
     "text": [
      "/tmp/ipykernel_464166/2305974174.py:262: UserWarning: To copy construct from a tensor, it is recommended to use sourceTensor.clone().detach() or sourceTensor.clone().detach().requires_grad_(True), rather than torch.tensor(sourceTensor).\n",
      "  distance_st_tensor = torch.tensor(distance_st).cuda()\n",
      "/tmp/ipykernel_464166/2305974174.py:266: UserWarning: To copy construct from a tensor, it is recommended to use sourceTensor.clone().detach() or sourceTensor.clone().detach().requires_grad_(True), rather than torch.tensor(sourceTensor).\n",
      "  ranks_st = torch.tensor(torch.argsort(torch.argsort(distance_st_tensor, dim=1), dim=1), dtype=torch.float, requires_grad=True)\n",
      "/tmp/ipykernel_464166/2305974174.py:292: UserWarning: To copy construct from a tensor, it is recommended to use sourceTensor.clone().detach() or sourceTensor.clone().detach().requires_grad_(True), rather than torch.tensor(sourceTensor).\n",
      "  distance_st2_tensor = torch.tensor(distance_st2).cuda()\n",
      "/tmp/ipykernel_464166/2305974174.py:296: UserWarning: To copy construct from a tensor, it is recommended to use sourceTensor.clone().detach() or sourceTensor.clone().detach().requires_grad_(True), rather than torch.tensor(sourceTensor).\n",
      "  rankings = torch.tensor(torch.argsort(torch.argsort(distance_st2_tensor, dim=1), dim=1), dtype=torch.float, requires_grad=True)\n"
     ]
    },
    {
     "name": "stdout",
     "output_type": "stream",
     "text": [
      "Iteration [252000/445790], Entire Loss: 16056.1123046875, Original: 437.3949279785156, Regularization 1: 15614.6005859375, Regularization 2: 4.117000102996826\n",
      "Computing R2 score using existing 'annotation' column in spatial dataset...\n",
      "This helps validate that the previously provided annotation is valid.\n",
      "Optimization terminated successfully.\n",
      "         Current function value: 1.171464\n",
      "         Iterations 7\n",
      "McFadden's R-squared redeconve annotation: 0.1178\n"
     ]
    },
    {
     "name": "stderr",
     "output_type": "stream",
     "text": [
      "/tmp/ipykernel_464166/2305974174.py:262: UserWarning: To copy construct from a tensor, it is recommended to use sourceTensor.clone().detach() or sourceTensor.clone().detach().requires_grad_(True), rather than torch.tensor(sourceTensor).\n",
      "  distance_st_tensor = torch.tensor(distance_st).cuda()\n",
      "/tmp/ipykernel_464166/2305974174.py:266: UserWarning: To copy construct from a tensor, it is recommended to use sourceTensor.clone().detach() or sourceTensor.clone().detach().requires_grad_(True), rather than torch.tensor(sourceTensor).\n",
      "  ranks_st = torch.tensor(torch.argsort(torch.argsort(distance_st_tensor, dim=1), dim=1), dtype=torch.float, requires_grad=True)\n",
      "/tmp/ipykernel_464166/2305974174.py:292: UserWarning: To copy construct from a tensor, it is recommended to use sourceTensor.clone().detach() or sourceTensor.clone().detach().requires_grad_(True), rather than torch.tensor(sourceTensor).\n",
      "  distance_st2_tensor = torch.tensor(distance_st2).cuda()\n",
      "/tmp/ipykernel_464166/2305974174.py:296: UserWarning: To copy construct from a tensor, it is recommended to use sourceTensor.clone().detach() or sourceTensor.clone().detach().requires_grad_(True), rather than torch.tensor(sourceTensor).\n",
      "  rankings = torch.tensor(torch.argsort(torch.argsort(distance_st2_tensor, dim=1), dim=1), dtype=torch.float, requires_grad=True)\n"
     ]
    },
    {
     "name": "stdout",
     "output_type": "stream",
     "text": [
      "Iteration [255000/445790], Entire Loss: 15999.8330078125, Original: 437.28448486328125, Regularization 1: 15558.400390625, Regularization 2: 4.148499965667725\n",
      "Computing R2 score using existing 'annotation' column in spatial dataset...\n",
      "This helps validate that the previously provided annotation is valid.\n",
      "Optimization terminated successfully.\n",
      "         Current function value: 1.136037\n",
      "         Iterations 7\n",
      "McFadden's R-squared redeconve annotation: 0.1445\n"
     ]
    },
    {
     "name": "stderr",
     "output_type": "stream",
     "text": [
      "/tmp/ipykernel_464166/2305974174.py:262: UserWarning: To copy construct from a tensor, it is recommended to use sourceTensor.clone().detach() or sourceTensor.clone().detach().requires_grad_(True), rather than torch.tensor(sourceTensor).\n",
      "  distance_st_tensor = torch.tensor(distance_st).cuda()\n",
      "/tmp/ipykernel_464166/2305974174.py:266: UserWarning: To copy construct from a tensor, it is recommended to use sourceTensor.clone().detach() or sourceTensor.clone().detach().requires_grad_(True), rather than torch.tensor(sourceTensor).\n",
      "  ranks_st = torch.tensor(torch.argsort(torch.argsort(distance_st_tensor, dim=1), dim=1), dtype=torch.float, requires_grad=True)\n",
      "/tmp/ipykernel_464166/2305974174.py:292: UserWarning: To copy construct from a tensor, it is recommended to use sourceTensor.clone().detach() or sourceTensor.clone().detach().requires_grad_(True), rather than torch.tensor(sourceTensor).\n",
      "  distance_st2_tensor = torch.tensor(distance_st2).cuda()\n",
      "/tmp/ipykernel_464166/2305974174.py:296: UserWarning: To copy construct from a tensor, it is recommended to use sourceTensor.clone().detach() or sourceTensor.clone().detach().requires_grad_(True), rather than torch.tensor(sourceTensor).\n",
      "  rankings = torch.tensor(torch.argsort(torch.argsort(distance_st2_tensor, dim=1), dim=1), dtype=torch.float, requires_grad=True)\n"
     ]
    },
    {
     "name": "stdout",
     "output_type": "stream",
     "text": [
      "Iteration [258000/445790], Entire Loss: 15951.529296875, Original: 437.1756896972656, Regularization 1: 15510.2001953125, Regularization 2: 4.153500080108643\n",
      "Computing R2 score using existing 'annotation' column in spatial dataset...\n",
      "This helps validate that the previously provided annotation is valid.\n",
      "Optimization terminated successfully.\n",
      "         Current function value: 1.081894\n",
      "         Iterations 8\n",
      "McFadden's R-squared redeconve annotation: 0.1853\n"
     ]
    },
    {
     "name": "stderr",
     "output_type": "stream",
     "text": [
      "/tmp/ipykernel_464166/2305974174.py:262: UserWarning: To copy construct from a tensor, it is recommended to use sourceTensor.clone().detach() or sourceTensor.clone().detach().requires_grad_(True), rather than torch.tensor(sourceTensor).\n",
      "  distance_st_tensor = torch.tensor(distance_st).cuda()\n",
      "/tmp/ipykernel_464166/2305974174.py:266: UserWarning: To copy construct from a tensor, it is recommended to use sourceTensor.clone().detach() or sourceTensor.clone().detach().requires_grad_(True), rather than torch.tensor(sourceTensor).\n",
      "  ranks_st = torch.tensor(torch.argsort(torch.argsort(distance_st_tensor, dim=1), dim=1), dtype=torch.float, requires_grad=True)\n",
      "/tmp/ipykernel_464166/2305974174.py:292: UserWarning: To copy construct from a tensor, it is recommended to use sourceTensor.clone().detach() or sourceTensor.clone().detach().requires_grad_(True), rather than torch.tensor(sourceTensor).\n",
      "  distance_st2_tensor = torch.tensor(distance_st2).cuda()\n",
      "/tmp/ipykernel_464166/2305974174.py:296: UserWarning: To copy construct from a tensor, it is recommended to use sourceTensor.clone().detach() or sourceTensor.clone().detach().requires_grad_(True), rather than torch.tensor(sourceTensor).\n",
      "  rankings = torch.tensor(torch.argsort(torch.argsort(distance_st2_tensor, dim=1), dim=1), dtype=torch.float, requires_grad=True)\n"
     ]
    },
    {
     "name": "stdout",
     "output_type": "stream",
     "text": [
      "Iteration [261000/445790], Entire Loss: 15899.2578125, Original: 437.0686340332031, Regularization 1: 15458.0, Regularization 2: 4.189500331878662\n",
      "Computing R2 score using existing 'annotation' column in spatial dataset...\n",
      "This helps validate that the previously provided annotation is valid.\n",
      "Optimization terminated successfully.\n",
      "         Current function value: 1.013060\n",
      "         Iterations 8\n",
      "McFadden's R-squared redeconve annotation: 0.2371\n"
     ]
    },
    {
     "name": "stderr",
     "output_type": "stream",
     "text": [
      "/tmp/ipykernel_464166/2305974174.py:262: UserWarning: To copy construct from a tensor, it is recommended to use sourceTensor.clone().detach() or sourceTensor.clone().detach().requires_grad_(True), rather than torch.tensor(sourceTensor).\n",
      "  distance_st_tensor = torch.tensor(distance_st).cuda()\n",
      "/tmp/ipykernel_464166/2305974174.py:266: UserWarning: To copy construct from a tensor, it is recommended to use sourceTensor.clone().detach() or sourceTensor.clone().detach().requires_grad_(True), rather than torch.tensor(sourceTensor).\n",
      "  ranks_st = torch.tensor(torch.argsort(torch.argsort(distance_st_tensor, dim=1), dim=1), dtype=torch.float, requires_grad=True)\n",
      "/tmp/ipykernel_464166/2305974174.py:292: UserWarning: To copy construct from a tensor, it is recommended to use sourceTensor.clone().detach() or sourceTensor.clone().detach().requires_grad_(True), rather than torch.tensor(sourceTensor).\n",
      "  distance_st2_tensor = torch.tensor(distance_st2).cuda()\n",
      "/tmp/ipykernel_464166/2305974174.py:296: UserWarning: To copy construct from a tensor, it is recommended to use sourceTensor.clone().detach() or sourceTensor.clone().detach().requires_grad_(True), rather than torch.tensor(sourceTensor).\n",
      "  rankings = torch.tensor(torch.argsort(torch.argsort(distance_st2_tensor, dim=1), dim=1), dtype=torch.float, requires_grad=True)\n"
     ]
    },
    {
     "name": "stdout",
     "output_type": "stream",
     "text": [
      "Iteration [264000/445790], Entire Loss: 15861.1005859375, Original: 436.96319580078125, Regularization 1: 15419.900390625, Regularization 2: 4.237500190734863\n",
      "Computing R2 score using existing 'annotation' column in spatial dataset...\n",
      "This helps validate that the previously provided annotation is valid.\n",
      "Optimization terminated successfully.\n",
      "         Current function value: 0.955326\n",
      "         Iterations 8\n",
      "McFadden's R-squared redeconve annotation: 0.2806\n"
     ]
    },
    {
     "name": "stderr",
     "output_type": "stream",
     "text": [
      "/tmp/ipykernel_464166/2305974174.py:262: UserWarning: To copy construct from a tensor, it is recommended to use sourceTensor.clone().detach() or sourceTensor.clone().detach().requires_grad_(True), rather than torch.tensor(sourceTensor).\n",
      "  distance_st_tensor = torch.tensor(distance_st).cuda()\n",
      "/tmp/ipykernel_464166/2305974174.py:266: UserWarning: To copy construct from a tensor, it is recommended to use sourceTensor.clone().detach() or sourceTensor.clone().detach().requires_grad_(True), rather than torch.tensor(sourceTensor).\n",
      "  ranks_st = torch.tensor(torch.argsort(torch.argsort(distance_st_tensor, dim=1), dim=1), dtype=torch.float, requires_grad=True)\n",
      "/tmp/ipykernel_464166/2305974174.py:292: UserWarning: To copy construct from a tensor, it is recommended to use sourceTensor.clone().detach() or sourceTensor.clone().detach().requires_grad_(True), rather than torch.tensor(sourceTensor).\n",
      "  distance_st2_tensor = torch.tensor(distance_st2).cuda()\n",
      "/tmp/ipykernel_464166/2305974174.py:296: UserWarning: To copy construct from a tensor, it is recommended to use sourceTensor.clone().detach() or sourceTensor.clone().detach().requires_grad_(True), rather than torch.tensor(sourceTensor).\n",
      "  rankings = torch.tensor(torch.argsort(torch.argsort(distance_st2_tensor, dim=1), dim=1), dtype=torch.float, requires_grad=True)\n"
     ]
    },
    {
     "name": "stdout",
     "output_type": "stream",
     "text": [
      "Iteration [267000/445790], Entire Loss: 15831.5380859375, Original: 436.859130859375, Regularization 1: 15390.400390625, Regularization 2: 4.278500080108643\n",
      "Computing R2 score using existing 'annotation' column in spatial dataset...\n",
      "This helps validate that the previously provided annotation is valid.\n",
      "Optimization terminated successfully.\n",
      "         Current function value: 0.925786\n",
      "         Iterations 8\n",
      "McFadden's R-squared redeconve annotation: 0.3028\n"
     ]
    },
    {
     "name": "stderr",
     "output_type": "stream",
     "text": [
      "/tmp/ipykernel_464166/2305974174.py:262: UserWarning: To copy construct from a tensor, it is recommended to use sourceTensor.clone().detach() or sourceTensor.clone().detach().requires_grad_(True), rather than torch.tensor(sourceTensor).\n",
      "  distance_st_tensor = torch.tensor(distance_st).cuda()\n",
      "/tmp/ipykernel_464166/2305974174.py:266: UserWarning: To copy construct from a tensor, it is recommended to use sourceTensor.clone().detach() or sourceTensor.clone().detach().requires_grad_(True), rather than torch.tensor(sourceTensor).\n",
      "  ranks_st = torch.tensor(torch.argsort(torch.argsort(distance_st_tensor, dim=1), dim=1), dtype=torch.float, requires_grad=True)\n",
      "/tmp/ipykernel_464166/2305974174.py:292: UserWarning: To copy construct from a tensor, it is recommended to use sourceTensor.clone().detach() or sourceTensor.clone().detach().requires_grad_(True), rather than torch.tensor(sourceTensor).\n",
      "  distance_st2_tensor = torch.tensor(distance_st2).cuda()\n",
      "/tmp/ipykernel_464166/2305974174.py:296: UserWarning: To copy construct from a tensor, it is recommended to use sourceTensor.clone().detach() or sourceTensor.clone().detach().requires_grad_(True), rather than torch.tensor(sourceTensor).\n",
      "  rankings = torch.tensor(torch.argsort(torch.argsort(distance_st2_tensor, dim=1), dim=1), dtype=torch.float, requires_grad=True)\n"
     ]
    },
    {
     "name": "stdout",
     "output_type": "stream",
     "text": [
      "Iteration [270000/445790], Entire Loss: 15803.970703125, Original: 436.75628662109375, Regularization 1: 15362.900390625, Regularization 2: 4.314500331878662\n",
      "Computing R2 score using existing 'annotation' column in spatial dataset...\n",
      "This helps validate that the previously provided annotation is valid.\n",
      "Optimization terminated successfully.\n",
      "         Current function value: 0.915110\n",
      "         Iterations 8\n",
      "McFadden's R-squared redeconve annotation: 0.3109\n"
     ]
    },
    {
     "name": "stderr",
     "output_type": "stream",
     "text": [
      "/tmp/ipykernel_464166/2305974174.py:262: UserWarning: To copy construct from a tensor, it is recommended to use sourceTensor.clone().detach() or sourceTensor.clone().detach().requires_grad_(True), rather than torch.tensor(sourceTensor).\n",
      "  distance_st_tensor = torch.tensor(distance_st).cuda()\n",
      "/tmp/ipykernel_464166/2305974174.py:266: UserWarning: To copy construct from a tensor, it is recommended to use sourceTensor.clone().detach() or sourceTensor.clone().detach().requires_grad_(True), rather than torch.tensor(sourceTensor).\n",
      "  ranks_st = torch.tensor(torch.argsort(torch.argsort(distance_st_tensor, dim=1), dim=1), dtype=torch.float, requires_grad=True)\n",
      "/tmp/ipykernel_464166/2305974174.py:292: UserWarning: To copy construct from a tensor, it is recommended to use sourceTensor.clone().detach() or sourceTensor.clone().detach().requires_grad_(True), rather than torch.tensor(sourceTensor).\n",
      "  distance_st2_tensor = torch.tensor(distance_st2).cuda()\n",
      "/tmp/ipykernel_464166/2305974174.py:296: UserWarning: To copy construct from a tensor, it is recommended to use sourceTensor.clone().detach() or sourceTensor.clone().detach().requires_grad_(True), rather than torch.tensor(sourceTensor).\n",
      "  rankings = torch.tensor(torch.argsort(torch.argsort(distance_st2_tensor, dim=1), dim=1), dtype=torch.float, requires_grad=True)\n"
     ]
    },
    {
     "name": "stdout",
     "output_type": "stream",
     "text": [
      "Iteration [273000/445790], Entire Loss: 15782.3896484375, Original: 436.6545715332031, Regularization 1: 15341.400390625, Regularization 2: 4.334499835968018\n",
      "Computing R2 score using existing 'annotation' column in spatial dataset...\n",
      "This helps validate that the previously provided annotation is valid.\n",
      "Optimization terminated successfully.\n",
      "         Current function value: 0.911171\n",
      "         Iterations 8\n",
      "McFadden's R-squared redeconve annotation: 0.3139\n"
     ]
    },
    {
     "name": "stderr",
     "output_type": "stream",
     "text": [
      "/tmp/ipykernel_464166/2305974174.py:262: UserWarning: To copy construct from a tensor, it is recommended to use sourceTensor.clone().detach() or sourceTensor.clone().detach().requires_grad_(True), rather than torch.tensor(sourceTensor).\n",
      "  distance_st_tensor = torch.tensor(distance_st).cuda()\n",
      "/tmp/ipykernel_464166/2305974174.py:266: UserWarning: To copy construct from a tensor, it is recommended to use sourceTensor.clone().detach() or sourceTensor.clone().detach().requires_grad_(True), rather than torch.tensor(sourceTensor).\n",
      "  ranks_st = torch.tensor(torch.argsort(torch.argsort(distance_st_tensor, dim=1), dim=1), dtype=torch.float, requires_grad=True)\n",
      "/tmp/ipykernel_464166/2305974174.py:292: UserWarning: To copy construct from a tensor, it is recommended to use sourceTensor.clone().detach() or sourceTensor.clone().detach().requires_grad_(True), rather than torch.tensor(sourceTensor).\n",
      "  distance_st2_tensor = torch.tensor(distance_st2).cuda()\n",
      "/tmp/ipykernel_464166/2305974174.py:296: UserWarning: To copy construct from a tensor, it is recommended to use sourceTensor.clone().detach() or sourceTensor.clone().detach().requires_grad_(True), rather than torch.tensor(sourceTensor).\n",
      "  rankings = torch.tensor(torch.argsort(torch.argsort(distance_st2_tensor, dim=1), dim=1), dtype=torch.float, requires_grad=True)\n"
     ]
    },
    {
     "name": "stdout",
     "output_type": "stream",
     "text": [
      "Iteration [276000/445790], Entire Loss: 15756.6953125, Original: 436.55389404296875, Regularization 1: 15315.7998046875, Regularization 2: 4.3420000076293945\n",
      "Computing R2 score using existing 'annotation' column in spatial dataset...\n",
      "This helps validate that the previously provided annotation is valid.\n",
      "Optimization terminated successfully.\n",
      "         Current function value: 0.908923\n",
      "         Iterations 8\n",
      "McFadden's R-squared redeconve annotation: 0.3155\n"
     ]
    },
    {
     "name": "stderr",
     "output_type": "stream",
     "text": [
      "/tmp/ipykernel_464166/2305974174.py:262: UserWarning: To copy construct from a tensor, it is recommended to use sourceTensor.clone().detach() or sourceTensor.clone().detach().requires_grad_(True), rather than torch.tensor(sourceTensor).\n",
      "  distance_st_tensor = torch.tensor(distance_st).cuda()\n",
      "/tmp/ipykernel_464166/2305974174.py:266: UserWarning: To copy construct from a tensor, it is recommended to use sourceTensor.clone().detach() or sourceTensor.clone().detach().requires_grad_(True), rather than torch.tensor(sourceTensor).\n",
      "  ranks_st = torch.tensor(torch.argsort(torch.argsort(distance_st_tensor, dim=1), dim=1), dtype=torch.float, requires_grad=True)\n",
      "/tmp/ipykernel_464166/2305974174.py:292: UserWarning: To copy construct from a tensor, it is recommended to use sourceTensor.clone().detach() or sourceTensor.clone().detach().requires_grad_(True), rather than torch.tensor(sourceTensor).\n",
      "  distance_st2_tensor = torch.tensor(distance_st2).cuda()\n",
      "/tmp/ipykernel_464166/2305974174.py:296: UserWarning: To copy construct from a tensor, it is recommended to use sourceTensor.clone().detach() or sourceTensor.clone().detach().requires_grad_(True), rather than torch.tensor(sourceTensor).\n",
      "  rankings = torch.tensor(torch.argsort(torch.argsort(distance_st2_tensor, dim=1), dim=1), dtype=torch.float, requires_grad=True)\n"
     ]
    },
    {
     "name": "stdout",
     "output_type": "stream",
     "text": [
      "Iteration [279000/445790], Entire Loss: 15738.904296875, Original: 436.4542541503906, Regularization 1: 15298.1005859375, Regularization 2: 4.3495001792907715\n",
      "Computing R2 score using existing 'annotation' column in spatial dataset...\n",
      "This helps validate that the previously provided annotation is valid.\n",
      "Optimization terminated successfully.\n",
      "         Current function value: 0.906797\n",
      "         Iterations 8\n",
      "McFadden's R-squared redeconve annotation: 0.3171\n"
     ]
    },
    {
     "name": "stderr",
     "output_type": "stream",
     "text": [
      "/tmp/ipykernel_464166/2305974174.py:262: UserWarning: To copy construct from a tensor, it is recommended to use sourceTensor.clone().detach() or sourceTensor.clone().detach().requires_grad_(True), rather than torch.tensor(sourceTensor).\n",
      "  distance_st_tensor = torch.tensor(distance_st).cuda()\n",
      "/tmp/ipykernel_464166/2305974174.py:266: UserWarning: To copy construct from a tensor, it is recommended to use sourceTensor.clone().detach() or sourceTensor.clone().detach().requires_grad_(True), rather than torch.tensor(sourceTensor).\n",
      "  ranks_st = torch.tensor(torch.argsort(torch.argsort(distance_st_tensor, dim=1), dim=1), dtype=torch.float, requires_grad=True)\n",
      "/tmp/ipykernel_464166/2305974174.py:292: UserWarning: To copy construct from a tensor, it is recommended to use sourceTensor.clone().detach() or sourceTensor.clone().detach().requires_grad_(True), rather than torch.tensor(sourceTensor).\n",
      "  distance_st2_tensor = torch.tensor(distance_st2).cuda()\n",
      "/tmp/ipykernel_464166/2305974174.py:296: UserWarning: To copy construct from a tensor, it is recommended to use sourceTensor.clone().detach() or sourceTensor.clone().detach().requires_grad_(True), rather than torch.tensor(sourceTensor).\n",
      "  rankings = torch.tensor(torch.argsort(torch.argsort(distance_st2_tensor, dim=1), dim=1), dtype=torch.float, requires_grad=True)\n"
     ]
    },
    {
     "name": "stdout",
     "output_type": "stream",
     "text": [
      "Iteration [282000/445790], Entire Loss: 15740.0205078125, Original: 436.35565185546875, Regularization 1: 15299.2998046875, Regularization 2: 4.365499973297119\n",
      "Computing R2 score using existing 'annotation' column in spatial dataset...\n",
      "This helps validate that the previously provided annotation is valid.\n",
      "Optimization terminated successfully.\n",
      "         Current function value: 0.904578\n",
      "         Iterations 8\n",
      "McFadden's R-squared redeconve annotation: 0.3188\n"
     ]
    },
    {
     "name": "stderr",
     "output_type": "stream",
     "text": [
      "/tmp/ipykernel_464166/2305974174.py:262: UserWarning: To copy construct from a tensor, it is recommended to use sourceTensor.clone().detach() or sourceTensor.clone().detach().requires_grad_(True), rather than torch.tensor(sourceTensor).\n",
      "  distance_st_tensor = torch.tensor(distance_st).cuda()\n",
      "/tmp/ipykernel_464166/2305974174.py:266: UserWarning: To copy construct from a tensor, it is recommended to use sourceTensor.clone().detach() or sourceTensor.clone().detach().requires_grad_(True), rather than torch.tensor(sourceTensor).\n",
      "  ranks_st = torch.tensor(torch.argsort(torch.argsort(distance_st_tensor, dim=1), dim=1), dtype=torch.float, requires_grad=True)\n",
      "/tmp/ipykernel_464166/2305974174.py:292: UserWarning: To copy construct from a tensor, it is recommended to use sourceTensor.clone().detach() or sourceTensor.clone().detach().requires_grad_(True), rather than torch.tensor(sourceTensor).\n",
      "  distance_st2_tensor = torch.tensor(distance_st2).cuda()\n",
      "/tmp/ipykernel_464166/2305974174.py:296: UserWarning: To copy construct from a tensor, it is recommended to use sourceTensor.clone().detach() or sourceTensor.clone().detach().requires_grad_(True), rather than torch.tensor(sourceTensor).\n",
      "  rankings = torch.tensor(torch.argsort(torch.argsort(distance_st2_tensor, dim=1), dim=1), dtype=torch.float, requires_grad=True)\n"
     ]
    },
    {
     "name": "stdout",
     "output_type": "stream",
     "text": [
      "Iteration [285000/445790], Entire Loss: 15729.3544921875, Original: 436.2580871582031, Regularization 1: 15288.7001953125, Regularization 2: 4.395999908447266\n",
      "Computing R2 score using existing 'annotation' column in spatial dataset...\n",
      "This helps validate that the previously provided annotation is valid.\n",
      "Optimization terminated successfully.\n",
      "         Current function value: 0.901962\n",
      "         Iterations 8\n",
      "McFadden's R-squared redeconve annotation: 0.3208\n"
     ]
    },
    {
     "name": "stderr",
     "output_type": "stream",
     "text": [
      "/tmp/ipykernel_464166/2305974174.py:262: UserWarning: To copy construct from a tensor, it is recommended to use sourceTensor.clone().detach() or sourceTensor.clone().detach().requires_grad_(True), rather than torch.tensor(sourceTensor).\n",
      "  distance_st_tensor = torch.tensor(distance_st).cuda()\n",
      "/tmp/ipykernel_464166/2305974174.py:266: UserWarning: To copy construct from a tensor, it is recommended to use sourceTensor.clone().detach() or sourceTensor.clone().detach().requires_grad_(True), rather than torch.tensor(sourceTensor).\n",
      "  ranks_st = torch.tensor(torch.argsort(torch.argsort(distance_st_tensor, dim=1), dim=1), dtype=torch.float, requires_grad=True)\n",
      "/tmp/ipykernel_464166/2305974174.py:292: UserWarning: To copy construct from a tensor, it is recommended to use sourceTensor.clone().detach() or sourceTensor.clone().detach().requires_grad_(True), rather than torch.tensor(sourceTensor).\n",
      "  distance_st2_tensor = torch.tensor(distance_st2).cuda()\n",
      "/tmp/ipykernel_464166/2305974174.py:296: UserWarning: To copy construct from a tensor, it is recommended to use sourceTensor.clone().detach() or sourceTensor.clone().detach().requires_grad_(True), rather than torch.tensor(sourceTensor).\n",
      "  rankings = torch.tensor(torch.argsort(torch.argsort(distance_st2_tensor, dim=1), dim=1), dtype=torch.float, requires_grad=True)\n"
     ]
    },
    {
     "name": "stdout",
     "output_type": "stream",
     "text": [
      "Iteration [288000/445790], Entire Loss: 15721.69140625, Original: 436.16162109375, Regularization 1: 15281.1005859375, Regularization 2: 4.428500175476074\n",
      "Computing R2 score using existing 'annotation' column in spatial dataset...\n",
      "This helps validate that the previously provided annotation is valid.\n",
      "Optimization terminated successfully.\n",
      "         Current function value: 0.899240\n",
      "         Iterations 8\n",
      "McFadden's R-squared redeconve annotation: 0.3228\n"
     ]
    },
    {
     "name": "stderr",
     "output_type": "stream",
     "text": [
      "/tmp/ipykernel_464166/2305974174.py:262: UserWarning: To copy construct from a tensor, it is recommended to use sourceTensor.clone().detach() or sourceTensor.clone().detach().requires_grad_(True), rather than torch.tensor(sourceTensor).\n",
      "  distance_st_tensor = torch.tensor(distance_st).cuda()\n",
      "/tmp/ipykernel_464166/2305974174.py:266: UserWarning: To copy construct from a tensor, it is recommended to use sourceTensor.clone().detach() or sourceTensor.clone().detach().requires_grad_(True), rather than torch.tensor(sourceTensor).\n",
      "  ranks_st = torch.tensor(torch.argsort(torch.argsort(distance_st_tensor, dim=1), dim=1), dtype=torch.float, requires_grad=True)\n",
      "/tmp/ipykernel_464166/2305974174.py:292: UserWarning: To copy construct from a tensor, it is recommended to use sourceTensor.clone().detach() or sourceTensor.clone().detach().requires_grad_(True), rather than torch.tensor(sourceTensor).\n",
      "  distance_st2_tensor = torch.tensor(distance_st2).cuda()\n",
      "/tmp/ipykernel_464166/2305974174.py:296: UserWarning: To copy construct from a tensor, it is recommended to use sourceTensor.clone().detach() or sourceTensor.clone().detach().requires_grad_(True), rather than torch.tensor(sourceTensor).\n",
      "  rankings = torch.tensor(torch.argsort(torch.argsort(distance_st2_tensor, dim=1), dim=1), dtype=torch.float, requires_grad=True)\n"
     ]
    },
    {
     "name": "stdout",
     "output_type": "stream",
     "text": [
      "Iteration [291000/445790], Entire Loss: 15731.61328125, Original: 436.0662536621094, Regularization 1: 15291.1005859375, Regularization 2: 4.446500301361084\n",
      "Computing R2 score using existing 'annotation' column in spatial dataset...\n",
      "This helps validate that the previously provided annotation is valid.\n",
      "Optimization terminated successfully.\n",
      "         Current function value: 0.896543\n",
      "         Iterations 8\n",
      "McFadden's R-squared redeconve annotation: 0.3249\n"
     ]
    },
    {
     "name": "stderr",
     "output_type": "stream",
     "text": [
      "/tmp/ipykernel_464166/2305974174.py:262: UserWarning: To copy construct from a tensor, it is recommended to use sourceTensor.clone().detach() or sourceTensor.clone().detach().requires_grad_(True), rather than torch.tensor(sourceTensor).\n",
      "  distance_st_tensor = torch.tensor(distance_st).cuda()\n",
      "/tmp/ipykernel_464166/2305974174.py:266: UserWarning: To copy construct from a tensor, it is recommended to use sourceTensor.clone().detach() or sourceTensor.clone().detach().requires_grad_(True), rather than torch.tensor(sourceTensor).\n",
      "  ranks_st = torch.tensor(torch.argsort(torch.argsort(distance_st_tensor, dim=1), dim=1), dtype=torch.float, requires_grad=True)\n",
      "/tmp/ipykernel_464166/2305974174.py:292: UserWarning: To copy construct from a tensor, it is recommended to use sourceTensor.clone().detach() or sourceTensor.clone().detach().requires_grad_(True), rather than torch.tensor(sourceTensor).\n",
      "  distance_st2_tensor = torch.tensor(distance_st2).cuda()\n",
      "/tmp/ipykernel_464166/2305974174.py:296: UserWarning: To copy construct from a tensor, it is recommended to use sourceTensor.clone().detach() or sourceTensor.clone().detach().requires_grad_(True), rather than torch.tensor(sourceTensor).\n",
      "  rankings = torch.tensor(torch.argsort(torch.argsort(distance_st2_tensor, dim=1), dim=1), dtype=torch.float, requires_grad=True)\n"
     ]
    },
    {
     "name": "stdout",
     "output_type": "stream",
     "text": [
      "Iteration [294000/445790], Entire Loss: 15735.212890625, Original: 435.9721984863281, Regularization 1: 15294.7998046875, Regularization 2: 4.440499782562256\n",
      "Computing R2 score using existing 'annotation' column in spatial dataset...\n",
      "This helps validate that the previously provided annotation is valid.\n",
      "Optimization terminated successfully.\n",
      "         Current function value: 0.893880\n",
      "         Iterations 8\n",
      "McFadden's R-squared redeconve annotation: 0.3269\n"
     ]
    },
    {
     "name": "stderr",
     "output_type": "stream",
     "text": [
      "/tmp/ipykernel_464166/2305974174.py:262: UserWarning: To copy construct from a tensor, it is recommended to use sourceTensor.clone().detach() or sourceTensor.clone().detach().requires_grad_(True), rather than torch.tensor(sourceTensor).\n",
      "  distance_st_tensor = torch.tensor(distance_st).cuda()\n",
      "/tmp/ipykernel_464166/2305974174.py:266: UserWarning: To copy construct from a tensor, it is recommended to use sourceTensor.clone().detach() or sourceTensor.clone().detach().requires_grad_(True), rather than torch.tensor(sourceTensor).\n",
      "  ranks_st = torch.tensor(torch.argsort(torch.argsort(distance_st_tensor, dim=1), dim=1), dtype=torch.float, requires_grad=True)\n",
      "/tmp/ipykernel_464166/2305974174.py:292: UserWarning: To copy construct from a tensor, it is recommended to use sourceTensor.clone().detach() or sourceTensor.clone().detach().requires_grad_(True), rather than torch.tensor(sourceTensor).\n",
      "  distance_st2_tensor = torch.tensor(distance_st2).cuda()\n",
      "/tmp/ipykernel_464166/2305974174.py:296: UserWarning: To copy construct from a tensor, it is recommended to use sourceTensor.clone().detach() or sourceTensor.clone().detach().requires_grad_(True), rather than torch.tensor(sourceTensor).\n",
      "  rankings = torch.tensor(torch.argsort(torch.argsort(distance_st2_tensor, dim=1), dim=1), dtype=torch.float, requires_grad=True)\n"
     ]
    },
    {
     "name": "stdout",
     "output_type": "stream",
     "text": [
      "Iteration [297000/445790], Entire Loss: 15737.521484375, Original: 435.879638671875, Regularization 1: 15297.2001953125, Regularization 2: 4.441499710083008\n",
      "Computing R2 score using existing 'annotation' column in spatial dataset...\n",
      "This helps validate that the previously provided annotation is valid.\n",
      "Optimization terminated successfully.\n",
      "         Current function value: 0.891339\n",
      "         Iterations 8\n",
      "McFadden's R-squared redeconve annotation: 0.3288\n"
     ]
    },
    {
     "name": "stderr",
     "output_type": "stream",
     "text": [
      "/tmp/ipykernel_464166/2305974174.py:262: UserWarning: To copy construct from a tensor, it is recommended to use sourceTensor.clone().detach() or sourceTensor.clone().detach().requires_grad_(True), rather than torch.tensor(sourceTensor).\n",
      "  distance_st_tensor = torch.tensor(distance_st).cuda()\n",
      "/tmp/ipykernel_464166/2305974174.py:266: UserWarning: To copy construct from a tensor, it is recommended to use sourceTensor.clone().detach() or sourceTensor.clone().detach().requires_grad_(True), rather than torch.tensor(sourceTensor).\n",
      "  ranks_st = torch.tensor(torch.argsort(torch.argsort(distance_st_tensor, dim=1), dim=1), dtype=torch.float, requires_grad=True)\n",
      "/tmp/ipykernel_464166/2305974174.py:292: UserWarning: To copy construct from a tensor, it is recommended to use sourceTensor.clone().detach() or sourceTensor.clone().detach().requires_grad_(True), rather than torch.tensor(sourceTensor).\n",
      "  distance_st2_tensor = torch.tensor(distance_st2).cuda()\n",
      "/tmp/ipykernel_464166/2305974174.py:296: UserWarning: To copy construct from a tensor, it is recommended to use sourceTensor.clone().detach() or sourceTensor.clone().detach().requires_grad_(True), rather than torch.tensor(sourceTensor).\n",
      "  rankings = torch.tensor(torch.argsort(torch.argsort(distance_st2_tensor, dim=1), dim=1), dtype=torch.float, requires_grad=True)\n"
     ]
    },
    {
     "name": "stdout",
     "output_type": "stream",
     "text": [
      "Iteration [300000/445790], Entire Loss: 15742.7392578125, Original: 435.7886047363281, Regularization 1: 15302.5, Regularization 2: 4.450000286102295\n",
      "Computing R2 score using existing 'annotation' column in spatial dataset...\n",
      "This helps validate that the previously provided annotation is valid.\n",
      "Optimization terminated successfully.\n",
      "         Current function value: 0.888992\n",
      "         Iterations 8\n",
      "McFadden's R-squared redeconve annotation: 0.3306\n"
     ]
    },
    {
     "name": "stderr",
     "output_type": "stream",
     "text": [
      "/tmp/ipykernel_464166/2305974174.py:262: UserWarning: To copy construct from a tensor, it is recommended to use sourceTensor.clone().detach() or sourceTensor.clone().detach().requires_grad_(True), rather than torch.tensor(sourceTensor).\n",
      "  distance_st_tensor = torch.tensor(distance_st).cuda()\n",
      "/tmp/ipykernel_464166/2305974174.py:266: UserWarning: To copy construct from a tensor, it is recommended to use sourceTensor.clone().detach() or sourceTensor.clone().detach().requires_grad_(True), rather than torch.tensor(sourceTensor).\n",
      "  ranks_st = torch.tensor(torch.argsort(torch.argsort(distance_st_tensor, dim=1), dim=1), dtype=torch.float, requires_grad=True)\n",
      "/tmp/ipykernel_464166/2305974174.py:292: UserWarning: To copy construct from a tensor, it is recommended to use sourceTensor.clone().detach() or sourceTensor.clone().detach().requires_grad_(True), rather than torch.tensor(sourceTensor).\n",
      "  distance_st2_tensor = torch.tensor(distance_st2).cuda()\n",
      "/tmp/ipykernel_464166/2305974174.py:296: UserWarning: To copy construct from a tensor, it is recommended to use sourceTensor.clone().detach() or sourceTensor.clone().detach().requires_grad_(True), rather than torch.tensor(sourceTensor).\n",
      "  rankings = torch.tensor(torch.argsort(torch.argsort(distance_st2_tensor, dim=1), dim=1), dtype=torch.float, requires_grad=True)\n"
     ]
    },
    {
     "name": "stdout",
     "output_type": "stream",
     "text": [
      "Iteration [303000/445790], Entire Loss: 15747.765625, Original: 435.69915771484375, Regularization 1: 15307.6005859375, Regularization 2: 4.466000080108643\n",
      "Computing R2 score using existing 'annotation' column in spatial dataset...\n",
      "This helps validate that the previously provided annotation is valid.\n",
      "Optimization terminated successfully.\n",
      "         Current function value: 0.886938\n",
      "         Iterations 8\n",
      "McFadden's R-squared redeconve annotation: 0.3321\n"
     ]
    },
    {
     "name": "stderr",
     "output_type": "stream",
     "text": [
      "/tmp/ipykernel_464166/2305974174.py:262: UserWarning: To copy construct from a tensor, it is recommended to use sourceTensor.clone().detach() or sourceTensor.clone().detach().requires_grad_(True), rather than torch.tensor(sourceTensor).\n",
      "  distance_st_tensor = torch.tensor(distance_st).cuda()\n",
      "/tmp/ipykernel_464166/2305974174.py:266: UserWarning: To copy construct from a tensor, it is recommended to use sourceTensor.clone().detach() or sourceTensor.clone().detach().requires_grad_(True), rather than torch.tensor(sourceTensor).\n",
      "  ranks_st = torch.tensor(torch.argsort(torch.argsort(distance_st_tensor, dim=1), dim=1), dtype=torch.float, requires_grad=True)\n",
      "/tmp/ipykernel_464166/2305974174.py:292: UserWarning: To copy construct from a tensor, it is recommended to use sourceTensor.clone().detach() or sourceTensor.clone().detach().requires_grad_(True), rather than torch.tensor(sourceTensor).\n",
      "  distance_st2_tensor = torch.tensor(distance_st2).cuda()\n",
      "/tmp/ipykernel_464166/2305974174.py:296: UserWarning: To copy construct from a tensor, it is recommended to use sourceTensor.clone().detach() or sourceTensor.clone().detach().requires_grad_(True), rather than torch.tensor(sourceTensor).\n",
      "  rankings = torch.tensor(torch.argsort(torch.argsort(distance_st2_tensor, dim=1), dim=1), dtype=torch.float, requires_grad=True)\n"
     ]
    },
    {
     "name": "stdout",
     "output_type": "stream",
     "text": [
      "Iteration [306000/445790], Entire Loss: 15766.2861328125, Original: 435.6114807128906, Regularization 1: 15326.2001953125, Regularization 2: 4.4745001792907715\n",
      "Computing R2 score using existing 'annotation' column in spatial dataset...\n",
      "This helps validate that the previously provided annotation is valid.\n",
      "Optimization terminated successfully.\n",
      "         Current function value: 0.885411\n",
      "         Iterations 8\n",
      "McFadden's R-squared redeconve annotation: 0.3333\n"
     ]
    },
    {
     "name": "stderr",
     "output_type": "stream",
     "text": [
      "/tmp/ipykernel_464166/2305974174.py:262: UserWarning: To copy construct from a tensor, it is recommended to use sourceTensor.clone().detach() or sourceTensor.clone().detach().requires_grad_(True), rather than torch.tensor(sourceTensor).\n",
      "  distance_st_tensor = torch.tensor(distance_st).cuda()\n",
      "/tmp/ipykernel_464166/2305974174.py:266: UserWarning: To copy construct from a tensor, it is recommended to use sourceTensor.clone().detach() or sourceTensor.clone().detach().requires_grad_(True), rather than torch.tensor(sourceTensor).\n",
      "  ranks_st = torch.tensor(torch.argsort(torch.argsort(distance_st_tensor, dim=1), dim=1), dtype=torch.float, requires_grad=True)\n",
      "/tmp/ipykernel_464166/2305974174.py:292: UserWarning: To copy construct from a tensor, it is recommended to use sourceTensor.clone().detach() or sourceTensor.clone().detach().requires_grad_(True), rather than torch.tensor(sourceTensor).\n",
      "  distance_st2_tensor = torch.tensor(distance_st2).cuda()\n",
      "/tmp/ipykernel_464166/2305974174.py:296: UserWarning: To copy construct from a tensor, it is recommended to use sourceTensor.clone().detach() or sourceTensor.clone().detach().requires_grad_(True), rather than torch.tensor(sourceTensor).\n",
      "  rankings = torch.tensor(torch.argsort(torch.argsort(distance_st2_tensor, dim=1), dim=1), dtype=torch.float, requires_grad=True)\n"
     ]
    },
    {
     "name": "stdout",
     "output_type": "stream",
     "text": [
      "Iteration [309000/445790], Entire Loss: 15788.900390625, Original: 435.52569580078125, Regularization 1: 15348.900390625, Regularization 2: 4.4745001792907715\n",
      "Computing R2 score using existing 'annotation' column in spatial dataset...\n",
      "This helps validate that the previously provided annotation is valid.\n",
      "Optimization terminated successfully.\n",
      "         Current function value: 0.884484\n",
      "         Iterations 9\n",
      "McFadden's R-squared redeconve annotation: 0.334\n"
     ]
    },
    {
     "name": "stderr",
     "output_type": "stream",
     "text": [
      "/tmp/ipykernel_464166/2305974174.py:262: UserWarning: To copy construct from a tensor, it is recommended to use sourceTensor.clone().detach() or sourceTensor.clone().detach().requires_grad_(True), rather than torch.tensor(sourceTensor).\n",
      "  distance_st_tensor = torch.tensor(distance_st).cuda()\n",
      "/tmp/ipykernel_464166/2305974174.py:266: UserWarning: To copy construct from a tensor, it is recommended to use sourceTensor.clone().detach() or sourceTensor.clone().detach().requires_grad_(True), rather than torch.tensor(sourceTensor).\n",
      "  ranks_st = torch.tensor(torch.argsort(torch.argsort(distance_st_tensor, dim=1), dim=1), dtype=torch.float, requires_grad=True)\n",
      "/tmp/ipykernel_464166/2305974174.py:292: UserWarning: To copy construct from a tensor, it is recommended to use sourceTensor.clone().detach() or sourceTensor.clone().detach().requires_grad_(True), rather than torch.tensor(sourceTensor).\n",
      "  distance_st2_tensor = torch.tensor(distance_st2).cuda()\n",
      "/tmp/ipykernel_464166/2305974174.py:296: UserWarning: To copy construct from a tensor, it is recommended to use sourceTensor.clone().detach() or sourceTensor.clone().detach().requires_grad_(True), rather than torch.tensor(sourceTensor).\n",
      "  rankings = torch.tensor(torch.argsort(torch.argsort(distance_st2_tensor, dim=1), dim=1), dtype=torch.float, requires_grad=True)\n"
     ]
    },
    {
     "name": "stdout",
     "output_type": "stream",
     "text": [
      "Iteration [312000/445790], Entire Loss: 15811.5107421875, Original: 435.4419250488281, Regularization 1: 15371.6005859375, Regularization 2: 4.46750020980835\n",
      "Computing R2 score using existing 'annotation' column in spatial dataset...\n",
      "This helps validate that the previously provided annotation is valid.\n",
      "Optimization terminated successfully.\n",
      "         Current function value: 0.884041\n",
      "         Iterations 9\n",
      "McFadden's R-squared redeconve annotation: 0.3343\n"
     ]
    },
    {
     "name": "stderr",
     "output_type": "stream",
     "text": [
      "/tmp/ipykernel_464166/2305974174.py:262: UserWarning: To copy construct from a tensor, it is recommended to use sourceTensor.clone().detach() or sourceTensor.clone().detach().requires_grad_(True), rather than torch.tensor(sourceTensor).\n",
      "  distance_st_tensor = torch.tensor(distance_st).cuda()\n",
      "/tmp/ipykernel_464166/2305974174.py:266: UserWarning: To copy construct from a tensor, it is recommended to use sourceTensor.clone().detach() or sourceTensor.clone().detach().requires_grad_(True), rather than torch.tensor(sourceTensor).\n",
      "  ranks_st = torch.tensor(torch.argsort(torch.argsort(distance_st_tensor, dim=1), dim=1), dtype=torch.float, requires_grad=True)\n",
      "/tmp/ipykernel_464166/2305974174.py:292: UserWarning: To copy construct from a tensor, it is recommended to use sourceTensor.clone().detach() or sourceTensor.clone().detach().requires_grad_(True), rather than torch.tensor(sourceTensor).\n",
      "  distance_st2_tensor = torch.tensor(distance_st2).cuda()\n",
      "/tmp/ipykernel_464166/2305974174.py:296: UserWarning: To copy construct from a tensor, it is recommended to use sourceTensor.clone().detach() or sourceTensor.clone().detach().requires_grad_(True), rather than torch.tensor(sourceTensor).\n",
      "  rankings = torch.tensor(torch.argsort(torch.argsort(distance_st2_tensor, dim=1), dim=1), dtype=torch.float, requires_grad=True)\n"
     ]
    },
    {
     "name": "stdout",
     "output_type": "stream",
     "text": [
      "Iteration [315000/445790], Entire Loss: 15831.556640625, Original: 435.3600769042969, Regularization 1: 15391.7001953125, Regularization 2: 4.495999813079834\n",
      "Computing R2 score using existing 'annotation' column in spatial dataset...\n",
      "This helps validate that the previously provided annotation is valid.\n",
      "Optimization terminated successfully.\n",
      "         Current function value: 0.883906\n",
      "         Iterations 9\n",
      "McFadden's R-squared redeconve annotation: 0.3344\n"
     ]
    },
    {
     "name": "stderr",
     "output_type": "stream",
     "text": [
      "/tmp/ipykernel_464166/2305974174.py:262: UserWarning: To copy construct from a tensor, it is recommended to use sourceTensor.clone().detach() or sourceTensor.clone().detach().requires_grad_(True), rather than torch.tensor(sourceTensor).\n",
      "  distance_st_tensor = torch.tensor(distance_st).cuda()\n",
      "/tmp/ipykernel_464166/2305974174.py:266: UserWarning: To copy construct from a tensor, it is recommended to use sourceTensor.clone().detach() or sourceTensor.clone().detach().requires_grad_(True), rather than torch.tensor(sourceTensor).\n",
      "  ranks_st = torch.tensor(torch.argsort(torch.argsort(distance_st_tensor, dim=1), dim=1), dtype=torch.float, requires_grad=True)\n",
      "/tmp/ipykernel_464166/2305974174.py:292: UserWarning: To copy construct from a tensor, it is recommended to use sourceTensor.clone().detach() or sourceTensor.clone().detach().requires_grad_(True), rather than torch.tensor(sourceTensor).\n",
      "  distance_st2_tensor = torch.tensor(distance_st2).cuda()\n",
      "/tmp/ipykernel_464166/2305974174.py:296: UserWarning: To copy construct from a tensor, it is recommended to use sourceTensor.clone().detach() or sourceTensor.clone().detach().requires_grad_(True), rather than torch.tensor(sourceTensor).\n",
      "  rankings = torch.tensor(torch.argsort(torch.argsort(distance_st2_tensor, dim=1), dim=1), dtype=torch.float, requires_grad=True)\n"
     ]
    },
    {
     "name": "stdout",
     "output_type": "stream",
     "text": [
      "Iteration [318000/445790], Entire Loss: 15861.7998046875, Original: 435.2801208496094, Regularization 1: 15422.0, Regularization 2: 4.519999980926514\n",
      "Computing R2 score using existing 'annotation' column in spatial dataset...\n",
      "This helps validate that the previously provided annotation is valid.\n",
      "Optimization terminated successfully.\n",
      "         Current function value: 0.884431\n",
      "         Iterations 9\n",
      "McFadden's R-squared redeconve annotation: 0.334\n"
     ]
    },
    {
     "name": "stderr",
     "output_type": "stream",
     "text": [
      "/tmp/ipykernel_464166/2305974174.py:262: UserWarning: To copy construct from a tensor, it is recommended to use sourceTensor.clone().detach() or sourceTensor.clone().detach().requires_grad_(True), rather than torch.tensor(sourceTensor).\n",
      "  distance_st_tensor = torch.tensor(distance_st).cuda()\n",
      "/tmp/ipykernel_464166/2305974174.py:266: UserWarning: To copy construct from a tensor, it is recommended to use sourceTensor.clone().detach() or sourceTensor.clone().detach().requires_grad_(True), rather than torch.tensor(sourceTensor).\n",
      "  ranks_st = torch.tensor(torch.argsort(torch.argsort(distance_st_tensor, dim=1), dim=1), dtype=torch.float, requires_grad=True)\n",
      "/tmp/ipykernel_464166/2305974174.py:292: UserWarning: To copy construct from a tensor, it is recommended to use sourceTensor.clone().detach() or sourceTensor.clone().detach().requires_grad_(True), rather than torch.tensor(sourceTensor).\n",
      "  distance_st2_tensor = torch.tensor(distance_st2).cuda()\n",
      "/tmp/ipykernel_464166/2305974174.py:296: UserWarning: To copy construct from a tensor, it is recommended to use sourceTensor.clone().detach() or sourceTensor.clone().detach().requires_grad_(True), rather than torch.tensor(sourceTensor).\n",
      "  rankings = torch.tensor(torch.argsort(torch.argsort(distance_st2_tensor, dim=1), dim=1), dtype=torch.float, requires_grad=True)\n"
     ]
    },
    {
     "name": "stdout",
     "output_type": "stream",
     "text": [
      "Iteration [321000/445790], Entire Loss: 15891.041015625, Original: 435.2021484375, Regularization 1: 15451.2998046875, Regularization 2: 4.5395002365112305\n",
      "Computing R2 score using existing 'annotation' column in spatial dataset...\n",
      "This helps validate that the previously provided annotation is valid.\n",
      "Optimization terminated successfully.\n",
      "         Current function value: 0.885422\n",
      "         Iterations 9\n",
      "McFadden's R-squared redeconve annotation: 0.3332\n"
     ]
    },
    {
     "name": "stderr",
     "output_type": "stream",
     "text": [
      "/tmp/ipykernel_464166/2305974174.py:262: UserWarning: To copy construct from a tensor, it is recommended to use sourceTensor.clone().detach() or sourceTensor.clone().detach().requires_grad_(True), rather than torch.tensor(sourceTensor).\n",
      "  distance_st_tensor = torch.tensor(distance_st).cuda()\n",
      "/tmp/ipykernel_464166/2305974174.py:266: UserWarning: To copy construct from a tensor, it is recommended to use sourceTensor.clone().detach() or sourceTensor.clone().detach().requires_grad_(True), rather than torch.tensor(sourceTensor).\n",
      "  ranks_st = torch.tensor(torch.argsort(torch.argsort(distance_st_tensor, dim=1), dim=1), dtype=torch.float, requires_grad=True)\n",
      "/tmp/ipykernel_464166/2305974174.py:292: UserWarning: To copy construct from a tensor, it is recommended to use sourceTensor.clone().detach() or sourceTensor.clone().detach().requires_grad_(True), rather than torch.tensor(sourceTensor).\n",
      "  distance_st2_tensor = torch.tensor(distance_st2).cuda()\n",
      "/tmp/ipykernel_464166/2305974174.py:296: UserWarning: To copy construct from a tensor, it is recommended to use sourceTensor.clone().detach() or sourceTensor.clone().detach().requires_grad_(True), rather than torch.tensor(sourceTensor).\n",
      "  rankings = torch.tensor(torch.argsort(torch.argsort(distance_st2_tensor, dim=1), dim=1), dtype=torch.float, requires_grad=True)\n"
     ]
    },
    {
     "name": "stdout",
     "output_type": "stream",
     "text": [
      "Iteration [324000/445790], Entire Loss: 15927.6826171875, Original: 435.12628173828125, Regularization 1: 15488.0, Regularization 2: 4.557000160217285\n",
      "Computing R2 score using existing 'annotation' column in spatial dataset...\n",
      "This helps validate that the previously provided annotation is valid.\n",
      "Optimization terminated successfully.\n",
      "         Current function value: 0.886729\n",
      "         Iterations 9\n",
      "McFadden's R-squared redeconve annotation: 0.3323\n"
     ]
    },
    {
     "name": "stderr",
     "output_type": "stream",
     "text": [
      "/tmp/ipykernel_464166/2305974174.py:262: UserWarning: To copy construct from a tensor, it is recommended to use sourceTensor.clone().detach() or sourceTensor.clone().detach().requires_grad_(True), rather than torch.tensor(sourceTensor).\n",
      "  distance_st_tensor = torch.tensor(distance_st).cuda()\n",
      "/tmp/ipykernel_464166/2305974174.py:266: UserWarning: To copy construct from a tensor, it is recommended to use sourceTensor.clone().detach() or sourceTensor.clone().detach().requires_grad_(True), rather than torch.tensor(sourceTensor).\n",
      "  ranks_st = torch.tensor(torch.argsort(torch.argsort(distance_st_tensor, dim=1), dim=1), dtype=torch.float, requires_grad=True)\n",
      "/tmp/ipykernel_464166/2305974174.py:292: UserWarning: To copy construct from a tensor, it is recommended to use sourceTensor.clone().detach() or sourceTensor.clone().detach().requires_grad_(True), rather than torch.tensor(sourceTensor).\n",
      "  distance_st2_tensor = torch.tensor(distance_st2).cuda()\n",
      "/tmp/ipykernel_464166/2305974174.py:296: UserWarning: To copy construct from a tensor, it is recommended to use sourceTensor.clone().detach() or sourceTensor.clone().detach().requires_grad_(True), rather than torch.tensor(sourceTensor).\n",
      "  rankings = torch.tensor(torch.argsort(torch.argsort(distance_st2_tensor, dim=1), dim=1), dtype=torch.float, requires_grad=True)\n"
     ]
    },
    {
     "name": "stdout",
     "output_type": "stream",
     "text": [
      "Iteration [327000/445790], Entire Loss: 15952.337890625, Original: 435.0528259277344, Regularization 1: 15512.7001953125, Regularization 2: 4.585000038146973\n",
      "Computing R2 score using existing 'annotation' column in spatial dataset...\n",
      "This helps validate that the previously provided annotation is valid.\n",
      "Optimization terminated successfully.\n",
      "         Current function value: 0.888247\n",
      "         Iterations 10\n",
      "McFadden's R-squared redeconve annotation: 0.3311\n"
     ]
    },
    {
     "name": "stderr",
     "output_type": "stream",
     "text": [
      "/tmp/ipykernel_464166/2305974174.py:262: UserWarning: To copy construct from a tensor, it is recommended to use sourceTensor.clone().detach() or sourceTensor.clone().detach().requires_grad_(True), rather than torch.tensor(sourceTensor).\n",
      "  distance_st_tensor = torch.tensor(distance_st).cuda()\n",
      "/tmp/ipykernel_464166/2305974174.py:266: UserWarning: To copy construct from a tensor, it is recommended to use sourceTensor.clone().detach() or sourceTensor.clone().detach().requires_grad_(True), rather than torch.tensor(sourceTensor).\n",
      "  ranks_st = torch.tensor(torch.argsort(torch.argsort(distance_st_tensor, dim=1), dim=1), dtype=torch.float, requires_grad=True)\n",
      "/tmp/ipykernel_464166/2305974174.py:292: UserWarning: To copy construct from a tensor, it is recommended to use sourceTensor.clone().detach() or sourceTensor.clone().detach().requires_grad_(True), rather than torch.tensor(sourceTensor).\n",
      "  distance_st2_tensor = torch.tensor(distance_st2).cuda()\n",
      "/tmp/ipykernel_464166/2305974174.py:296: UserWarning: To copy construct from a tensor, it is recommended to use sourceTensor.clone().detach() or sourceTensor.clone().detach().requires_grad_(True), rather than torch.tensor(sourceTensor).\n",
      "  rankings = torch.tensor(torch.argsort(torch.argsort(distance_st2_tensor, dim=1), dim=1), dtype=torch.float, requires_grad=True)\n"
     ]
    },
    {
     "name": "stdout",
     "output_type": "stream",
     "text": [
      "Iteration [330000/445790], Entire Loss: 15985.78515625, Original: 434.9820251464844, Regularization 1: 15546.2001953125, Regularization 2: 4.603000164031982\n",
      "Computing R2 score using existing 'annotation' column in spatial dataset...\n",
      "This helps validate that the previously provided annotation is valid.\n",
      "Optimization terminated successfully.\n",
      "         Current function value: 0.889978\n",
      "         Iterations 10\n",
      "McFadden's R-squared redeconve annotation: 0.3298\n"
     ]
    },
    {
     "name": "stderr",
     "output_type": "stream",
     "text": [
      "/tmp/ipykernel_464166/2305974174.py:262: UserWarning: To copy construct from a tensor, it is recommended to use sourceTensor.clone().detach() or sourceTensor.clone().detach().requires_grad_(True), rather than torch.tensor(sourceTensor).\n",
      "  distance_st_tensor = torch.tensor(distance_st).cuda()\n",
      "/tmp/ipykernel_464166/2305974174.py:266: UserWarning: To copy construct from a tensor, it is recommended to use sourceTensor.clone().detach() or sourceTensor.clone().detach().requires_grad_(True), rather than torch.tensor(sourceTensor).\n",
      "  ranks_st = torch.tensor(torch.argsort(torch.argsort(distance_st_tensor, dim=1), dim=1), dtype=torch.float, requires_grad=True)\n",
      "/tmp/ipykernel_464166/2305974174.py:292: UserWarning: To copy construct from a tensor, it is recommended to use sourceTensor.clone().detach() or sourceTensor.clone().detach().requires_grad_(True), rather than torch.tensor(sourceTensor).\n",
      "  distance_st2_tensor = torch.tensor(distance_st2).cuda()\n",
      "/tmp/ipykernel_464166/2305974174.py:296: UserWarning: To copy construct from a tensor, it is recommended to use sourceTensor.clone().detach() or sourceTensor.clone().detach().requires_grad_(True), rather than torch.tensor(sourceTensor).\n",
      "  rankings = torch.tensor(torch.argsort(torch.argsort(distance_st2_tensor, dim=1), dim=1), dtype=torch.float, requires_grad=True)\n"
     ]
    },
    {
     "name": "stdout",
     "output_type": "stream",
     "text": [
      "Iteration [333000/445790], Entire Loss: 16020.52734375, Original: 434.9139709472656, Regularization 1: 15581.0, Regularization 2: 4.61299991607666\n",
      "Computing R2 score using existing 'annotation' column in spatial dataset...\n",
      "This helps validate that the previously provided annotation is valid.\n",
      "Optimization terminated successfully.\n",
      "         Current function value: 0.891930\n",
      "         Iterations 10\n",
      "McFadden's R-squared redeconve annotation: 0.3283\n"
     ]
    },
    {
     "name": "stderr",
     "output_type": "stream",
     "text": [
      "/tmp/ipykernel_464166/2305974174.py:262: UserWarning: To copy construct from a tensor, it is recommended to use sourceTensor.clone().detach() or sourceTensor.clone().detach().requires_grad_(True), rather than torch.tensor(sourceTensor).\n",
      "  distance_st_tensor = torch.tensor(distance_st).cuda()\n",
      "/tmp/ipykernel_464166/2305974174.py:266: UserWarning: To copy construct from a tensor, it is recommended to use sourceTensor.clone().detach() or sourceTensor.clone().detach().requires_grad_(True), rather than torch.tensor(sourceTensor).\n",
      "  ranks_st = torch.tensor(torch.argsort(torch.argsort(distance_st_tensor, dim=1), dim=1), dtype=torch.float, requires_grad=True)\n",
      "/tmp/ipykernel_464166/2305974174.py:292: UserWarning: To copy construct from a tensor, it is recommended to use sourceTensor.clone().detach() or sourceTensor.clone().detach().requires_grad_(True), rather than torch.tensor(sourceTensor).\n",
      "  distance_st2_tensor = torch.tensor(distance_st2).cuda()\n",
      "/tmp/ipykernel_464166/2305974174.py:296: UserWarning: To copy construct from a tensor, it is recommended to use sourceTensor.clone().detach() or sourceTensor.clone().detach().requires_grad_(True), rather than torch.tensor(sourceTensor).\n",
      "  rankings = torch.tensor(torch.argsort(torch.argsort(distance_st2_tensor, dim=1), dim=1), dtype=torch.float, requires_grad=True)\n"
     ]
    },
    {
     "name": "stdout",
     "output_type": "stream",
     "text": [
      "Iteration [336000/445790], Entire Loss: 16048.6533203125, Original: 434.8486633300781, Regularization 1: 15609.2001953125, Regularization 2: 4.604499816894531\n",
      "Computing R2 score using existing 'annotation' column in spatial dataset...\n",
      "This helps validate that the previously provided annotation is valid.\n",
      "Optimization terminated successfully.\n",
      "         Current function value: 0.894012\n",
      "         Iterations 10\n",
      "McFadden's R-squared redeconve annotation: 0.3268\n"
     ]
    },
    {
     "name": "stderr",
     "output_type": "stream",
     "text": [
      "/tmp/ipykernel_464166/2305974174.py:262: UserWarning: To copy construct from a tensor, it is recommended to use sourceTensor.clone().detach() or sourceTensor.clone().detach().requires_grad_(True), rather than torch.tensor(sourceTensor).\n",
      "  distance_st_tensor = torch.tensor(distance_st).cuda()\n",
      "/tmp/ipykernel_464166/2305974174.py:266: UserWarning: To copy construct from a tensor, it is recommended to use sourceTensor.clone().detach() or sourceTensor.clone().detach().requires_grad_(True), rather than torch.tensor(sourceTensor).\n",
      "  ranks_st = torch.tensor(torch.argsort(torch.argsort(distance_st_tensor, dim=1), dim=1), dtype=torch.float, requires_grad=True)\n",
      "/tmp/ipykernel_464166/2305974174.py:292: UserWarning: To copy construct from a tensor, it is recommended to use sourceTensor.clone().detach() or sourceTensor.clone().detach().requires_grad_(True), rather than torch.tensor(sourceTensor).\n",
      "  distance_st2_tensor = torch.tensor(distance_st2).cuda()\n",
      "/tmp/ipykernel_464166/2305974174.py:296: UserWarning: To copy construct from a tensor, it is recommended to use sourceTensor.clone().detach() or sourceTensor.clone().detach().requires_grad_(True), rather than torch.tensor(sourceTensor).\n",
      "  rankings = torch.tensor(torch.argsort(torch.argsort(distance_st2_tensor, dim=1), dim=1), dtype=torch.float, requires_grad=True)\n"
     ]
    },
    {
     "name": "stdout",
     "output_type": "stream",
     "text": [
      "Iteration [339000/445790], Entire Loss: 16086.8994140625, Original: 434.7861022949219, Regularization 1: 15647.5, Regularization 2: 4.61299991607666\n",
      "Computing R2 score using existing 'annotation' column in spatial dataset...\n",
      "This helps validate that the previously provided annotation is valid.\n",
      "Optimization terminated successfully.\n",
      "         Current function value: 0.896190\n",
      "         Iterations 10\n",
      "McFadden's R-squared redeconve annotation: 0.3251\n"
     ]
    },
    {
     "name": "stderr",
     "output_type": "stream",
     "text": [
      "/tmp/ipykernel_464166/2305974174.py:262: UserWarning: To copy construct from a tensor, it is recommended to use sourceTensor.clone().detach() or sourceTensor.clone().detach().requires_grad_(True), rather than torch.tensor(sourceTensor).\n",
      "  distance_st_tensor = torch.tensor(distance_st).cuda()\n",
      "/tmp/ipykernel_464166/2305974174.py:266: UserWarning: To copy construct from a tensor, it is recommended to use sourceTensor.clone().detach() or sourceTensor.clone().detach().requires_grad_(True), rather than torch.tensor(sourceTensor).\n",
      "  ranks_st = torch.tensor(torch.argsort(torch.argsort(distance_st_tensor, dim=1), dim=1), dtype=torch.float, requires_grad=True)\n",
      "/tmp/ipykernel_464166/2305974174.py:292: UserWarning: To copy construct from a tensor, it is recommended to use sourceTensor.clone().detach() or sourceTensor.clone().detach().requires_grad_(True), rather than torch.tensor(sourceTensor).\n",
      "  distance_st2_tensor = torch.tensor(distance_st2).cuda()\n",
      "/tmp/ipykernel_464166/2305974174.py:296: UserWarning: To copy construct from a tensor, it is recommended to use sourceTensor.clone().detach() or sourceTensor.clone().detach().requires_grad_(True), rather than torch.tensor(sourceTensor).\n",
      "  rankings = torch.tensor(torch.argsort(torch.argsort(distance_st2_tensor, dim=1), dim=1), dtype=torch.float, requires_grad=True)\n"
     ]
    },
    {
     "name": "stdout",
     "output_type": "stream",
     "text": [
      "Iteration [342000/445790], Entire Loss: 16122.1552734375, Original: 434.7262268066406, Regularization 1: 15682.7998046875, Regularization 2: 4.628499984741211\n",
      "Computing R2 score using existing 'annotation' column in spatial dataset...\n",
      "This helps validate that the previously provided annotation is valid.\n",
      "Optimization terminated successfully.\n",
      "         Current function value: 0.898503\n",
      "         Iterations 10\n",
      "McFadden's R-squared redeconve annotation: 0.3234\n"
     ]
    },
    {
     "name": "stderr",
     "output_type": "stream",
     "text": [
      "/tmp/ipykernel_464166/2305974174.py:262: UserWarning: To copy construct from a tensor, it is recommended to use sourceTensor.clone().detach() or sourceTensor.clone().detach().requires_grad_(True), rather than torch.tensor(sourceTensor).\n",
      "  distance_st_tensor = torch.tensor(distance_st).cuda()\n",
      "/tmp/ipykernel_464166/2305974174.py:266: UserWarning: To copy construct from a tensor, it is recommended to use sourceTensor.clone().detach() or sourceTensor.clone().detach().requires_grad_(True), rather than torch.tensor(sourceTensor).\n",
      "  ranks_st = torch.tensor(torch.argsort(torch.argsort(distance_st_tensor, dim=1), dim=1), dtype=torch.float, requires_grad=True)\n",
      "/tmp/ipykernel_464166/2305974174.py:292: UserWarning: To copy construct from a tensor, it is recommended to use sourceTensor.clone().detach() or sourceTensor.clone().detach().requires_grad_(True), rather than torch.tensor(sourceTensor).\n",
      "  distance_st2_tensor = torch.tensor(distance_st2).cuda()\n",
      "/tmp/ipykernel_464166/2305974174.py:296: UserWarning: To copy construct from a tensor, it is recommended to use sourceTensor.clone().detach() or sourceTensor.clone().detach().requires_grad_(True), rather than torch.tensor(sourceTensor).\n",
      "  rankings = torch.tensor(torch.argsort(torch.argsort(distance_st2_tensor, dim=1), dim=1), dtype=torch.float, requires_grad=True)\n"
     ]
    },
    {
     "name": "stdout",
     "output_type": "stream",
     "text": [
      "Iteration [345000/445790], Entire Loss: 16166.1962890625, Original: 434.6683044433594, Regularization 1: 15726.900390625, Regularization 2: 4.627999782562256\n",
      "Computing R2 score using existing 'annotation' column in spatial dataset...\n",
      "This helps validate that the previously provided annotation is valid.\n",
      "Optimization terminated successfully.\n",
      "         Current function value: 0.900854\n",
      "         Iterations 10\n",
      "McFadden's R-squared redeconve annotation: 0.3216\n"
     ]
    },
    {
     "name": "stderr",
     "output_type": "stream",
     "text": [
      "/tmp/ipykernel_464166/2305974174.py:262: UserWarning: To copy construct from a tensor, it is recommended to use sourceTensor.clone().detach() or sourceTensor.clone().detach().requires_grad_(True), rather than torch.tensor(sourceTensor).\n",
      "  distance_st_tensor = torch.tensor(distance_st).cuda()\n",
      "/tmp/ipykernel_464166/2305974174.py:266: UserWarning: To copy construct from a tensor, it is recommended to use sourceTensor.clone().detach() or sourceTensor.clone().detach().requires_grad_(True), rather than torch.tensor(sourceTensor).\n",
      "  ranks_st = torch.tensor(torch.argsort(torch.argsort(distance_st_tensor, dim=1), dim=1), dtype=torch.float, requires_grad=True)\n",
      "/tmp/ipykernel_464166/2305974174.py:292: UserWarning: To copy construct from a tensor, it is recommended to use sourceTensor.clone().detach() or sourceTensor.clone().detach().requires_grad_(True), rather than torch.tensor(sourceTensor).\n",
      "  distance_st2_tensor = torch.tensor(distance_st2).cuda()\n",
      "/tmp/ipykernel_464166/2305974174.py:296: UserWarning: To copy construct from a tensor, it is recommended to use sourceTensor.clone().detach() or sourceTensor.clone().detach().requires_grad_(True), rather than torch.tensor(sourceTensor).\n",
      "  rankings = torch.tensor(torch.argsort(torch.argsort(distance_st2_tensor, dim=1), dim=1), dtype=torch.float, requires_grad=True)\n"
     ]
    },
    {
     "name": "stdout",
     "output_type": "stream",
     "text": [
      "Iteration [348000/445790], Entire Loss: 16209.1572265625, Original: 434.6124267578125, Regularization 1: 15769.900390625, Regularization 2: 4.644500255584717\n",
      "Computing R2 score using existing 'annotation' column in spatial dataset...\n",
      "This helps validate that the previously provided annotation is valid.\n",
      "Optimization terminated successfully.\n",
      "         Current function value: 0.903375\n",
      "         Iterations 10\n",
      "McFadden's R-squared redeconve annotation: 0.3197\n"
     ]
    },
    {
     "name": "stderr",
     "output_type": "stream",
     "text": [
      "/tmp/ipykernel_464166/2305974174.py:262: UserWarning: To copy construct from a tensor, it is recommended to use sourceTensor.clone().detach() or sourceTensor.clone().detach().requires_grad_(True), rather than torch.tensor(sourceTensor).\n",
      "  distance_st_tensor = torch.tensor(distance_st).cuda()\n",
      "/tmp/ipykernel_464166/2305974174.py:266: UserWarning: To copy construct from a tensor, it is recommended to use sourceTensor.clone().detach() or sourceTensor.clone().detach().requires_grad_(True), rather than torch.tensor(sourceTensor).\n",
      "  ranks_st = torch.tensor(torch.argsort(torch.argsort(distance_st_tensor, dim=1), dim=1), dtype=torch.float, requires_grad=True)\n",
      "/tmp/ipykernel_464166/2305974174.py:292: UserWarning: To copy construct from a tensor, it is recommended to use sourceTensor.clone().detach() or sourceTensor.clone().detach().requires_grad_(True), rather than torch.tensor(sourceTensor).\n",
      "  distance_st2_tensor = torch.tensor(distance_st2).cuda()\n",
      "/tmp/ipykernel_464166/2305974174.py:296: UserWarning: To copy construct from a tensor, it is recommended to use sourceTensor.clone().detach() or sourceTensor.clone().detach().requires_grad_(True), rather than torch.tensor(sourceTensor).\n",
      "  rankings = torch.tensor(torch.argsort(torch.argsort(distance_st2_tensor, dim=1), dim=1), dtype=torch.float, requires_grad=True)\n"
     ]
    },
    {
     "name": "stdout",
     "output_type": "stream",
     "text": [
      "Iteration [351000/445790], Entire Loss: 16240.236328125, Original: 434.5587463378906, Regularization 1: 15801.0, Regularization 2: 4.677999973297119\n",
      "Computing R2 score using existing 'annotation' column in spatial dataset...\n",
      "This helps validate that the previously provided annotation is valid.\n",
      "Optimization terminated successfully.\n",
      "         Current function value: 0.906109\n",
      "         Iterations 10\n",
      "McFadden's R-squared redeconve annotation: 0.3177\n"
     ]
    },
    {
     "name": "stderr",
     "output_type": "stream",
     "text": [
      "/tmp/ipykernel_464166/2305974174.py:262: UserWarning: To copy construct from a tensor, it is recommended to use sourceTensor.clone().detach() or sourceTensor.clone().detach().requires_grad_(True), rather than torch.tensor(sourceTensor).\n",
      "  distance_st_tensor = torch.tensor(distance_st).cuda()\n",
      "/tmp/ipykernel_464166/2305974174.py:266: UserWarning: To copy construct from a tensor, it is recommended to use sourceTensor.clone().detach() or sourceTensor.clone().detach().requires_grad_(True), rather than torch.tensor(sourceTensor).\n",
      "  ranks_st = torch.tensor(torch.argsort(torch.argsort(distance_st_tensor, dim=1), dim=1), dtype=torch.float, requires_grad=True)\n",
      "/tmp/ipykernel_464166/2305974174.py:292: UserWarning: To copy construct from a tensor, it is recommended to use sourceTensor.clone().detach() or sourceTensor.clone().detach().requires_grad_(True), rather than torch.tensor(sourceTensor).\n",
      "  distance_st2_tensor = torch.tensor(distance_st2).cuda()\n",
      "/tmp/ipykernel_464166/2305974174.py:296: UserWarning: To copy construct from a tensor, it is recommended to use sourceTensor.clone().detach() or sourceTensor.clone().detach().requires_grad_(True), rather than torch.tensor(sourceTensor).\n",
      "  rankings = torch.tensor(torch.argsort(torch.argsort(distance_st2_tensor, dim=1), dim=1), dtype=torch.float, requires_grad=True)\n"
     ]
    },
    {
     "name": "stdout",
     "output_type": "stream",
     "text": [
      "Iteration [354000/445790], Entire Loss: 16278.8203125, Original: 434.5074157714844, Regularization 1: 15839.6005859375, Regularization 2: 4.7114996910095215\n",
      "Computing R2 score using existing 'annotation' column in spatial dataset...\n",
      "This helps validate that the previously provided annotation is valid.\n",
      "Optimization terminated successfully.\n",
      "         Current function value: 0.909067\n",
      "         Iterations 10\n",
      "McFadden's R-squared redeconve annotation: 0.3154\n"
     ]
    },
    {
     "name": "stderr",
     "output_type": "stream",
     "text": [
      "/tmp/ipykernel_464166/2305974174.py:262: UserWarning: To copy construct from a tensor, it is recommended to use sourceTensor.clone().detach() or sourceTensor.clone().detach().requires_grad_(True), rather than torch.tensor(sourceTensor).\n",
      "  distance_st_tensor = torch.tensor(distance_st).cuda()\n",
      "/tmp/ipykernel_464166/2305974174.py:266: UserWarning: To copy construct from a tensor, it is recommended to use sourceTensor.clone().detach() or sourceTensor.clone().detach().requires_grad_(True), rather than torch.tensor(sourceTensor).\n",
      "  ranks_st = torch.tensor(torch.argsort(torch.argsort(distance_st_tensor, dim=1), dim=1), dtype=torch.float, requires_grad=True)\n",
      "/tmp/ipykernel_464166/2305974174.py:292: UserWarning: To copy construct from a tensor, it is recommended to use sourceTensor.clone().detach() or sourceTensor.clone().detach().requires_grad_(True), rather than torch.tensor(sourceTensor).\n",
      "  distance_st2_tensor = torch.tensor(distance_st2).cuda()\n",
      "/tmp/ipykernel_464166/2305974174.py:296: UserWarning: To copy construct from a tensor, it is recommended to use sourceTensor.clone().detach() or sourceTensor.clone().detach().requires_grad_(True), rather than torch.tensor(sourceTensor).\n",
      "  rankings = torch.tensor(torch.argsort(torch.argsort(distance_st2_tensor, dim=1), dim=1), dtype=torch.float, requires_grad=True)\n"
     ]
    },
    {
     "name": "stdout",
     "output_type": "stream",
     "text": [
      "Iteration [357000/445790], Entire Loss: 16307.5830078125, Original: 434.45855712890625, Regularization 1: 15868.400390625, Regularization 2: 4.7235002517700195\n",
      "Computing R2 score using existing 'annotation' column in spatial dataset...\n",
      "This helps validate that the previously provided annotation is valid.\n",
      "Optimization terminated successfully.\n",
      "         Current function value: 0.912318\n",
      "         Iterations 10\n",
      "McFadden's R-squared redeconve annotation: 0.313\n"
     ]
    },
    {
     "name": "stderr",
     "output_type": "stream",
     "text": [
      "/tmp/ipykernel_464166/2305974174.py:262: UserWarning: To copy construct from a tensor, it is recommended to use sourceTensor.clone().detach() or sourceTensor.clone().detach().requires_grad_(True), rather than torch.tensor(sourceTensor).\n",
      "  distance_st_tensor = torch.tensor(distance_st).cuda()\n",
      "/tmp/ipykernel_464166/2305974174.py:266: UserWarning: To copy construct from a tensor, it is recommended to use sourceTensor.clone().detach() or sourceTensor.clone().detach().requires_grad_(True), rather than torch.tensor(sourceTensor).\n",
      "  ranks_st = torch.tensor(torch.argsort(torch.argsort(distance_st_tensor, dim=1), dim=1), dtype=torch.float, requires_grad=True)\n",
      "/tmp/ipykernel_464166/2305974174.py:292: UserWarning: To copy construct from a tensor, it is recommended to use sourceTensor.clone().detach() or sourceTensor.clone().detach().requires_grad_(True), rather than torch.tensor(sourceTensor).\n",
      "  distance_st2_tensor = torch.tensor(distance_st2).cuda()\n",
      "/tmp/ipykernel_464166/2305974174.py:296: UserWarning: To copy construct from a tensor, it is recommended to use sourceTensor.clone().detach() or sourceTensor.clone().detach().requires_grad_(True), rather than torch.tensor(sourceTensor).\n",
      "  rankings = torch.tensor(torch.argsort(torch.argsort(distance_st2_tensor, dim=1), dim=1), dtype=torch.float, requires_grad=True)\n"
     ]
    },
    {
     "name": "stdout",
     "output_type": "stream",
     "text": [
      "Iteration [360000/445790], Entire Loss: 16338.33984375, Original: 434.4122009277344, Regularization 1: 15899.2001953125, Regularization 2: 4.728000164031982\n",
      "Computing R2 score using existing 'annotation' column in spatial dataset...\n",
      "This helps validate that the previously provided annotation is valid.\n",
      "Optimization terminated successfully.\n",
      "         Current function value: 0.915555\n",
      "         Iterations 10\n",
      "McFadden's R-squared redeconve annotation: 0.3106\n"
     ]
    },
    {
     "name": "stderr",
     "output_type": "stream",
     "text": [
      "/tmp/ipykernel_464166/2305974174.py:262: UserWarning: To copy construct from a tensor, it is recommended to use sourceTensor.clone().detach() or sourceTensor.clone().detach().requires_grad_(True), rather than torch.tensor(sourceTensor).\n",
      "  distance_st_tensor = torch.tensor(distance_st).cuda()\n",
      "/tmp/ipykernel_464166/2305974174.py:266: UserWarning: To copy construct from a tensor, it is recommended to use sourceTensor.clone().detach() or sourceTensor.clone().detach().requires_grad_(True), rather than torch.tensor(sourceTensor).\n",
      "  ranks_st = torch.tensor(torch.argsort(torch.argsort(distance_st_tensor, dim=1), dim=1), dtype=torch.float, requires_grad=True)\n",
      "/tmp/ipykernel_464166/2305974174.py:292: UserWarning: To copy construct from a tensor, it is recommended to use sourceTensor.clone().detach() or sourceTensor.clone().detach().requires_grad_(True), rather than torch.tensor(sourceTensor).\n",
      "  distance_st2_tensor = torch.tensor(distance_st2).cuda()\n",
      "/tmp/ipykernel_464166/2305974174.py:296: UserWarning: To copy construct from a tensor, it is recommended to use sourceTensor.clone().detach() or sourceTensor.clone().detach().requires_grad_(True), rather than torch.tensor(sourceTensor).\n",
      "  rankings = torch.tensor(torch.argsort(torch.argsort(distance_st2_tensor, dim=1), dim=1), dtype=torch.float, requires_grad=True)\n"
     ]
    },
    {
     "name": "stdout",
     "output_type": "stream",
     "text": [
      "Iteration [363000/445790], Entire Loss: 16358.6005859375, Original: 434.36822509765625, Regularization 1: 15919.5, Regularization 2: 4.73199987411499\n",
      "Computing R2 score using existing 'annotation' column in spatial dataset...\n",
      "This helps validate that the previously provided annotation is valid.\n",
      "Optimization terminated successfully.\n",
      "         Current function value: 0.918481\n",
      "         Iterations 10\n",
      "McFadden's R-squared redeconve annotation: 0.3083\n"
     ]
    },
    {
     "name": "stderr",
     "output_type": "stream",
     "text": [
      "/tmp/ipykernel_464166/2305974174.py:262: UserWarning: To copy construct from a tensor, it is recommended to use sourceTensor.clone().detach() or sourceTensor.clone().detach().requires_grad_(True), rather than torch.tensor(sourceTensor).\n",
      "  distance_st_tensor = torch.tensor(distance_st).cuda()\n",
      "/tmp/ipykernel_464166/2305974174.py:266: UserWarning: To copy construct from a tensor, it is recommended to use sourceTensor.clone().detach() or sourceTensor.clone().detach().requires_grad_(True), rather than torch.tensor(sourceTensor).\n",
      "  ranks_st = torch.tensor(torch.argsort(torch.argsort(distance_st_tensor, dim=1), dim=1), dtype=torch.float, requires_grad=True)\n",
      "/tmp/ipykernel_464166/2305974174.py:292: UserWarning: To copy construct from a tensor, it is recommended to use sourceTensor.clone().detach() or sourceTensor.clone().detach().requires_grad_(True), rather than torch.tensor(sourceTensor).\n",
      "  distance_st2_tensor = torch.tensor(distance_st2).cuda()\n",
      "/tmp/ipykernel_464166/2305974174.py:296: UserWarning: To copy construct from a tensor, it is recommended to use sourceTensor.clone().detach() or sourceTensor.clone().detach().requires_grad_(True), rather than torch.tensor(sourceTensor).\n",
      "  rankings = torch.tensor(torch.argsort(torch.argsort(distance_st2_tensor, dim=1), dim=1), dtype=torch.float, requires_grad=True)\n"
     ]
    },
    {
     "name": "stdout",
     "output_type": "stream",
     "text": [
      "Iteration [366000/445790], Entire Loss: 16370.7421875, Original: 434.3262634277344, Regularization 1: 15931.7001953125, Regularization 2: 4.7154998779296875\n",
      "Computing R2 score using existing 'annotation' column in spatial dataset...\n",
      "This helps validate that the previously provided annotation is valid.\n",
      "Optimization terminated successfully.\n",
      "         Current function value: 0.921479\n",
      "         Iterations 10\n",
      "McFadden's R-squared redeconve annotation: 0.3061\n"
     ]
    },
    {
     "name": "stderr",
     "output_type": "stream",
     "text": [
      "/tmp/ipykernel_464166/2305974174.py:262: UserWarning: To copy construct from a tensor, it is recommended to use sourceTensor.clone().detach() or sourceTensor.clone().detach().requires_grad_(True), rather than torch.tensor(sourceTensor).\n",
      "  distance_st_tensor = torch.tensor(distance_st).cuda()\n",
      "/tmp/ipykernel_464166/2305974174.py:266: UserWarning: To copy construct from a tensor, it is recommended to use sourceTensor.clone().detach() or sourceTensor.clone().detach().requires_grad_(True), rather than torch.tensor(sourceTensor).\n",
      "  ranks_st = torch.tensor(torch.argsort(torch.argsort(distance_st_tensor, dim=1), dim=1), dtype=torch.float, requires_grad=True)\n",
      "/tmp/ipykernel_464166/2305974174.py:292: UserWarning: To copy construct from a tensor, it is recommended to use sourceTensor.clone().detach() or sourceTensor.clone().detach().requires_grad_(True), rather than torch.tensor(sourceTensor).\n",
      "  distance_st2_tensor = torch.tensor(distance_st2).cuda()\n",
      "/tmp/ipykernel_464166/2305974174.py:296: UserWarning: To copy construct from a tensor, it is recommended to use sourceTensor.clone().detach() or sourceTensor.clone().detach().requires_grad_(True), rather than torch.tensor(sourceTensor).\n",
      "  rankings = torch.tensor(torch.argsort(torch.argsort(distance_st2_tensor, dim=1), dim=1), dtype=torch.float, requires_grad=True)\n"
     ]
    },
    {
     "name": "stdout",
     "output_type": "stream",
     "text": [
      "Iteration [369000/445790], Entire Loss: 16389.013671875, Original: 434.2863464355469, Regularization 1: 15950.0, Regularization 2: 4.727499961853027\n",
      "Computing R2 score using existing 'annotation' column in spatial dataset...\n",
      "This helps validate that the previously provided annotation is valid.\n",
      "Optimization terminated successfully.\n",
      "         Current function value: 0.924729\n",
      "         Iterations 10\n",
      "McFadden's R-squared redeconve annotation: 0.3036\n"
     ]
    },
    {
     "name": "stderr",
     "output_type": "stream",
     "text": [
      "/tmp/ipykernel_464166/2305974174.py:262: UserWarning: To copy construct from a tensor, it is recommended to use sourceTensor.clone().detach() or sourceTensor.clone().detach().requires_grad_(True), rather than torch.tensor(sourceTensor).\n",
      "  distance_st_tensor = torch.tensor(distance_st).cuda()\n",
      "/tmp/ipykernel_464166/2305974174.py:266: UserWarning: To copy construct from a tensor, it is recommended to use sourceTensor.clone().detach() or sourceTensor.clone().detach().requires_grad_(True), rather than torch.tensor(sourceTensor).\n",
      "  ranks_st = torch.tensor(torch.argsort(torch.argsort(distance_st_tensor, dim=1), dim=1), dtype=torch.float, requires_grad=True)\n",
      "/tmp/ipykernel_464166/2305974174.py:292: UserWarning: To copy construct from a tensor, it is recommended to use sourceTensor.clone().detach() or sourceTensor.clone().detach().requires_grad_(True), rather than torch.tensor(sourceTensor).\n",
      "  distance_st2_tensor = torch.tensor(distance_st2).cuda()\n",
      "/tmp/ipykernel_464166/2305974174.py:296: UserWarning: To copy construct from a tensor, it is recommended to use sourceTensor.clone().detach() or sourceTensor.clone().detach().requires_grad_(True), rather than torch.tensor(sourceTensor).\n",
      "  rankings = torch.tensor(torch.argsort(torch.argsort(distance_st2_tensor, dim=1), dim=1), dtype=torch.float, requires_grad=True)\n"
     ]
    },
    {
     "name": "stdout",
     "output_type": "stream",
     "text": [
      "Iteration [372000/445790], Entire Loss: 16409.21484375, Original: 434.2485656738281, Regularization 1: 15970.2001953125, Regularization 2: 4.7669997215271\n",
      "Computing R2 score using existing 'annotation' column in spatial dataset...\n",
      "This helps validate that the previously provided annotation is valid.\n",
      "Optimization terminated successfully.\n",
      "         Current function value: 0.928118\n",
      "         Iterations 10\n",
      "McFadden's R-squared redeconve annotation: 0.3011\n"
     ]
    },
    {
     "name": "stderr",
     "output_type": "stream",
     "text": [
      "/tmp/ipykernel_464166/2305974174.py:262: UserWarning: To copy construct from a tensor, it is recommended to use sourceTensor.clone().detach() or sourceTensor.clone().detach().requires_grad_(True), rather than torch.tensor(sourceTensor).\n",
      "  distance_st_tensor = torch.tensor(distance_st).cuda()\n",
      "/tmp/ipykernel_464166/2305974174.py:266: UserWarning: To copy construct from a tensor, it is recommended to use sourceTensor.clone().detach() or sourceTensor.clone().detach().requires_grad_(True), rather than torch.tensor(sourceTensor).\n",
      "  ranks_st = torch.tensor(torch.argsort(torch.argsort(distance_st_tensor, dim=1), dim=1), dtype=torch.float, requires_grad=True)\n",
      "/tmp/ipykernel_464166/2305974174.py:292: UserWarning: To copy construct from a tensor, it is recommended to use sourceTensor.clone().detach() or sourceTensor.clone().detach().requires_grad_(True), rather than torch.tensor(sourceTensor).\n",
      "  distance_st2_tensor = torch.tensor(distance_st2).cuda()\n",
      "/tmp/ipykernel_464166/2305974174.py:296: UserWarning: To copy construct from a tensor, it is recommended to use sourceTensor.clone().detach() or sourceTensor.clone().detach().requires_grad_(True), rather than torch.tensor(sourceTensor).\n",
      "  rankings = torch.tensor(torch.argsort(torch.argsort(distance_st2_tensor, dim=1), dim=1), dtype=torch.float, requires_grad=True)\n"
     ]
    },
    {
     "name": "stdout",
     "output_type": "stream",
     "text": [
      "Iteration [375000/445790], Entire Loss: 16414.099609375, Original: 434.2127380371094, Regularization 1: 15975.1005859375, Regularization 2: 4.786499977111816\n",
      "Computing R2 score using existing 'annotation' column in spatial dataset...\n",
      "This helps validate that the previously provided annotation is valid.\n",
      "Optimization terminated successfully.\n",
      "         Current function value: 0.931815\n",
      "         Iterations 10\n",
      "McFadden's R-squared redeconve annotation: 0.2983\n"
     ]
    },
    {
     "name": "stderr",
     "output_type": "stream",
     "text": [
      "/tmp/ipykernel_464166/2305974174.py:262: UserWarning: To copy construct from a tensor, it is recommended to use sourceTensor.clone().detach() or sourceTensor.clone().detach().requires_grad_(True), rather than torch.tensor(sourceTensor).\n",
      "  distance_st_tensor = torch.tensor(distance_st).cuda()\n",
      "/tmp/ipykernel_464166/2305974174.py:266: UserWarning: To copy construct from a tensor, it is recommended to use sourceTensor.clone().detach() or sourceTensor.clone().detach().requires_grad_(True), rather than torch.tensor(sourceTensor).\n",
      "  ranks_st = torch.tensor(torch.argsort(torch.argsort(distance_st_tensor, dim=1), dim=1), dtype=torch.float, requires_grad=True)\n",
      "/tmp/ipykernel_464166/2305974174.py:292: UserWarning: To copy construct from a tensor, it is recommended to use sourceTensor.clone().detach() or sourceTensor.clone().detach().requires_grad_(True), rather than torch.tensor(sourceTensor).\n",
      "  distance_st2_tensor = torch.tensor(distance_st2).cuda()\n",
      "/tmp/ipykernel_464166/2305974174.py:296: UserWarning: To copy construct from a tensor, it is recommended to use sourceTensor.clone().detach() or sourceTensor.clone().detach().requires_grad_(True), rather than torch.tensor(sourceTensor).\n",
      "  rankings = torch.tensor(torch.argsort(torch.argsort(distance_st2_tensor, dim=1), dim=1), dtype=torch.float, requires_grad=True)\n"
     ]
    },
    {
     "name": "stdout",
     "output_type": "stream",
     "text": [
      "Iteration [378000/445790], Entire Loss: 16418.58984375, Original: 434.1784973144531, Regularization 1: 15979.6005859375, Regularization 2: 4.810500144958496\n",
      "Computing R2 score using existing 'annotation' column in spatial dataset...\n",
      "This helps validate that the previously provided annotation is valid.\n",
      "Optimization terminated successfully.\n",
      "         Current function value: 0.935620\n",
      "         Iterations 10\n",
      "McFadden's R-squared redeconve annotation: 0.2954\n"
     ]
    },
    {
     "name": "stderr",
     "output_type": "stream",
     "text": [
      "/tmp/ipykernel_464166/2305974174.py:262: UserWarning: To copy construct from a tensor, it is recommended to use sourceTensor.clone().detach() or sourceTensor.clone().detach().requires_grad_(True), rather than torch.tensor(sourceTensor).\n",
      "  distance_st_tensor = torch.tensor(distance_st).cuda()\n",
      "/tmp/ipykernel_464166/2305974174.py:266: UserWarning: To copy construct from a tensor, it is recommended to use sourceTensor.clone().detach() or sourceTensor.clone().detach().requires_grad_(True), rather than torch.tensor(sourceTensor).\n",
      "  ranks_st = torch.tensor(torch.argsort(torch.argsort(distance_st_tensor, dim=1), dim=1), dtype=torch.float, requires_grad=True)\n",
      "/tmp/ipykernel_464166/2305974174.py:292: UserWarning: To copy construct from a tensor, it is recommended to use sourceTensor.clone().detach() or sourceTensor.clone().detach().requires_grad_(True), rather than torch.tensor(sourceTensor).\n",
      "  distance_st2_tensor = torch.tensor(distance_st2).cuda()\n",
      "/tmp/ipykernel_464166/2305974174.py:296: UserWarning: To copy construct from a tensor, it is recommended to use sourceTensor.clone().detach() or sourceTensor.clone().detach().requires_grad_(True), rather than torch.tensor(sourceTensor).\n",
      "  rankings = torch.tensor(torch.argsort(torch.argsort(distance_st2_tensor, dim=1), dim=1), dtype=torch.float, requires_grad=True)\n"
     ]
    },
    {
     "name": "stdout",
     "output_type": "stream",
     "text": [
      "Iteration [381000/445790], Entire Loss: 16417.775390625, Original: 434.14593505859375, Regularization 1: 15978.7998046875, Regularization 2: 4.829999923706055\n",
      "Computing R2 score using existing 'annotation' column in spatial dataset...\n",
      "This helps validate that the previously provided annotation is valid.\n",
      "Optimization terminated successfully.\n",
      "         Current function value: 0.939730\n",
      "         Iterations 10\n",
      "McFadden's R-squared redeconve annotation: 0.2923\n"
     ]
    },
    {
     "name": "stderr",
     "output_type": "stream",
     "text": [
      "/tmp/ipykernel_464166/2305974174.py:262: UserWarning: To copy construct from a tensor, it is recommended to use sourceTensor.clone().detach() or sourceTensor.clone().detach().requires_grad_(True), rather than torch.tensor(sourceTensor).\n",
      "  distance_st_tensor = torch.tensor(distance_st).cuda()\n",
      "/tmp/ipykernel_464166/2305974174.py:266: UserWarning: To copy construct from a tensor, it is recommended to use sourceTensor.clone().detach() or sourceTensor.clone().detach().requires_grad_(True), rather than torch.tensor(sourceTensor).\n",
      "  ranks_st = torch.tensor(torch.argsort(torch.argsort(distance_st_tensor, dim=1), dim=1), dtype=torch.float, requires_grad=True)\n",
      "/tmp/ipykernel_464166/2305974174.py:292: UserWarning: To copy construct from a tensor, it is recommended to use sourceTensor.clone().detach() or sourceTensor.clone().detach().requires_grad_(True), rather than torch.tensor(sourceTensor).\n",
      "  distance_st2_tensor = torch.tensor(distance_st2).cuda()\n",
      "/tmp/ipykernel_464166/2305974174.py:296: UserWarning: To copy construct from a tensor, it is recommended to use sourceTensor.clone().detach() or sourceTensor.clone().detach().requires_grad_(True), rather than torch.tensor(sourceTensor).\n",
      "  rankings = torch.tensor(torch.argsort(torch.argsort(distance_st2_tensor, dim=1), dim=1), dtype=torch.float, requires_grad=True)\n"
     ]
    },
    {
     "name": "stdout",
     "output_type": "stream",
     "text": [
      "Iteration [384000/445790], Entire Loss: 16412.9453125, Original: 434.114990234375, Regularization 1: 15974.0, Regularization 2: 4.829999923706055\n",
      "Computing R2 score using existing 'annotation' column in spatial dataset...\n",
      "This helps validate that the previously provided annotation is valid.\n",
      "Optimization terminated successfully.\n",
      "         Current function value: 0.943998\n",
      "         Iterations 10\n",
      "McFadden's R-squared redeconve annotation: 0.2891\n"
     ]
    },
    {
     "name": "stderr",
     "output_type": "stream",
     "text": [
      "/tmp/ipykernel_464166/2305974174.py:262: UserWarning: To copy construct from a tensor, it is recommended to use sourceTensor.clone().detach() or sourceTensor.clone().detach().requires_grad_(True), rather than torch.tensor(sourceTensor).\n",
      "  distance_st_tensor = torch.tensor(distance_st).cuda()\n",
      "/tmp/ipykernel_464166/2305974174.py:266: UserWarning: To copy construct from a tensor, it is recommended to use sourceTensor.clone().detach() or sourceTensor.clone().detach().requires_grad_(True), rather than torch.tensor(sourceTensor).\n",
      "  ranks_st = torch.tensor(torch.argsort(torch.argsort(distance_st_tensor, dim=1), dim=1), dtype=torch.float, requires_grad=True)\n",
      "/tmp/ipykernel_464166/2305974174.py:292: UserWarning: To copy construct from a tensor, it is recommended to use sourceTensor.clone().detach() or sourceTensor.clone().detach().requires_grad_(True), rather than torch.tensor(sourceTensor).\n",
      "  distance_st2_tensor = torch.tensor(distance_st2).cuda()\n",
      "/tmp/ipykernel_464166/2305974174.py:296: UserWarning: To copy construct from a tensor, it is recommended to use sourceTensor.clone().detach() or sourceTensor.clone().detach().requires_grad_(True), rather than torch.tensor(sourceTensor).\n",
      "  rankings = torch.tensor(torch.argsort(torch.argsort(distance_st2_tensor, dim=1), dim=1), dtype=torch.float, requires_grad=True)\n"
     ]
    },
    {
     "name": "stdout",
     "output_type": "stream",
     "text": [
      "Iteration [387000/445790], Entire Loss: 16410.115234375, Original: 434.0855407714844, Regularization 1: 15971.2001953125, Regularization 2: 4.83050012588501\n",
      "Computing R2 score using existing 'annotation' column in spatial dataset...\n",
      "This helps validate that the previously provided annotation is valid.\n",
      "Optimization terminated successfully.\n",
      "         Current function value: 0.947803\n",
      "         Iterations 10\n",
      "McFadden's R-squared redeconve annotation: 0.2863\n"
     ]
    },
    {
     "name": "stderr",
     "output_type": "stream",
     "text": [
      "/tmp/ipykernel_464166/2305974174.py:262: UserWarning: To copy construct from a tensor, it is recommended to use sourceTensor.clone().detach() or sourceTensor.clone().detach().requires_grad_(True), rather than torch.tensor(sourceTensor).\n",
      "  distance_st_tensor = torch.tensor(distance_st).cuda()\n",
      "/tmp/ipykernel_464166/2305974174.py:266: UserWarning: To copy construct from a tensor, it is recommended to use sourceTensor.clone().detach() or sourceTensor.clone().detach().requires_grad_(True), rather than torch.tensor(sourceTensor).\n",
      "  ranks_st = torch.tensor(torch.argsort(torch.argsort(distance_st_tensor, dim=1), dim=1), dtype=torch.float, requires_grad=True)\n",
      "/tmp/ipykernel_464166/2305974174.py:292: UserWarning: To copy construct from a tensor, it is recommended to use sourceTensor.clone().detach() or sourceTensor.clone().detach().requires_grad_(True), rather than torch.tensor(sourceTensor).\n",
      "  distance_st2_tensor = torch.tensor(distance_st2).cuda()\n",
      "/tmp/ipykernel_464166/2305974174.py:296: UserWarning: To copy construct from a tensor, it is recommended to use sourceTensor.clone().detach() or sourceTensor.clone().detach().requires_grad_(True), rather than torch.tensor(sourceTensor).\n",
      "  rankings = torch.tensor(torch.argsort(torch.argsort(distance_st2_tensor, dim=1), dim=1), dtype=torch.float, requires_grad=True)\n"
     ]
    },
    {
     "name": "stdout",
     "output_type": "stream",
     "text": [
      "Iteration [390000/445790], Entire Loss: 16408.498046875, Original: 434.0569763183594, Regularization 1: 15969.6005859375, Regularization 2: 4.841000080108643\n",
      "Computing R2 score using existing 'annotation' column in spatial dataset...\n",
      "This helps validate that the previously provided annotation is valid.\n",
      "Optimization terminated successfully.\n",
      "         Current function value: 0.950075\n",
      "         Iterations 10\n",
      "McFadden's R-squared redeconve annotation: 0.2846\n"
     ]
    },
    {
     "name": "stderr",
     "output_type": "stream",
     "text": [
      "/tmp/ipykernel_464166/2305974174.py:262: UserWarning: To copy construct from a tensor, it is recommended to use sourceTensor.clone().detach() or sourceTensor.clone().detach().requires_grad_(True), rather than torch.tensor(sourceTensor).\n",
      "  distance_st_tensor = torch.tensor(distance_st).cuda()\n",
      "/tmp/ipykernel_464166/2305974174.py:266: UserWarning: To copy construct from a tensor, it is recommended to use sourceTensor.clone().detach() or sourceTensor.clone().detach().requires_grad_(True), rather than torch.tensor(sourceTensor).\n",
      "  ranks_st = torch.tensor(torch.argsort(torch.argsort(distance_st_tensor, dim=1), dim=1), dtype=torch.float, requires_grad=True)\n",
      "/tmp/ipykernel_464166/2305974174.py:292: UserWarning: To copy construct from a tensor, it is recommended to use sourceTensor.clone().detach() or sourceTensor.clone().detach().requires_grad_(True), rather than torch.tensor(sourceTensor).\n",
      "  distance_st2_tensor = torch.tensor(distance_st2).cuda()\n",
      "/tmp/ipykernel_464166/2305974174.py:296: UserWarning: To copy construct from a tensor, it is recommended to use sourceTensor.clone().detach() or sourceTensor.clone().detach().requires_grad_(True), rather than torch.tensor(sourceTensor).\n",
      "  rankings = torch.tensor(torch.argsort(torch.argsort(distance_st2_tensor, dim=1), dim=1), dtype=torch.float, requires_grad=True)\n"
     ]
    },
    {
     "name": "stdout",
     "output_type": "stream",
     "text": [
      "Iteration [393000/445790], Entire Loss: 16403.6875, Original: 434.02880859375, Regularization 1: 15964.7998046875, Regularization 2: 4.858500003814697\n",
      "Computing R2 score using existing 'annotation' column in spatial dataset...\n",
      "This helps validate that the previously provided annotation is valid.\n",
      "Optimization terminated successfully.\n",
      "         Current function value: 0.951834\n",
      "         Iterations 10\n",
      "McFadden's R-squared redeconve annotation: 0.2832\n"
     ]
    },
    {
     "name": "stderr",
     "output_type": "stream",
     "text": [
      "/tmp/ipykernel_464166/2305974174.py:262: UserWarning: To copy construct from a tensor, it is recommended to use sourceTensor.clone().detach() or sourceTensor.clone().detach().requires_grad_(True), rather than torch.tensor(sourceTensor).\n",
      "  distance_st_tensor = torch.tensor(distance_st).cuda()\n",
      "/tmp/ipykernel_464166/2305974174.py:266: UserWarning: To copy construct from a tensor, it is recommended to use sourceTensor.clone().detach() or sourceTensor.clone().detach().requires_grad_(True), rather than torch.tensor(sourceTensor).\n",
      "  ranks_st = torch.tensor(torch.argsort(torch.argsort(distance_st_tensor, dim=1), dim=1), dtype=torch.float, requires_grad=True)\n",
      "/tmp/ipykernel_464166/2305974174.py:292: UserWarning: To copy construct from a tensor, it is recommended to use sourceTensor.clone().detach() or sourceTensor.clone().detach().requires_grad_(True), rather than torch.tensor(sourceTensor).\n",
      "  distance_st2_tensor = torch.tensor(distance_st2).cuda()\n",
      "/tmp/ipykernel_464166/2305974174.py:296: UserWarning: To copy construct from a tensor, it is recommended to use sourceTensor.clone().detach() or sourceTensor.clone().detach().requires_grad_(True), rather than torch.tensor(sourceTensor).\n",
      "  rankings = torch.tensor(torch.argsort(torch.argsort(distance_st2_tensor, dim=1), dim=1), dtype=torch.float, requires_grad=True)\n"
     ]
    },
    {
     "name": "stdout",
     "output_type": "stream",
     "text": [
      "Iteration [396000/445790], Entire Loss: 16405.666015625, Original: 434.0008239746094, Regularization 1: 15966.7998046875, Regularization 2: 4.866499900817871\n",
      "Computing R2 score using existing 'annotation' column in spatial dataset...\n",
      "This helps validate that the previously provided annotation is valid.\n",
      "Optimization terminated successfully.\n",
      "         Current function value: 0.953504\n",
      "         Iterations 10\n",
      "McFadden's R-squared redeconve annotation: 0.282\n"
     ]
    },
    {
     "name": "stderr",
     "output_type": "stream",
     "text": [
      "/tmp/ipykernel_464166/2305974174.py:262: UserWarning: To copy construct from a tensor, it is recommended to use sourceTensor.clone().detach() or sourceTensor.clone().detach().requires_grad_(True), rather than torch.tensor(sourceTensor).\n",
      "  distance_st_tensor = torch.tensor(distance_st).cuda()\n",
      "/tmp/ipykernel_464166/2305974174.py:266: UserWarning: To copy construct from a tensor, it is recommended to use sourceTensor.clone().detach() or sourceTensor.clone().detach().requires_grad_(True), rather than torch.tensor(sourceTensor).\n",
      "  ranks_st = torch.tensor(torch.argsort(torch.argsort(distance_st_tensor, dim=1), dim=1), dtype=torch.float, requires_grad=True)\n",
      "/tmp/ipykernel_464166/2305974174.py:292: UserWarning: To copy construct from a tensor, it is recommended to use sourceTensor.clone().detach() or sourceTensor.clone().detach().requires_grad_(True), rather than torch.tensor(sourceTensor).\n",
      "  distance_st2_tensor = torch.tensor(distance_st2).cuda()\n",
      "/tmp/ipykernel_464166/2305974174.py:296: UserWarning: To copy construct from a tensor, it is recommended to use sourceTensor.clone().detach() or sourceTensor.clone().detach().requires_grad_(True), rather than torch.tensor(sourceTensor).\n",
      "  rankings = torch.tensor(torch.argsort(torch.argsort(distance_st2_tensor, dim=1), dim=1), dtype=torch.float, requires_grad=True)\n"
     ]
    },
    {
     "name": "stdout",
     "output_type": "stream",
     "text": [
      "Iteration [399000/445790], Entire Loss: 16409.55078125, Original: 433.97314453125, Regularization 1: 15970.7001953125, Regularization 2: 4.877000331878662\n",
      "Computing R2 score using existing 'annotation' column in spatial dataset...\n",
      "This helps validate that the previously provided annotation is valid.\n",
      "Optimization terminated successfully.\n",
      "         Current function value: 0.955272\n",
      "         Iterations 10\n",
      "McFadden's R-squared redeconve annotation: 0.2806\n"
     ]
    },
    {
     "name": "stderr",
     "output_type": "stream",
     "text": [
      "/tmp/ipykernel_464166/2305974174.py:262: UserWarning: To copy construct from a tensor, it is recommended to use sourceTensor.clone().detach() or sourceTensor.clone().detach().requires_grad_(True), rather than torch.tensor(sourceTensor).\n",
      "  distance_st_tensor = torch.tensor(distance_st).cuda()\n",
      "/tmp/ipykernel_464166/2305974174.py:266: UserWarning: To copy construct from a tensor, it is recommended to use sourceTensor.clone().detach() or sourceTensor.clone().detach().requires_grad_(True), rather than torch.tensor(sourceTensor).\n",
      "  ranks_st = torch.tensor(torch.argsort(torch.argsort(distance_st_tensor, dim=1), dim=1), dtype=torch.float, requires_grad=True)\n",
      "/tmp/ipykernel_464166/2305974174.py:292: UserWarning: To copy construct from a tensor, it is recommended to use sourceTensor.clone().detach() or sourceTensor.clone().detach().requires_grad_(True), rather than torch.tensor(sourceTensor).\n",
      "  distance_st2_tensor = torch.tensor(distance_st2).cuda()\n",
      "/tmp/ipykernel_464166/2305974174.py:296: UserWarning: To copy construct from a tensor, it is recommended to use sourceTensor.clone().detach() or sourceTensor.clone().detach().requires_grad_(True), rather than torch.tensor(sourceTensor).\n",
      "  rankings = torch.tensor(torch.argsort(torch.argsort(distance_st2_tensor, dim=1), dim=1), dtype=torch.float, requires_grad=True)\n"
     ]
    },
    {
     "name": "stdout",
     "output_type": "stream",
     "text": [
      "Iteration [402000/445790], Entire Loss: 16416.005859375, Original: 433.9457092285156, Regularization 1: 15977.2001953125, Regularization 2: 4.859000205993652\n",
      "Computing R2 score using existing 'annotation' column in spatial dataset...\n",
      "This helps validate that the previously provided annotation is valid.\n",
      "Optimization terminated successfully.\n",
      "         Current function value: 0.957192\n",
      "         Iterations 10\n",
      "McFadden's R-squared redeconve annotation: 0.2792\n"
     ]
    },
    {
     "name": "stderr",
     "output_type": "stream",
     "text": [
      "/tmp/ipykernel_464166/2305974174.py:262: UserWarning: To copy construct from a tensor, it is recommended to use sourceTensor.clone().detach() or sourceTensor.clone().detach().requires_grad_(True), rather than torch.tensor(sourceTensor).\n",
      "  distance_st_tensor = torch.tensor(distance_st).cuda()\n",
      "/tmp/ipykernel_464166/2305974174.py:266: UserWarning: To copy construct from a tensor, it is recommended to use sourceTensor.clone().detach() or sourceTensor.clone().detach().requires_grad_(True), rather than torch.tensor(sourceTensor).\n",
      "  ranks_st = torch.tensor(torch.argsort(torch.argsort(distance_st_tensor, dim=1), dim=1), dtype=torch.float, requires_grad=True)\n",
      "/tmp/ipykernel_464166/2305974174.py:292: UserWarning: To copy construct from a tensor, it is recommended to use sourceTensor.clone().detach() or sourceTensor.clone().detach().requires_grad_(True), rather than torch.tensor(sourceTensor).\n",
      "  distance_st2_tensor = torch.tensor(distance_st2).cuda()\n",
      "/tmp/ipykernel_464166/2305974174.py:296: UserWarning: To copy construct from a tensor, it is recommended to use sourceTensor.clone().detach() or sourceTensor.clone().detach().requires_grad_(True), rather than torch.tensor(sourceTensor).\n",
      "  rankings = torch.tensor(torch.argsort(torch.argsort(distance_st2_tensor, dim=1), dim=1), dtype=torch.float, requires_grad=True)\n"
     ]
    },
    {
     "name": "stdout",
     "output_type": "stream",
     "text": [
      "Iteration [405000/445790], Entire Loss: 16413.986328125, Original: 433.9185791015625, Regularization 1: 15975.2001953125, Regularization 2: 4.867499828338623\n",
      "Computing R2 score using existing 'annotation' column in spatial dataset...\n",
      "This helps validate that the previously provided annotation is valid.\n",
      "Optimization terminated successfully.\n",
      "         Current function value: 0.959225\n",
      "         Iterations 10\n",
      "McFadden's R-squared redeconve annotation: 0.2777\n"
     ]
    },
    {
     "name": "stderr",
     "output_type": "stream",
     "text": [
      "/tmp/ipykernel_464166/2305974174.py:262: UserWarning: To copy construct from a tensor, it is recommended to use sourceTensor.clone().detach() or sourceTensor.clone().detach().requires_grad_(True), rather than torch.tensor(sourceTensor).\n",
      "  distance_st_tensor = torch.tensor(distance_st).cuda()\n",
      "/tmp/ipykernel_464166/2305974174.py:266: UserWarning: To copy construct from a tensor, it is recommended to use sourceTensor.clone().detach() or sourceTensor.clone().detach().requires_grad_(True), rather than torch.tensor(sourceTensor).\n",
      "  ranks_st = torch.tensor(torch.argsort(torch.argsort(distance_st_tensor, dim=1), dim=1), dtype=torch.float, requires_grad=True)\n",
      "/tmp/ipykernel_464166/2305974174.py:292: UserWarning: To copy construct from a tensor, it is recommended to use sourceTensor.clone().detach() or sourceTensor.clone().detach().requires_grad_(True), rather than torch.tensor(sourceTensor).\n",
      "  distance_st2_tensor = torch.tensor(distance_st2).cuda()\n",
      "/tmp/ipykernel_464166/2305974174.py:296: UserWarning: To copy construct from a tensor, it is recommended to use sourceTensor.clone().detach() or sourceTensor.clone().detach().requires_grad_(True), rather than torch.tensor(sourceTensor).\n",
      "  rankings = torch.tensor(torch.argsort(torch.argsort(distance_st2_tensor, dim=1), dim=1), dtype=torch.float, requires_grad=True)\n"
     ]
    },
    {
     "name": "stdout",
     "output_type": "stream",
     "text": [
      "Iteration [408000/445790], Entire Loss: 16419.85546875, Original: 433.8916320800781, Regularization 1: 15981.1005859375, Regularization 2: 4.861999988555908\n",
      "Computing R2 score using existing 'annotation' column in spatial dataset...\n",
      "This helps validate that the previously provided annotation is valid.\n",
      "Optimization terminated successfully.\n",
      "         Current function value: 0.961182\n",
      "         Iterations 10\n",
      "McFadden's R-squared redeconve annotation: 0.2762\n"
     ]
    },
    {
     "name": "stderr",
     "output_type": "stream",
     "text": [
      "/tmp/ipykernel_464166/2305974174.py:262: UserWarning: To copy construct from a tensor, it is recommended to use sourceTensor.clone().detach() or sourceTensor.clone().detach().requires_grad_(True), rather than torch.tensor(sourceTensor).\n",
      "  distance_st_tensor = torch.tensor(distance_st).cuda()\n",
      "/tmp/ipykernel_464166/2305974174.py:266: UserWarning: To copy construct from a tensor, it is recommended to use sourceTensor.clone().detach() or sourceTensor.clone().detach().requires_grad_(True), rather than torch.tensor(sourceTensor).\n",
      "  ranks_st = torch.tensor(torch.argsort(torch.argsort(distance_st_tensor, dim=1), dim=1), dtype=torch.float, requires_grad=True)\n",
      "/tmp/ipykernel_464166/2305974174.py:292: UserWarning: To copy construct from a tensor, it is recommended to use sourceTensor.clone().detach() or sourceTensor.clone().detach().requires_grad_(True), rather than torch.tensor(sourceTensor).\n",
      "  distance_st2_tensor = torch.tensor(distance_st2).cuda()\n",
      "/tmp/ipykernel_464166/2305974174.py:296: UserWarning: To copy construct from a tensor, it is recommended to use sourceTensor.clone().detach() or sourceTensor.clone().detach().requires_grad_(True), rather than torch.tensor(sourceTensor).\n",
      "  rankings = torch.tensor(torch.argsort(torch.argsort(distance_st2_tensor, dim=1), dim=1), dtype=torch.float, requires_grad=True)\n"
     ]
    },
    {
     "name": "stdout",
     "output_type": "stream",
     "text": [
      "Iteration [411000/445790], Entire Loss: 16421.833984375, Original: 433.86492919921875, Regularization 1: 15983.1005859375, Regularization 2: 4.86899995803833\n",
      "Computing R2 score using existing 'annotation' column in spatial dataset...\n",
      "This helps validate that the previously provided annotation is valid.\n",
      "Optimization terminated successfully.\n",
      "         Current function value: 0.963082\n",
      "         Iterations 10\n",
      "McFadden's R-squared redeconve annotation: 0.2748\n"
     ]
    },
    {
     "name": "stderr",
     "output_type": "stream",
     "text": [
      "/tmp/ipykernel_464166/2305974174.py:262: UserWarning: To copy construct from a tensor, it is recommended to use sourceTensor.clone().detach() or sourceTensor.clone().detach().requires_grad_(True), rather than torch.tensor(sourceTensor).\n",
      "  distance_st_tensor = torch.tensor(distance_st).cuda()\n",
      "/tmp/ipykernel_464166/2305974174.py:266: UserWarning: To copy construct from a tensor, it is recommended to use sourceTensor.clone().detach() or sourceTensor.clone().detach().requires_grad_(True), rather than torch.tensor(sourceTensor).\n",
      "  ranks_st = torch.tensor(torch.argsort(torch.argsort(distance_st_tensor, dim=1), dim=1), dtype=torch.float, requires_grad=True)\n",
      "/tmp/ipykernel_464166/2305974174.py:292: UserWarning: To copy construct from a tensor, it is recommended to use sourceTensor.clone().detach() or sourceTensor.clone().detach().requires_grad_(True), rather than torch.tensor(sourceTensor).\n",
      "  distance_st2_tensor = torch.tensor(distance_st2).cuda()\n",
      "/tmp/ipykernel_464166/2305974174.py:296: UserWarning: To copy construct from a tensor, it is recommended to use sourceTensor.clone().detach() or sourceTensor.clone().detach().requires_grad_(True), rather than torch.tensor(sourceTensor).\n",
      "  rankings = torch.tensor(torch.argsort(torch.argsort(distance_st2_tensor, dim=1), dim=1), dtype=torch.float, requires_grad=True)\n"
     ]
    },
    {
     "name": "stdout",
     "output_type": "stream",
     "text": [
      "Iteration [414000/445790], Entire Loss: 16431.12109375, Original: 433.83843994140625, Regularization 1: 15992.400390625, Regularization 2: 4.882999897003174\n",
      "Computing R2 score using existing 'annotation' column in spatial dataset...\n",
      "This helps validate that the previously provided annotation is valid.\n",
      "Optimization terminated successfully.\n",
      "         Current function value: 0.964728\n",
      "         Iterations 10\n",
      "McFadden's R-squared redeconve annotation: 0.2735\n"
     ]
    },
    {
     "name": "stderr",
     "output_type": "stream",
     "text": [
      "/tmp/ipykernel_464166/2305974174.py:262: UserWarning: To copy construct from a tensor, it is recommended to use sourceTensor.clone().detach() or sourceTensor.clone().detach().requires_grad_(True), rather than torch.tensor(sourceTensor).\n",
      "  distance_st_tensor = torch.tensor(distance_st).cuda()\n",
      "/tmp/ipykernel_464166/2305974174.py:266: UserWarning: To copy construct from a tensor, it is recommended to use sourceTensor.clone().detach() or sourceTensor.clone().detach().requires_grad_(True), rather than torch.tensor(sourceTensor).\n",
      "  ranks_st = torch.tensor(torch.argsort(torch.argsort(distance_st_tensor, dim=1), dim=1), dtype=torch.float, requires_grad=True)\n",
      "/tmp/ipykernel_464166/2305974174.py:292: UserWarning: To copy construct from a tensor, it is recommended to use sourceTensor.clone().detach() or sourceTensor.clone().detach().requires_grad_(True), rather than torch.tensor(sourceTensor).\n",
      "  distance_st2_tensor = torch.tensor(distance_st2).cuda()\n",
      "/tmp/ipykernel_464166/2305974174.py:296: UserWarning: To copy construct from a tensor, it is recommended to use sourceTensor.clone().detach() or sourceTensor.clone().detach().requires_grad_(True), rather than torch.tensor(sourceTensor).\n",
      "  rankings = torch.tensor(torch.argsort(torch.argsort(distance_st2_tensor, dim=1), dim=1), dtype=torch.float, requires_grad=True)\n"
     ]
    },
    {
     "name": "stdout",
     "output_type": "stream",
     "text": [
      "Iteration [417000/445790], Entire Loss: 16432.49609375, Original: 433.8121643066406, Regularization 1: 15993.7998046875, Regularization 2: 4.883500099182129\n",
      "Computing R2 score using existing 'annotation' column in spatial dataset...\n",
      "This helps validate that the previously provided annotation is valid.\n",
      "Optimization terminated successfully.\n",
      "         Current function value: 0.965850\n",
      "         Iterations 10\n",
      "McFadden's R-squared redeconve annotation: 0.2727\n"
     ]
    },
    {
     "name": "stderr",
     "output_type": "stream",
     "text": [
      "/tmp/ipykernel_464166/2305974174.py:262: UserWarning: To copy construct from a tensor, it is recommended to use sourceTensor.clone().detach() or sourceTensor.clone().detach().requires_grad_(True), rather than torch.tensor(sourceTensor).\n",
      "  distance_st_tensor = torch.tensor(distance_st).cuda()\n",
      "/tmp/ipykernel_464166/2305974174.py:266: UserWarning: To copy construct from a tensor, it is recommended to use sourceTensor.clone().detach() or sourceTensor.clone().detach().requires_grad_(True), rather than torch.tensor(sourceTensor).\n",
      "  ranks_st = torch.tensor(torch.argsort(torch.argsort(distance_st_tensor, dim=1), dim=1), dtype=torch.float, requires_grad=True)\n",
      "/tmp/ipykernel_464166/2305974174.py:292: UserWarning: To copy construct from a tensor, it is recommended to use sourceTensor.clone().detach() or sourceTensor.clone().detach().requires_grad_(True), rather than torch.tensor(sourceTensor).\n",
      "  distance_st2_tensor = torch.tensor(distance_st2).cuda()\n",
      "/tmp/ipykernel_464166/2305974174.py:296: UserWarning: To copy construct from a tensor, it is recommended to use sourceTensor.clone().detach() or sourceTensor.clone().detach().requires_grad_(True), rather than torch.tensor(sourceTensor).\n",
      "  rankings = torch.tensor(torch.argsort(torch.argsort(distance_st2_tensor, dim=1), dim=1), dtype=torch.float, requires_grad=True)\n"
     ]
    },
    {
     "name": "stdout",
     "output_type": "stream",
     "text": [
      "Iteration [420000/445790], Entire Loss: 16444.35546875, Original: 433.7861328125, Regularization 1: 16005.7001953125, Regularization 2: 4.86899995803833\n",
      "Computing R2 score using existing 'annotation' column in spatial dataset...\n",
      "This helps validate that the previously provided annotation is valid.\n",
      "Optimization terminated successfully.\n",
      "         Current function value: 0.966871\n",
      "         Iterations 10\n",
      "McFadden's R-squared redeconve annotation: 0.2719\n"
     ]
    },
    {
     "name": "stderr",
     "output_type": "stream",
     "text": [
      "/tmp/ipykernel_464166/2305974174.py:262: UserWarning: To copy construct from a tensor, it is recommended to use sourceTensor.clone().detach() or sourceTensor.clone().detach().requires_grad_(True), rather than torch.tensor(sourceTensor).\n",
      "  distance_st_tensor = torch.tensor(distance_st).cuda()\n",
      "/tmp/ipykernel_464166/2305974174.py:266: UserWarning: To copy construct from a tensor, it is recommended to use sourceTensor.clone().detach() or sourceTensor.clone().detach().requires_grad_(True), rather than torch.tensor(sourceTensor).\n",
      "  ranks_st = torch.tensor(torch.argsort(torch.argsort(distance_st_tensor, dim=1), dim=1), dtype=torch.float, requires_grad=True)\n",
      "/tmp/ipykernel_464166/2305974174.py:292: UserWarning: To copy construct from a tensor, it is recommended to use sourceTensor.clone().detach() or sourceTensor.clone().detach().requires_grad_(True), rather than torch.tensor(sourceTensor).\n",
      "  distance_st2_tensor = torch.tensor(distance_st2).cuda()\n",
      "/tmp/ipykernel_464166/2305974174.py:296: UserWarning: To copy construct from a tensor, it is recommended to use sourceTensor.clone().detach() or sourceTensor.clone().detach().requires_grad_(True), rather than torch.tensor(sourceTensor).\n",
      "  rankings = torch.tensor(torch.argsort(torch.argsort(distance_st2_tensor, dim=1), dim=1), dtype=torch.float, requires_grad=True)\n"
     ]
    },
    {
     "name": "stdout",
     "output_type": "stream",
     "text": [
      "Iteration [423000/445790], Entire Loss: 16453.833984375, Original: 433.76025390625, Regularization 1: 16015.2001953125, Regularization 2: 4.873000144958496\n",
      "Computing R2 score using existing 'annotation' column in spatial dataset...\n",
      "This helps validate that the previously provided annotation is valid.\n",
      "Optimization terminated successfully.\n",
      "         Current function value: 0.967941\n",
      "         Iterations 10\n",
      "McFadden's R-squared redeconve annotation: 0.2711\n"
     ]
    },
    {
     "name": "stderr",
     "output_type": "stream",
     "text": [
      "/tmp/ipykernel_464166/2305974174.py:262: UserWarning: To copy construct from a tensor, it is recommended to use sourceTensor.clone().detach() or sourceTensor.clone().detach().requires_grad_(True), rather than torch.tensor(sourceTensor).\n",
      "  distance_st_tensor = torch.tensor(distance_st).cuda()\n",
      "/tmp/ipykernel_464166/2305974174.py:266: UserWarning: To copy construct from a tensor, it is recommended to use sourceTensor.clone().detach() or sourceTensor.clone().detach().requires_grad_(True), rather than torch.tensor(sourceTensor).\n",
      "  ranks_st = torch.tensor(torch.argsort(torch.argsort(distance_st_tensor, dim=1), dim=1), dtype=torch.float, requires_grad=True)\n",
      "/tmp/ipykernel_464166/2305974174.py:292: UserWarning: To copy construct from a tensor, it is recommended to use sourceTensor.clone().detach() or sourceTensor.clone().detach().requires_grad_(True), rather than torch.tensor(sourceTensor).\n",
      "  distance_st2_tensor = torch.tensor(distance_st2).cuda()\n",
      "/tmp/ipykernel_464166/2305974174.py:296: UserWarning: To copy construct from a tensor, it is recommended to use sourceTensor.clone().detach() or sourceTensor.clone().detach().requires_grad_(True), rather than torch.tensor(sourceTensor).\n",
      "  rankings = torch.tensor(torch.argsort(torch.argsort(distance_st2_tensor, dim=1), dim=1), dtype=torch.float, requires_grad=True)\n"
     ]
    },
    {
     "name": "stdout",
     "output_type": "stream",
     "text": [
      "Iteration [426000/445790], Entire Loss: 16466.21875, Original: 433.73455810546875, Regularization 1: 16027.6005859375, Regularization 2: 4.883500099182129\n",
      "Computing R2 score using existing 'annotation' column in spatial dataset...\n",
      "This helps validate that the previously provided annotation is valid.\n",
      "Optimization terminated successfully.\n",
      "         Current function value: 0.969148\n",
      "         Iterations 10\n",
      "McFadden's R-squared redeconve annotation: 0.2702\n"
     ]
    },
    {
     "name": "stderr",
     "output_type": "stream",
     "text": [
      "/tmp/ipykernel_464166/2305974174.py:262: UserWarning: To copy construct from a tensor, it is recommended to use sourceTensor.clone().detach() or sourceTensor.clone().detach().requires_grad_(True), rather than torch.tensor(sourceTensor).\n",
      "  distance_st_tensor = torch.tensor(distance_st).cuda()\n",
      "/tmp/ipykernel_464166/2305974174.py:266: UserWarning: To copy construct from a tensor, it is recommended to use sourceTensor.clone().detach() or sourceTensor.clone().detach().requires_grad_(True), rather than torch.tensor(sourceTensor).\n",
      "  ranks_st = torch.tensor(torch.argsort(torch.argsort(distance_st_tensor, dim=1), dim=1), dtype=torch.float, requires_grad=True)\n",
      "/tmp/ipykernel_464166/2305974174.py:292: UserWarning: To copy construct from a tensor, it is recommended to use sourceTensor.clone().detach() or sourceTensor.clone().detach().requires_grad_(True), rather than torch.tensor(sourceTensor).\n",
      "  distance_st2_tensor = torch.tensor(distance_st2).cuda()\n",
      "/tmp/ipykernel_464166/2305974174.py:296: UserWarning: To copy construct from a tensor, it is recommended to use sourceTensor.clone().detach() or sourceTensor.clone().detach().requires_grad_(True), rather than torch.tensor(sourceTensor).\n",
      "  rankings = torch.tensor(torch.argsort(torch.argsort(distance_st2_tensor, dim=1), dim=1), dtype=torch.float, requires_grad=True)\n"
     ]
    },
    {
     "name": "stdout",
     "output_type": "stream",
     "text": [
      "Iteration [429000/445790], Entire Loss: 16476.69140625, Original: 433.708984375, Regularization 1: 16038.1005859375, Regularization 2: 4.882999897003174\n",
      "Computing R2 score using existing 'annotation' column in spatial dataset...\n",
      "This helps validate that the previously provided annotation is valid.\n",
      "Optimization terminated successfully.\n",
      "         Current function value: 0.970272\n",
      "         Iterations 10\n",
      "McFadden's R-squared redeconve annotation: 0.2693\n"
     ]
    },
    {
     "name": "stderr",
     "output_type": "stream",
     "text": [
      "/tmp/ipykernel_464166/2305974174.py:262: UserWarning: To copy construct from a tensor, it is recommended to use sourceTensor.clone().detach() or sourceTensor.clone().detach().requires_grad_(True), rather than torch.tensor(sourceTensor).\n",
      "  distance_st_tensor = torch.tensor(distance_st).cuda()\n",
      "/tmp/ipykernel_464166/2305974174.py:266: UserWarning: To copy construct from a tensor, it is recommended to use sourceTensor.clone().detach() or sourceTensor.clone().detach().requires_grad_(True), rather than torch.tensor(sourceTensor).\n",
      "  ranks_st = torch.tensor(torch.argsort(torch.argsort(distance_st_tensor, dim=1), dim=1), dtype=torch.float, requires_grad=True)\n",
      "/tmp/ipykernel_464166/2305974174.py:292: UserWarning: To copy construct from a tensor, it is recommended to use sourceTensor.clone().detach() or sourceTensor.clone().detach().requires_grad_(True), rather than torch.tensor(sourceTensor).\n",
      "  distance_st2_tensor = torch.tensor(distance_st2).cuda()\n",
      "/tmp/ipykernel_464166/2305974174.py:296: UserWarning: To copy construct from a tensor, it is recommended to use sourceTensor.clone().detach() or sourceTensor.clone().detach().requires_grad_(True), rather than torch.tensor(sourceTensor).\n",
      "  rankings = torch.tensor(torch.argsort(torch.argsort(distance_st2_tensor, dim=1), dim=1), dtype=torch.float, requires_grad=True)\n"
     ]
    },
    {
     "name": "stdout",
     "output_type": "stream",
     "text": [
      "Iteration [432000/445790], Entire Loss: 16492.28515625, Original: 433.68359375, Regularization 1: 16053.7001953125, Regularization 2: 4.901500225067139\n",
      "Computing R2 score using existing 'annotation' column in spatial dataset...\n",
      "This helps validate that the previously provided annotation is valid.\n",
      "Optimization terminated successfully.\n",
      "         Current function value: 0.971245\n",
      "         Iterations 10\n",
      "McFadden's R-squared redeconve annotation: 0.2686\n"
     ]
    },
    {
     "name": "stderr",
     "output_type": "stream",
     "text": [
      "/tmp/ipykernel_464166/2305974174.py:262: UserWarning: To copy construct from a tensor, it is recommended to use sourceTensor.clone().detach() or sourceTensor.clone().detach().requires_grad_(True), rather than torch.tensor(sourceTensor).\n",
      "  distance_st_tensor = torch.tensor(distance_st).cuda()\n",
      "/tmp/ipykernel_464166/2305974174.py:266: UserWarning: To copy construct from a tensor, it is recommended to use sourceTensor.clone().detach() or sourceTensor.clone().detach().requires_grad_(True), rather than torch.tensor(sourceTensor).\n",
      "  ranks_st = torch.tensor(torch.argsort(torch.argsort(distance_st_tensor, dim=1), dim=1), dtype=torch.float, requires_grad=True)\n",
      "/tmp/ipykernel_464166/2305974174.py:292: UserWarning: To copy construct from a tensor, it is recommended to use sourceTensor.clone().detach() or sourceTensor.clone().detach().requires_grad_(True), rather than torch.tensor(sourceTensor).\n",
      "  distance_st2_tensor = torch.tensor(distance_st2).cuda()\n",
      "/tmp/ipykernel_464166/2305974174.py:296: UserWarning: To copy construct from a tensor, it is recommended to use sourceTensor.clone().detach() or sourceTensor.clone().detach().requires_grad_(True), rather than torch.tensor(sourceTensor).\n",
      "  rankings = torch.tensor(torch.argsort(torch.argsort(distance_st2_tensor, dim=1), dim=1), dtype=torch.float, requires_grad=True)\n"
     ]
    },
    {
     "name": "stdout",
     "output_type": "stream",
     "text": [
      "Iteration [435000/445790], Entire Loss: 16503.046875, Original: 433.6583251953125, Regularization 1: 16064.5, Regularization 2: 4.888499736785889\n",
      "Computing R2 score using existing 'annotation' column in spatial dataset...\n",
      "This helps validate that the previously provided annotation is valid.\n",
      "Optimization terminated successfully.\n",
      "         Current function value: 0.972346\n",
      "         Iterations 10\n",
      "McFadden's R-squared redeconve annotation: 0.2678\n"
     ]
    },
    {
     "name": "stderr",
     "output_type": "stream",
     "text": [
      "/tmp/ipykernel_464166/2305974174.py:262: UserWarning: To copy construct from a tensor, it is recommended to use sourceTensor.clone().detach() or sourceTensor.clone().detach().requires_grad_(True), rather than torch.tensor(sourceTensor).\n",
      "  distance_st_tensor = torch.tensor(distance_st).cuda()\n",
      "/tmp/ipykernel_464166/2305974174.py:266: UserWarning: To copy construct from a tensor, it is recommended to use sourceTensor.clone().detach() or sourceTensor.clone().detach().requires_grad_(True), rather than torch.tensor(sourceTensor).\n",
      "  ranks_st = torch.tensor(torch.argsort(torch.argsort(distance_st_tensor, dim=1), dim=1), dtype=torch.float, requires_grad=True)\n",
      "/tmp/ipykernel_464166/2305974174.py:292: UserWarning: To copy construct from a tensor, it is recommended to use sourceTensor.clone().detach() or sourceTensor.clone().detach().requires_grad_(True), rather than torch.tensor(sourceTensor).\n",
      "  distance_st2_tensor = torch.tensor(distance_st2).cuda()\n",
      "/tmp/ipykernel_464166/2305974174.py:296: UserWarning: To copy construct from a tensor, it is recommended to use sourceTensor.clone().detach() or sourceTensor.clone().detach().requires_grad_(True), rather than torch.tensor(sourceTensor).\n",
      "  rankings = torch.tensor(torch.argsort(torch.argsort(distance_st2_tensor, dim=1), dim=1), dtype=torch.float, requires_grad=True)\n"
     ]
    },
    {
     "name": "stdout",
     "output_type": "stream",
     "text": [
      "Iteration [438000/445790], Entire Loss: 16509.712890625, Original: 433.63323974609375, Regularization 1: 16071.2001953125, Regularization 2: 4.878499984741211\n",
      "Computing R2 score using existing 'annotation' column in spatial dataset...\n",
      "This helps validate that the previously provided annotation is valid.\n",
      "Optimization terminated successfully.\n",
      "         Current function value: 0.973538\n",
      "         Iterations 10\n",
      "McFadden's R-squared redeconve annotation: 0.2669\n"
     ]
    },
    {
     "name": "stderr",
     "output_type": "stream",
     "text": [
      "/tmp/ipykernel_464166/2305974174.py:262: UserWarning: To copy construct from a tensor, it is recommended to use sourceTensor.clone().detach() or sourceTensor.clone().detach().requires_grad_(True), rather than torch.tensor(sourceTensor).\n",
      "  distance_st_tensor = torch.tensor(distance_st).cuda()\n",
      "/tmp/ipykernel_464166/2305974174.py:266: UserWarning: To copy construct from a tensor, it is recommended to use sourceTensor.clone().detach() or sourceTensor.clone().detach().requires_grad_(True), rather than torch.tensor(sourceTensor).\n",
      "  ranks_st = torch.tensor(torch.argsort(torch.argsort(distance_st_tensor, dim=1), dim=1), dtype=torch.float, requires_grad=True)\n",
      "/tmp/ipykernel_464166/2305974174.py:292: UserWarning: To copy construct from a tensor, it is recommended to use sourceTensor.clone().detach() or sourceTensor.clone().detach().requires_grad_(True), rather than torch.tensor(sourceTensor).\n",
      "  distance_st2_tensor = torch.tensor(distance_st2).cuda()\n",
      "/tmp/ipykernel_464166/2305974174.py:296: UserWarning: To copy construct from a tensor, it is recommended to use sourceTensor.clone().detach() or sourceTensor.clone().detach().requires_grad_(True), rather than torch.tensor(sourceTensor).\n",
      "  rankings = torch.tensor(torch.argsort(torch.argsort(distance_st2_tensor, dim=1), dim=1), dtype=torch.float, requires_grad=True)\n"
     ]
    },
    {
     "name": "stdout",
     "output_type": "stream",
     "text": [
      "Iteration [441000/445790], Entire Loss: 16514.490234375, Original: 433.6083068847656, Regularization 1: 16076.0, Regularization 2: 4.882999897003174\n",
      "Computing R2 score using existing 'annotation' column in spatial dataset...\n",
      "This helps validate that the previously provided annotation is valid.\n",
      "Optimization terminated successfully.\n",
      "         Current function value: 0.974796\n",
      "         Iterations 10\n",
      "McFadden's R-squared redeconve annotation: 0.2659\n"
     ]
    },
    {
     "name": "stderr",
     "output_type": "stream",
     "text": [
      "/tmp/ipykernel_464166/2305974174.py:262: UserWarning: To copy construct from a tensor, it is recommended to use sourceTensor.clone().detach() or sourceTensor.clone().detach().requires_grad_(True), rather than torch.tensor(sourceTensor).\n",
      "  distance_st_tensor = torch.tensor(distance_st).cuda()\n",
      "/tmp/ipykernel_464166/2305974174.py:266: UserWarning: To copy construct from a tensor, it is recommended to use sourceTensor.clone().detach() or sourceTensor.clone().detach().requires_grad_(True), rather than torch.tensor(sourceTensor).\n",
      "  ranks_st = torch.tensor(torch.argsort(torch.argsort(distance_st_tensor, dim=1), dim=1), dtype=torch.float, requires_grad=True)\n",
      "/tmp/ipykernel_464166/2305974174.py:292: UserWarning: To copy construct from a tensor, it is recommended to use sourceTensor.clone().detach() or sourceTensor.clone().detach().requires_grad_(True), rather than torch.tensor(sourceTensor).\n",
      "  distance_st2_tensor = torch.tensor(distance_st2).cuda()\n",
      "/tmp/ipykernel_464166/2305974174.py:296: UserWarning: To copy construct from a tensor, it is recommended to use sourceTensor.clone().detach() or sourceTensor.clone().detach().requires_grad_(True), rather than torch.tensor(sourceTensor).\n",
      "  rankings = torch.tensor(torch.argsort(torch.argsort(distance_st2_tensor, dim=1), dim=1), dtype=torch.float, requires_grad=True)\n"
     ]
    },
    {
     "name": "stdout",
     "output_type": "stream",
     "text": [
      "Iteration [444000/445790], Entire Loss: 16528.693359375, Original: 433.5835266113281, Regularization 1: 16090.2001953125, Regularization 2: 4.908999919891357\n",
      "Computing R2 score using existing 'annotation' column in spatial dataset...\n",
      "This helps validate that the previously provided annotation is valid.\n",
      "Optimization terminated successfully.\n",
      "         Current function value: 0.976131\n",
      "         Iterations 10\n",
      "McFadden's R-squared redeconve annotation: 0.2649\n"
     ]
    },
    {
     "name": "stderr",
     "output_type": "stream",
     "text": [
      "/tmp/ipykernel_464166/2305974174.py:262: UserWarning: To copy construct from a tensor, it is recommended to use sourceTensor.clone().detach() or sourceTensor.clone().detach().requires_grad_(True), rather than torch.tensor(sourceTensor).\n",
      "  distance_st_tensor = torch.tensor(distance_st).cuda()\n",
      "/tmp/ipykernel_464166/2305974174.py:266: UserWarning: To copy construct from a tensor, it is recommended to use sourceTensor.clone().detach() or sourceTensor.clone().detach().requires_grad_(True), rather than torch.tensor(sourceTensor).\n",
      "  ranks_st = torch.tensor(torch.argsort(torch.argsort(distance_st_tensor, dim=1), dim=1), dtype=torch.float, requires_grad=True)\n",
      "/tmp/ipykernel_464166/2305974174.py:292: UserWarning: To copy construct from a tensor, it is recommended to use sourceTensor.clone().detach() or sourceTensor.clone().detach().requires_grad_(True), rather than torch.tensor(sourceTensor).\n",
      "  distance_st2_tensor = torch.tensor(distance_st2).cuda()\n",
      "/tmp/ipykernel_464166/2305974174.py:296: UserWarning: To copy construct from a tensor, it is recommended to use sourceTensor.clone().detach() or sourceTensor.clone().detach().requires_grad_(True), rather than torch.tensor(sourceTensor).\n",
      "  rankings = torch.tensor(torch.argsort(torch.argsort(distance_st2_tensor, dim=1), dim=1), dtype=torch.float, requires_grad=True)\n"
     ]
    },
    {
     "name": "stdout",
     "output_type": "stream",
     "text": [
      "Best R2 Score: 0.3343855490565376, achieved at iteration 315000\n"
     ]
    },
    {
     "data": {
      "image/png": "[encoded data removed]",
      "text/plain": [
       "<Figure size 1500x600 with 1 Axes>"
      ]
     },
     "metadata": {},
     "output_type": "display_data"
    }
   ],
   "source": [
    "def plot_accuracy(train_loss):\n",
    "    \"\"\"\n",
    "    Plot the training loss curve.\n",
    "    \n",
    "    Parameters:\n",
    "    -----------\n",
    "    train_loss : list\n",
    "        List of training loss values.\n",
    "    \"\"\"\n",
    "    num_epochs = len(train_loss)\n",
    "    plt.figure(figsize=(15, 6))\n",
    "    plt.plot(np.arange(1, num_epochs+1), train_loss, label='Training loss')\n",
    "    plt.xlabel('Loop')\n",
    "    plt.ylabel('Loss')\n",
    "    plt.legend()\n",
    "    plt.tight_layout()\n",
    "    \n",
    "# Clear GPU memory\n",
    "torch.cuda.empty_cache()\n",
    "\n",
    "def calculate_celltype_embeddings(adata_ref_copy):\n",
    "    \"\"\"\n",
    "    Calculate cell type embeddings based on mean values.\n",
    "    \n",
    "    Parameters:\n",
    "    -----------\n",
    "    adata_ref_copy : AnnData\n",
    "        Reference dataset with cell type annotations.\n",
    "        \n",
    "    Returns:\n",
    "    --------\n",
    "    tuple: (celltype_emb_mean, distance_sc, celltype_gene_matrix_torch)\n",
    "    \"\"\"\n",
    "    # Calculate cell type embeddings based on latent representation means\n",
    "    celltype_emb_mean = []\n",
    "    for celltype_i in adata_ref_copy.obs['celltype'].cat.categories:\n",
    "        celltype_emb_mean.append(list(np.mean(adata_ref_copy.obsm['mus'][adata_ref_copy.obs['celltype'] == celltype_i], axis=0)))\n",
    "    celltype_emb_mean = np.array(celltype_emb_mean)\n",
    "    \n",
    "    # Calculate distance matrix between cell types\n",
    "    distance_sc = squareform(pdist(celltype_emb_mean, 'euclidean'))\n",
    "    distance_sc = torch.tensor(distance_sc, dtype=torch.float)\n",
    "    \n",
    "    # Alternative cell type embedding based on gene expression (faster)\n",
    "    x = []\n",
    "    for celltype_i in adata_ref_copy.obs['celltype'].cat.categories:\n",
    "        x.append(np.mean(adata_ref_copy.X[adata_ref_copy.obs['celltype'] == celltype_i], axis=0))\n",
    "    celltype_gene_matrix_torch = np.vstack(x)\n",
    "    celltype_gene_matrix_torch = torch.Tensor(celltype_gene_matrix_torch)\n",
    "    if torch.cuda.is_available():\n",
    "        celltype_gene_matrix_torch = celltype_gene_matrix_torch.cuda()\n",
    "        \n",
    "    return celltype_emb_mean, distance_sc, celltype_gene_matrix_torch\n",
    "\n",
    "# Calculate cell type embeddings\n",
    "celltype_emb_mean, distance_sc, celltype_gene_matrix_torch = calculate_celltype_embeddings(adata_ref_copy)\n",
    "\n",
    "def find_spatial_neighbors(adata_vis_copy, k=5):\n",
    "    \"\"\"\n",
    "    Find spatial neighbors for each spot.\n",
    "    \n",
    "    Parameters:\n",
    "    -----------\n",
    "    adata_vis_copy : AnnData\n",
    "        Spatial dataset.\n",
    "    k : int\n",
    "        Number of neighbors to find.\n",
    "        \n",
    "    Returns:\n",
    "    --------\n",
    "    numpy.ndarray: Indices of neighbors for each spot.\n",
    "    \"\"\"\n",
    "    N = adata_vis_copy.obsm['spatial'].shape[0]\n",
    "    X = adata_vis_copy.obsm['spatial']\n",
    "    \n",
    "    nbrs = NearestNeighbors(n_neighbors=k, algorithm='auto', metric='euclidean').fit(X)\n",
    "    distances, indices = nbrs.kneighbors(X)\n",
    "    return indices.copy()\n",
    "\n",
    "# Find spatial neighbors\n",
    "neighbors = find_spatial_neighbors(adata_vis_copy, k=5)\n",
    "\n",
    "def estimate_iterations(adata_vis_copy, adata_ref_copy):\n",
    "    \"\"\"\n",
    "    Estimate the number of iterations needed for optimization.\n",
    "    \n",
    "    Parameters:\n",
    "    -----------\n",
    "    adata_vis_copy : AnnData\n",
    "        Spatial dataset.\n",
    "    adata_ref_copy : AnnData\n",
    "        Reference dataset.\n",
    "        \n",
    "    Returns:\n",
    "    --------\n",
    "    int: Estimated number of iterations.\n",
    "    \"\"\"\n",
    "    est_iter = (50 * adata_vis_copy.shape[0] + 10 * adata_vis_copy.shape[1] - \n",
    "                5 * adata_ref_copy.shape[0] + 10000 * len(adata_ref_copy.obs['celltype'].cat.categories))\n",
    "    \n",
    "    if est_iter > 50000:\n",
    "        print(\"it's good to go\")  # make sure the number of iterations is at least 50000\n",
    "    else:\n",
    "        est_iter = 100000\n",
    "        \n",
    "    if est_iter > 100000:\n",
    "        start_range = est_iter - 100000\n",
    "        end_range = est_iter + 100000\n",
    "    else:\n",
    "        start_range = 0\n",
    "        end_range = 250000\n",
    "        \n",
    "    return est_iter, start_range, end_range\n",
    "\n",
    "# Estimate iterations\n",
    "est_iter, start_range, end_range = estimate_iterations(adata_vis_copy, adata_ref_copy)\n",
    "\n",
    "\n",
    "\n",
    "def compute_r2(st_approx_adam_torch):\n",
    "    \"\"\"\n",
    "    Compute R2 score to validate deconvolution results.\n",
    "    \n",
    "    Parameters:\n",
    "    -----------\n",
    "    st_approx_adam_torch : torch.Tensor\n",
    "        Deconvolved spot-cell type matrix.\n",
    "        \n",
    "    Returns:\n",
    "    --------\n",
    "    float: McFadden's R-squared value.\n",
    "    \"\"\"\n",
    "    # Check if 'annotation' is available in the spatial dataset\n",
    "    if 'annotation' not in adata_vis.obs.columns:\n",
    "        print(\"Warning: 'annotation' column not found in spatial dataset. Cannot compute R2 score.\")\n",
    "        return None\n",
    "    \n",
    "    print(\"Computing R2 score using existing 'annotation' column in spatial dataset...\")\n",
    "    print(\"This helps validate that the previously provided annotation is valid.\")\n",
    "    \n",
    "    pca = PCA(n_components=1)\n",
    "    pca.fit(st_approx_adam_torch.T)\n",
    "\n",
    "    # Get the first principal component (PC1)\n",
    "    PC1 = pca.components_[0]\n",
    "\n",
    "    le = preprocessing.LabelEncoder()\n",
    "    label_entire = le.fit_transform(list(adata_vis.obs['annotation']))\n",
    "    X = PC1\n",
    "    model = sm.MNLogit(label_entire, sm.add_constant(X)).fit()\n",
    "    mine_entire_redeannot_mcfadden_r2 = model.prsquared\n",
    "    print(\"McFadden's R-squared redeconve annotation:\", round(mine_entire_redeannot_mcfadden_r2, 4))\n",
    "    return mine_entire_redeannot_mcfadden_r2\n",
    "\n",
    "set_seed(seed)\n",
    "\n",
    "def softmax_rank(x):\n",
    "    \"\"\"\n",
    "    Calculate soft ranks using softmax transformation.\n",
    "    \n",
    "    Parameters:\n",
    "    -----------\n",
    "    x : torch.Tensor\n",
    "        Input tensor.\n",
    "        \n",
    "    Returns:\n",
    "    --------\n",
    "    torch.Tensor: Soft ranks.\n",
    "    \"\"\"\n",
    "    # Normalize input by maximum value\n",
    "    x_shifted = x / x.max(dim=-1, keepdim=True).values\n",
    "    # Apply exponential transformation with large base for sharper distinctions\n",
    "    exp_x = torch.pow(1024, x_shifted)\n",
    "    # Apply softmax to get probability distribution\n",
    "    soft_ranks = exp_x / exp_x.sum(dim=-1, keepdim=True)\n",
    "    # Scale by input dimension\n",
    "    return x.shape[1] * soft_ranks\n",
    "\n",
    "def set_optimization_options(regularization_option=1, iteration_option=3, user_defined_iterations=None, \n",
    "                            similarity_weight=0.0, celltype_distance_weight=0.0):\n",
    "    \"\"\"\n",
    "    Set optimization options for the deconvolution process.\n",
    "    \n",
    "    Parameters:\n",
    "    -----------\n",
    "    regularization_option : int (1, 2, or 3)\n",
    "        Option 1: Fastest (just Frobenius norm, no regularization)\n",
    "        Option 2: Simple regularization with argsort (faster)\n",
    "        Option 3: Sophisticated regularization with softmax (slower but potentially better)\n",
    "    \n",
    "    iteration_option : int (1, 2, or 3)\n",
    "        Option 1: Use estimated iterations (est_iter)\n",
    "        Option 2: Use range-based iterations (end_range)\n",
    "        Option 3: Use user-defined iterations\n",
    "    \n",
    "    user_defined_iterations : int\n",
    "        Number of iterations if iteration_option is 3\n",
    "        \n",
    "    similarity_weight : float\n",
    "        Weight for similarity loss (should be 0 for regularization_option=1)\n",
    "        \n",
    "    celltype_distance_weight : float\n",
    "        Weight for celltype distance loss (should be 0 for regularization_option=1)\n",
    "    \n",
    "    Returns:\n",
    "    --------\n",
    "    dict: Dictionary containing all optimization options\n",
    "    \"\"\"\n",
    "    # If regularization_option is 1, force weights to be 0\n",
    "    if regularization_option == 1:\n",
    "        similarity_weight = 0.0\n",
    "        celltype_distance_weight = 0.0\n",
    "    \n",
    "    return {\n",
    "        'regularization_option': regularization_option,\n",
    "        'iteration_option': iteration_option,\n",
    "        'user_defined_iterations': user_defined_iterations if user_defined_iterations else 250000,\n",
    "        'similarity_weight': similarity_weight,\n",
    "        'celltype_distance_weight': celltype_distance_weight\n",
    "    }\n",
    "\n",
    "def custom_loss(A, B, C, D, iteration, similarity_weight, celltype_distance_weight, regularization_option, ranks_sc=None):\n",
    "    \"\"\"\n",
    "    Custom loss function for deconvolution optimization.\n",
    "    \n",
    "    Parameters:\n",
    "    -----------\n",
    "    A : torch.Tensor\n",
    "        Spatial transcriptomics data.\n",
    "    B : torch.Tensor\n",
    "        Spatial transcriptomics embeddings.\n",
    "    C : torch.Tensor\n",
    "        Spot-celltype matrix (to be optimized).\n",
    "    D : torch.Tensor\n",
    "        Celltype-gene matrix.\n",
    "    iteration : int\n",
    "        Current iteration.\n",
    "    similarity_weight : float\n",
    "        Weight for similarity loss.\n",
    "    celltype_distance_weight : float\n",
    "        Weight for celltype distance loss.\n",
    "    regularization_option : int\n",
    "        Regularization option (1, 2, or 3).\n",
    "    ranks_sc : torch.Tensor\n",
    "        Cell type distance ranks.\n",
    "        \n",
    "    Returns:\n",
    "    --------\n",
    "    tuple: (total_loss, BC, celltype_distance_loss, similarity_loss, frobenius_loss)\n",
    "    \"\"\"\n",
    "    device = torch.device('cuda' if torch.cuda.is_available() else 'cpu')\n",
    "    \n",
    "    # Calculate ranks_st and celltype_distance_loss based on regularization_option\n",
    "    if regularization_option == 1:\n",
    "        # Option 1: Skip ranks_st calculation entirely for fastest computation\n",
    "        ranks_st = None\n",
    "        celltype_distance_loss = torch.tensor(0.0, device=device)\n",
    "    elif regularization_option == 2:\n",
    "        # Option 2: Simple regularization with argsort\n",
    "        distance_st = torch.norm(C.T.float()[:,None] - C.T.float(), dim=2, p=2)\n",
    "        if torch.cuda.is_available():\n",
    "            distance_st_tensor = torch.tensor(distance_st).cuda()\n",
    "        else:\n",
    "            distance_st_tensor = torch.tensor(distance_st)\n",
    "            \n",
    "        ranks_st = torch.tensor(torch.argsort(torch.argsort(distance_st_tensor, dim=1), dim=1), dtype=torch.float, requires_grad=True)\n",
    "        celltype_distance_loss = F.mse_loss(ranks_sc.float(), ranks_st.float())\n",
    "    elif regularization_option == 3:\n",
    "        # Option 3: Sophisticated regularization with softmax_rank\n",
    "        distance_st = torch.norm(C.T.float()[:,None] - C.T.float(), dim=2, p=2)\n",
    "        if torch.cuda.is_available():\n",
    "            ranks_st = softmax_rank(distance_st.cuda())\n",
    "        else:\n",
    "            ranks_st = softmax_rank(torch.tensor(distance_st))\n",
    "        celltype_distance_loss = F.mse_loss(ranks_sc.float(), ranks_st.float())\n",
    "    \n",
    "    BC = torch.mm(B, C)\n",
    "    \n",
    "    base = 1.001 \n",
    "    BC = torch.pow(base, BC) / torch.max(torch.pow(base, BC))\n",
    "    \n",
    "    predicted_A = torch.mm(BC, D)\n",
    "    \n",
    "    # Calculate similarity_loss based on regularization_option\n",
    "    if regularization_option == 1:\n",
    "        # Option 1: Skip similarity_loss calculation entirely\n",
    "        similarity_loss = torch.tensor(0.0, device=device)\n",
    "    elif regularization_option == 2:\n",
    "        # Option 2: Simple regularization with argsort\n",
    "        distance_st2 = torch.norm(BC.float()[:,None] - BC.float(), dim=2, p=2)\n",
    "        if torch.cuda.is_available():\n",
    "            distance_st2_tensor = torch.tensor(distance_st2).cuda()\n",
    "        else:\n",
    "            distance_st2_tensor = torch.tensor(distance_st2)\n",
    "            \n",
    "        rankings = torch.tensor(torch.argsort(torch.argsort(distance_st2_tensor, dim=1), dim=1), dtype=torch.float, requires_grad=True)\n",
    "        similarity_loss = torch.sum(rankings[np.arange(len(neighbors))[:, None], neighbors])\n",
    "    elif regularization_option == 3:\n",
    "        # Option 3: Sophisticated regularization with softmax_rank\n",
    "        distance_st2 = torch.norm(BC.float()[:,None] - BC.float(), dim=2, p=2)\n",
    "        if torch.cuda.is_available():\n",
    "            rankings = softmax_rank(distance_st2.cuda())\n",
    "        else:\n",
    "            rankings = softmax_rank(distance_st2)\n",
    "        similarity_loss = torch.sum(rankings[np.arange(len(neighbors))[:, None], neighbors])\n",
    "    \n",
    "    fro_loss = torch.linalg.norm(A - predicted_A, 'fro')\n",
    "    \n",
    "    loss = (similarity_weight * similarity_loss) + (celltype_distance_weight * celltype_distance_loss) + fro_loss\n",
    "    return loss, BC, celltype_distance_weight * celltype_distance_loss, similarity_weight * similarity_loss, fro_loss\n",
    "\n",
    "train_loss_st_torch = []\n",
    "def adam_st_torch(st, st_emb, spot_celltype, celltype_gene, \n",
    "                regularization_option=1, \n",
    "                iteration_option=3, \n",
    "                user_defined_iterations=None, \n",
    "                similarity_weight=0.0, \n",
    "                celltype_distance_weight=0.0):\n",
    "    \"\"\"\n",
    "    Perform deconvolution using Adam optimizer with customizable optimization options.\n",
    "    \n",
    "    Parameters:\n",
    "    -----------\n",
    "    st : torch.Tensor\n",
    "        Spatial transcriptomics data\n",
    "    st_emb : torch.Tensor\n",
    "        Spatial transcriptomics embeddings\n",
    "    spot_celltype : torch.Tensor\n",
    "        Spot-celltype matrix (to be optimized)\n",
    "    celltype_gene : torch.Tensor\n",
    "        Celltype-gene matrix\n",
    "    regularization_option : int (1, 2, or 3)\n",
    "        Option 1: Fastest (just Frobenius norm, no regularization)\n",
    "        Option 2: Simple regularization with argsort (faster)\n",
    "        Option 3: Sophisticated regularization with softmax (slower but potentially better)\n",
    "    iteration_option : int (1, 2, or 3)\n",
    "        Option 1: Use estimated iterations (est_iter)\n",
    "        Option 2: Use range-based iterations (end_range)\n",
    "        Option 3: Use user-defined iterations\n",
    "    user_defined_iterations : int\n",
    "        Number of iterations if iteration_option is 3\n",
    "    similarity_weight : float\n",
    "        Weight for similarity loss\n",
    "    celltype_distance_weight : float\n",
    "        Weight for celltype distance loss\n",
    "    \n",
    "    Returns:\n",
    "    --------\n",
    "    tuple: (st_approx_adam_torch, best_iteration)\n",
    "    \"\"\"\n",
    "    # Check if CUDA is available\n",
    "    device = torch.device('cuda' if torch.cuda.is_available() else 'cpu')\n",
    "\n",
    "    # Create optimization options from parameters\n",
    "    opt_options = set_optimization_options(\n",
    "        regularization_option=regularization_option,\n",
    "        iteration_option=iteration_option,\n",
    "        user_defined_iterations=user_defined_iterations,\n",
    "        similarity_weight=similarity_weight,\n",
    "        celltype_distance_weight=celltype_distance_weight\n",
    "    )\n",
    "    \n",
    "    # Extract options\n",
    "    regularization_option = opt_options['regularization_option']\n",
    "    iteration_option = opt_options['iteration_option']\n",
    "    user_defined_iterations = opt_options['user_defined_iterations']\n",
    "    similarity_weight = opt_options['similarity_weight']\n",
    "    celltype_distance_weight = opt_options['celltype_distance_weight']\n",
    "\n",
    "    # Process based on selected option\n",
    "    if regularization_option == 1:\n",
    "        # Option 1: Skip ranks_sc calculation entirely for fastest computation\n",
    "        ranks_sc = None  # Will not be used in loss function\n",
    "        print(\"Using Option 1: Fastest computation (Frobenius norm only)\")\n",
    "    elif regularization_option == 2:\n",
    "        # Option 2: Simple regularization with argsort\n",
    "        print(\"Using Option 2: Simple regularization\")\n",
    "        if torch.cuda.is_available():\n",
    "            distance_sc_tensor = torch.tensor(distance_sc).cuda()\n",
    "        else:\n",
    "            distance_sc_tensor = torch.tensor(distance_sc)\n",
    "        \n",
    "        ranks_sc = torch.tensor(torch.argsort(torch.argsort(distance_sc_tensor, dim=1), dim=1), \n",
    "                            dtype=torch.float, requires_grad=True)\n",
    "    elif regularization_option == 3:\n",
    "        # Option 3: Sophisticated regularization with softmax_rank\n",
    "        print(\"Using Option 3: Sophisticated regularization (slower)\")\n",
    "        if torch.cuda.is_available():\n",
    "            ranks_sc = softmax_rank(distance_sc.cuda())\n",
    "        else:\n",
    "            distance_sc_tensor = torch.tensor(distance_sc)\n",
    "            ranks_sc = softmax_rank(distance_sc_tensor)\n",
    "        \n",
    "    # Choose an optimization algorithm (e.g., Adam) and set hyperparameters\n",
    "    learning_rate = 0.001\n",
    "    optimizer = optim.Adam([spot_celltype], lr=learning_rate)\n",
    "    \n",
    "    # Set the number of training iterations based on iteration_option\n",
    "    if iteration_option == 1:\n",
    "        num_iterations = est_iter\n",
    "    elif iteration_option == 2:\n",
    "        num_iterations = end_range\n",
    "    elif iteration_option == 3:\n",
    "        num_iterations = user_defined_iterations\n",
    "    else:\n",
    "        # Default to end_range if option is invalid\n",
    "        num_iterations = 250000\n",
    "\n",
    "    prev_loss = float('inf')\n",
    "    prev_celltypedist_loss = float('inf')\n",
    "    best_r2 = 0\n",
    "    best_iteration = 0\n",
    "    \n",
    "    for iteration in range(num_iterations):\n",
    "        # Compute the loss\n",
    "        loss, BC, celltypedistloss, similarityloss, froloss = custom_loss(st, st_emb, spot_celltype, celltype_gene, iteration, \n",
    "                                                                        similarity_weight, celltype_distance_weight, regularization_option, ranks_sc)\n",
    "            \n",
    "        # Perform backpropagation\n",
    "        optimizer.zero_grad()\n",
    "        loss.backward()\n",
    "        \n",
    "        # Update C using the optimizer\n",
    "        optimizer.step()\n",
    "\n",
    "        prev_celltypedist_loss = celltypedistloss.item()\n",
    "        \n",
    "        prev_loss = loss.item()\n",
    "        train_loss_st_torch.append(loss.item())\n",
    "        # Print the loss at regular intervals\n",
    "        if (iteration + 1) % 3000 == 0:\n",
    "            # Only print once for each interval\n",
    "            if iteration_option != 2:\n",
    "                print(f\"Iteration [{iteration + 1}/{num_iterations}], Entire Loss: {loss.item()}, Original: {froloss.item()}, Regularization 1: {similarityloss.item()}, Regularization 2: {celltypedistloss.item()}\")\n",
    "            \n",
    "            # For iteration_option 2, compute R2 and track best performance\n",
    "            if iteration_option == 2 and start_range <= iteration <= end_range:\n",
    "                print(f\"Iteration [{iteration + 1}/{num_iterations}], Entire Loss: {loss.item()}, Original: {froloss.item()}, Regularization 1: {similarityloss.item()}, Regularization 2: {celltypedistloss.item()}\")\n",
    "                \n",
    "                # Compute R2 and update best model if improved\n",
    "                r2 = compute_r2(BC.detach().cpu().numpy())\n",
    "                if r2 > best_r2:\n",
    "                    best_r2 = r2\n",
    "                    best_iteration = iteration + 1\n",
    "                    st_approx_adam_torch = BC\n",
    "    if iteration_option == 1 or iteration_option == 3:          \n",
    "        st_approx_adam_torch = BC\n",
    "    \n",
    "    # Print the best R2 score and its corresponding iteration only for iteration_option 2\n",
    "    if iteration_option == 2:\n",
    "        print(f\"Best R2 Score: {best_r2}, achieved at iteration {best_iteration}\")\n",
    "    return st_approx_adam_torch, best_iteration\n",
    "\n",
    "def setup_deconvolution(adata_vis_copy, adata_ref_copy):\n",
    "    \"\"\"\n",
    "    Set up tensors for deconvolution.\n",
    "    \n",
    "    Parameters:\n",
    "    -----------\n",
    "    adata_vis_copy : AnnData\n",
    "        Spatial dataset.\n",
    "    adata_ref_copy : AnnData\n",
    "        Reference dataset.\n",
    "        \n",
    "    Returns:\n",
    "    --------\n",
    "    tuple: (st, st_emb, spot_celltype, celltype_gene_matrix_torch)\n",
    "    \"\"\"\n",
    "    torch.set_printoptions(precision=8)\n",
    "    device = torch.device(\"cuda\" if torch.cuda.is_available() else \"cpu\")\n",
    "    \n",
    "    st = torch.tensor(adata_vis_copy.X.copy(), requires_grad=False).to(device)\n",
    "    st_emb = torch.tensor(adata_vis_copy.obsm['mus'], requires_grad=False).to(device)\n",
    "    spot_celltype = torch.randn(st_emb.shape[1], adata_ref_copy.obs['celltype'].cat.categories.shape[0], requires_grad=True, device=device)\n",
    "    \n",
    "    \n",
    "    _, _, celltype_gene_matrix_torch = calculate_celltype_embeddings(adata_ref_copy)\n",
    "    celltype_gene_matrix_torch = torch.tensor(celltype_gene_matrix_torch, requires_grad=False).to(device)\n",
    "    \n",
    "    return st, st_emb, spot_celltype, celltype_gene_matrix_torch\n",
    "\n",
    "# Set up tensors for deconvolution\n",
    "st, st_emb, spot_celltype, celltype_gene_matrix_torch = setup_deconvolution(adata_vis_copy, adata_ref_copy)\n",
    "\n",
    "# Print instructions for adam_st_torch parameters\n",
    "print(\"adam_st_torch function parameters:\")\n",
    "print(\"  regularization_option: 1 = Fastest (just Frobenius norm, no regularization)\")\n",
    "print(\"                         2 = Simple regularization with argsort (faster)\")\n",
    "print(\"                         3 = Sophisticated regularization with softmax (slower but potentially better)\")\n",
    "print(\"  iteration_option:      1 = Use estimated iterations (est_iter)\")\n",
    "print(\"                         2 = Use range-based iterations (end_range)\")\n",
    "print(\"                         3 = Use user-defined iterations\")\n",
    "print(\"  user_defined_iterations: Number of iterations if iteration_option is 3\")\n",
    "print(\"  similarity_weight:     Weight for similarity loss (should be 0 for regularization_option=1)\")\n",
    "print(\"  celltype_distance_weight: Weight for celltype distance loss (should be 0 for regularization_option=1)\")\n",
    "\n",
    "def run_deconvolution(st, st_emb, spot_celltype, celltype_gene_matrix_torch, \n",
    "                    regularization_option=1, iteration_option=3, \n",
    "                    user_defined_iterations=250000, similarity_weight=0.1, \n",
    "                    celltype_distance_weight=0.1):\n",
    "    \"\"\"\n",
    "    Run deconvolution using adam_st_torch and process results.\n",
    "    \n",
    "    Parameters\n",
    "    ----------\n",
    "    st : torch.Tensor\n",
    "        Spatial transcriptomics data tensor\n",
    "    st_emb : torch.Tensor \n",
    "        Spatial embeddings tensor\n",
    "    spot_celltype : torch.Tensor\n",
    "        Initial spot-celltype tensor\n",
    "    celltype_gene_matrix_torch : torch.Tensor\n",
    "        Celltype-gene matrix tensor\n",
    "    regularization_option : int, optional\n",
    "        Regularization option (1-3), by default 1\n",
    "    iteration_option : int, optional \n",
    "        Iteration option (1-3), by default 3\n",
    "    user_defined_iterations : int, optional\n",
    "        Number of iterations if iteration_option=3, by default 250000\n",
    "    similarity_weight : float, optional\n",
    "        Weight for similarity loss, by default 0.1\n",
    "    celltype_distance_weight : float, optional\n",
    "        Weight for celltype distance loss, by default 0.1\n",
    "        \n",
    "    Returns\n",
    "    -------\n",
    "    tuple\n",
    "        (spot_celltype AnnData object, st_approx_adam_torch array)\n",
    "    \"\"\"\n",
    "    # Run deconvolution\n",
    "    st_approx_adam_torch, bestiteration = adam_st_torch(st, st_emb, spot_celltype, celltype_gene_matrix_torch,\n",
    "                                                    regularization_option=regularization_option,\n",
    "                                                    iteration_option=iteration_option,\n",
    "                                                    user_defined_iterations=user_defined_iterations,\n",
    "                                                    similarity_weight=similarity_weight,\n",
    "                                                    celltype_distance_weight=celltype_distance_weight)\n",
    "    st_approx_adam_torch = st_approx_adam_torch.detach().cpu().numpy()\n",
    "\n",
    "    torch.cuda.empty_cache()\n",
    "\n",
    "    plot_accuracy(train_loss_st_torch)\n",
    "\n",
    "    st_approx_adam_torch_original = st_approx_adam_torch.copy()\n",
    "    st_approx_adam_torch = st_approx_adam_torch / st_approx_adam_torch.sum(axis=1, keepdims=True)\n",
    "\n",
    "    spot_celltype = sc.AnnData(st_approx_adam_torch)\n",
    "    \n",
    "    return spot_celltype, st_approx_adam_torch\n",
    "\n",
    "# Run the deconvolution function\n",
    "spot_celltype, st_approx_adam_torch = run_deconvolution(st, st_emb, spot_celltype, celltype_gene_matrix_torch,\n",
    "                                                    regularization_option=2,\n",
    "                                                    iteration_option=2,\n",
    "                                                    user_defined_iterations=320000,\n",
    "                                                    similarity_weight=0.1,\n",
    "                                                    celltype_distance_weight=0.1)"
   ]
  },
  {
   "cell_type": "code",
   "execution_count": 7,
   "id": "79817907-a243-4414-8220-8258e85270ed",
   "metadata": {},
   "outputs": [
    {
     "name": "stderr",
     "output_type": "stream",
     "text": [
      "No artists with labels found to put in legend.  Note that artists whose label start with an underscore are ignored when legend() is called with no argument.\n"
     ]
    },
    {
     "data": {
      "image/png": "[encoded data removed]",
      "text/plain": [
       "<Figure size 600x600 with 1 Axes>"
      ]
     },
     "metadata": {},
     "output_type": "display_data"
    },
    {
     "data": {
      "image/png": "[encoded data removed]",
      "text/plain": [
       "<Figure size 800x600 with 2 Axes>"
      ]
     },
     "metadata": {},
     "output_type": "display_data"
    },
    {
     "data": {
      "image/png": "[encoded data removed]",
      "text/plain": [
       "<Figure size 1000x1000 with 2 Axes>"
      ]
     },
     "metadata": {},
     "output_type": "display_data"
    }
   ],
   "source": [
    "def plot_spatial_celltype_predictions(spot_celltype, adata_vis_copy, st_approx_adam_torch, adata_ref_copy):\n",
    "    \"\"\"\n",
    "    Plot spatial distribution of predicted cell types.\n",
    "    \n",
    "    Parameters\n",
    "    ----------\n",
    "    spot_celltype : AnnData\n",
    "        AnnData object containing spot-celltype information\n",
    "    adata_vis_copy : AnnData\n",
    "        AnnData object containing spatial data\n",
    "    st_approx_adam_torch : np.ndarray\n",
    "        Spot x cell type proportion matrix\n",
    "    adata_ref_copy : AnnData\n",
    "        Reference AnnData object containing cell type categories\n",
    "        \n",
    "    Returns\n",
    "    -------\n",
    "    None\n",
    "    \"\"\"\n",
    "    # Add spatial coordinates\n",
    "    spot_celltype.obsm['lat'] = adata_vis_copy.obsm['spatial'][:,0]\n",
    "    spot_celltype.obsm['lon'] = adata_vis_copy.obsm['spatial'][:,1]\n",
    "    \n",
    "    if 'annotation' in adata_vis_copy.obs:\n",
    "        spot_celltype.obs['annotation'] = list(adata_vis_copy.obs['annotation'])\n",
    "\n",
    "    # Get most likely cell type for each spot\n",
    "    ind = [] \n",
    "    for row in st_approx_adam_torch:\n",
    "        max_col_pos = np.argmax(row)\n",
    "        ind.append(max_col_pos)\n",
    "    most_likely_celltype = []\n",
    "    for elem in ind:\n",
    "        pred = adata_ref_copy.obs['celltype'].cat.categories[elem]\n",
    "        most_likely_celltype.append(pred)\n",
    "    spot_celltype.obs[\"celltype_pred\"] = most_likely_celltype\n",
    "\n",
    "    # Create plot\n",
    "    plt.figure(figsize=(6, 6))\n",
    "    sns.set_style(\"white\")\n",
    "    sns.despine(trim=False)\n",
    "    plt.tick_params(axis='both', which='major', labelsize=17, bottom=True, left=True)\n",
    "    \n",
    "    ax = plt.gca()\n",
    "    for spine in ax.spines.values():\n",
    "        spine.set_linewidth(2)\n",
    "        \n",
    "    sns.scatterplot(x=spot_celltype.obsm['lat'], \n",
    "                    y=spot_celltype.obsm['lon'], \n",
    "                    hue=spot_celltype.obs[\"celltype_pred\"], \n",
    "                    palette='Paired', \n",
    "                    s=75)\n",
    "    plt.title('DTractor', fontsize=20)\n",
    "    plt.legend(loc='upper right', bbox_to_anchor=(1.7, 1), fontsize=13, markerscale=1.4)\n",
    "    plt.grid(False)\n",
    "\n",
    "def plot_pc1_spatial(spot_celltype, st_approx_adam_torch):\n",
    "    \"\"\"\n",
    "    Plot first principal component of cell type composition in spatial coordinates.\n",
    "    \n",
    "    Parameters\n",
    "    ----------\n",
    "    spot_celltype : AnnData\n",
    "        AnnData object containing spatial coordinates\n",
    "    st_approx_adam_torch : np.ndarray\n",
    "        Spot x cell type proportion matrix\n",
    "        \n",
    "    Returns\n",
    "    -------\n",
    "    None\n",
    "    \"\"\"\n",
    "    pca = PCA(n_components=1)\n",
    "    pca.fit(st_approx_adam_torch.T)\n",
    "    PC1 = pca.components_[0]\n",
    "    plt.figure(figsize=(8, 6))\n",
    "    s = plt.scatter(spot_celltype.obsm['lat'], \n",
    "                spot_celltype.obsm['lon'], \n",
    "                c=PC1, \n",
    "                cmap='Spectral', \n",
    "                s=30)\n",
    "    plt.xlabel('spatial1')\n",
    "    plt.ylabel('spatial2')\n",
    "    plt.title('PC1_celltype_composition_plot')\n",
    "    plt.legend(loc='upper right', bbox_to_anchor=(1, 0.3), fontsize=13)\n",
    "    plt.colorbar(s)\n",
    "\n",
    "def plot_celltype_correlation(st_approx_adam_torch, adata_ref_copy):\n",
    "    \"\"\"\n",
    "    Plot correlation heatmap between cell types.\n",
    "    \n",
    "    Parameters\n",
    "    ----------\n",
    "    st_approx_adam_torch : np.ndarray\n",
    "        Spot x cell type proportion matrix\n",
    "    adata_ref_copy : AnnData\n",
    "        Reference AnnData object containing cell type categories\n",
    "        \n",
    "    Returns\n",
    "    -------\n",
    "    None\n",
    "    \"\"\"\n",
    "    f, ax = plt.subplots(figsize=(10, 10))\n",
    "    corr = pd.DataFrame(st_approx_adam_torch).set_axis(adata_ref_copy.obs['celltype'].cat.categories, axis=1).corr()\n",
    "    sns.heatmap(corr,\n",
    "                cmap=sns.diverging_palette(220, 10, as_cmap=True),\n",
    "                vmin=-1.0, \n",
    "                vmax=1.0,\n",
    "                square=True, \n",
    "                ax=ax)\n",
    "\n",
    "# Run the visualization functions\n",
    "plot_spatial_celltype_predictions(spot_celltype, adata_vis_copy, st_approx_adam_torch, adata_ref_copy)\n",
    "plot_pc1_spatial(spot_celltype, st_approx_adam_torch) \n",
    "plot_celltype_correlation(st_approx_adam_torch, adata_ref_copy)\n"
   ]
  },
  {
   "cell_type": "code",
   "execution_count": null,
   "id": "ea4f2829",
   "metadata": {},
   "outputs": [],
   "source": []
  }
 ],
 "metadata": {
  "kernelspec": {
   "display_name": "Python 3",
   "language": "python",
   "name": "python3"
  },
  "language_info": {
   "codemirror_mode": {
    "name": "ipython",
    "version": 3
   },
   "file_extension": ".py",
   "mimetype": "text/x-python",
   "name": "python",
   "nbconvert_exporter": "python",
   "pygments_lexer": "ipython3",
   "version": "3.9.12"
  }
 },
 "nbformat": 4,
 "nbformat_minor": 5
}
